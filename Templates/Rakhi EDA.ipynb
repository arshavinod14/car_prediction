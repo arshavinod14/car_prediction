{
 "cells": [
  {
   "cell_type": "code",
   "execution_count": 50,
   "id": "f196a763",
   "metadata": {},
   "outputs": [],
   "source": [
    "import pandas as pd\n",
    "import matplotlib.pyplot as plt\n",
    "import matplotlib_inline\n",
    "from urllib.request import urlretrieve\n",
    "import numpy as np\n",
    "matplotlib_inline\n",
    "import opendatasets\n",
    "from importlib import reload\n",
    "plt=reload(plt)"
   ]
  },
  {
   "cell_type": "code",
   "execution_count": 9,
   "id": "b42d4481",
   "metadata": {},
   "outputs": [],
   "source": [
    "import opendatasets as od\n",
    "from datetime import date"
   ]
  },
  {
   "cell_type": "code",
   "execution_count": 10,
   "id": "8ee97a48",
   "metadata": {},
   "outputs": [
    {
     "data": {
      "text/html": [
       "<div>\n",
       "<style scoped>\n",
       "    .dataframe tbody tr th:only-of-type {\n",
       "        vertical-align: middle;\n",
       "    }\n",
       "\n",
       "    .dataframe tbody tr th {\n",
       "        vertical-align: top;\n",
       "    }\n",
       "\n",
       "    .dataframe thead th {\n",
       "        text-align: right;\n",
       "    }\n",
       "</style>\n",
       "<table border=\"1\" class=\"dataframe\">\n",
       "  <thead>\n",
       "    <tr style=\"text-align: right;\">\n",
       "      <th></th>\n",
       "      <th>Date</th>\n",
       "      <th>Symbol</th>\n",
       "      <th>Series</th>\n",
       "      <th>Prev Close</th>\n",
       "      <th>Open</th>\n",
       "      <th>High</th>\n",
       "      <th>Low</th>\n",
       "      <th>Last</th>\n",
       "      <th>Close</th>\n",
       "      <th>VWAP</th>\n",
       "      <th>Volume</th>\n",
       "      <th>Turnover</th>\n",
       "      <th>Trades</th>\n",
       "      <th>Deliverable Volume</th>\n",
       "      <th>%Deliverble</th>\n",
       "    </tr>\n",
       "  </thead>\n",
       "  <tbody>\n",
       "    <tr>\n",
       "      <th>0</th>\n",
       "      <td>2000-01-03</td>\n",
       "      <td>TELCO</td>\n",
       "      <td>EQ</td>\n",
       "      <td>201.60</td>\n",
       "      <td>207.4</td>\n",
       "      <td>217.25</td>\n",
       "      <td>207.4</td>\n",
       "      <td>217.0</td>\n",
       "      <td>216.75</td>\n",
       "      <td>214.28</td>\n",
       "      <td>676126</td>\n",
       "      <td>1.448775e+13</td>\n",
       "      <td>NaN</td>\n",
       "      <td>NaN</td>\n",
       "      <td>NaN</td>\n",
       "    </tr>\n",
       "    <tr>\n",
       "      <th>1</th>\n",
       "      <td>2000-01-04</td>\n",
       "      <td>TELCO</td>\n",
       "      <td>EQ</td>\n",
       "      <td>216.75</td>\n",
       "      <td>217.0</td>\n",
       "      <td>219.00</td>\n",
       "      <td>206.0</td>\n",
       "      <td>211.9</td>\n",
       "      <td>208.20</td>\n",
       "      <td>209.50</td>\n",
       "      <td>679215</td>\n",
       "      <td>1.422962e+13</td>\n",
       "      <td>NaN</td>\n",
       "      <td>NaN</td>\n",
       "      <td>NaN</td>\n",
       "    </tr>\n",
       "    <tr>\n",
       "      <th>2</th>\n",
       "      <td>2000-01-05</td>\n",
       "      <td>TELCO</td>\n",
       "      <td>EQ</td>\n",
       "      <td>208.20</td>\n",
       "      <td>194.0</td>\n",
       "      <td>217.80</td>\n",
       "      <td>194.0</td>\n",
       "      <td>213.1</td>\n",
       "      <td>213.25</td>\n",
       "      <td>210.33</td>\n",
       "      <td>1120951</td>\n",
       "      <td>2.357684e+13</td>\n",
       "      <td>NaN</td>\n",
       "      <td>NaN</td>\n",
       "      <td>NaN</td>\n",
       "    </tr>\n",
       "    <tr>\n",
       "      <th>3</th>\n",
       "      <td>2000-01-06</td>\n",
       "      <td>TELCO</td>\n",
       "      <td>EQ</td>\n",
       "      <td>213.25</td>\n",
       "      <td>215.0</td>\n",
       "      <td>229.90</td>\n",
       "      <td>215.0</td>\n",
       "      <td>222.0</td>\n",
       "      <td>222.10</td>\n",
       "      <td>225.29</td>\n",
       "      <td>1968998</td>\n",
       "      <td>4.435932e+13</td>\n",
       "      <td>NaN</td>\n",
       "      <td>NaN</td>\n",
       "      <td>NaN</td>\n",
       "    </tr>\n",
       "    <tr>\n",
       "      <th>4</th>\n",
       "      <td>2000-01-07</td>\n",
       "      <td>TELCO</td>\n",
       "      <td>EQ</td>\n",
       "      <td>222.10</td>\n",
       "      <td>224.0</td>\n",
       "      <td>239.90</td>\n",
       "      <td>223.1</td>\n",
       "      <td>239.9</td>\n",
       "      <td>239.90</td>\n",
       "      <td>236.32</td>\n",
       "      <td>2199431</td>\n",
       "      <td>5.197636e+13</td>\n",
       "      <td>NaN</td>\n",
       "      <td>NaN</td>\n",
       "      <td>NaN</td>\n",
       "    </tr>\n",
       "  </tbody>\n",
       "</table>\n",
       "</div>"
      ],
      "text/plain": [
       "         Date Symbol Series  Prev Close   Open    High    Low   Last   Close  \\\n",
       "0  2000-01-03  TELCO     EQ      201.60  207.4  217.25  207.4  217.0  216.75   \n",
       "1  2000-01-04  TELCO     EQ      216.75  217.0  219.00  206.0  211.9  208.20   \n",
       "2  2000-01-05  TELCO     EQ      208.20  194.0  217.80  194.0  213.1  213.25   \n",
       "3  2000-01-06  TELCO     EQ      213.25  215.0  229.90  215.0  222.0  222.10   \n",
       "4  2000-01-07  TELCO     EQ      222.10  224.0  239.90  223.1  239.9  239.90   \n",
       "\n",
       "     VWAP   Volume      Turnover  Trades  Deliverable Volume  %Deliverble  \n",
       "0  214.28   676126  1.448775e+13     NaN                 NaN          NaN  \n",
       "1  209.50   679215  1.422962e+13     NaN                 NaN          NaN  \n",
       "2  210.33  1120951  2.357684e+13     NaN                 NaN          NaN  \n",
       "3  225.29  1968998  4.435932e+13     NaN                 NaN          NaN  \n",
       "4  236.32  2199431  5.197636e+13     NaN                 NaN          NaN  "
      ]
     },
     "execution_count": 10,
     "metadata": {},
     "output_type": "execute_result"
    }
   ],
   "source": [
    "df=pd.read_csv(\"TATAMOTOR.csv\")\n",
    "df.head()"
   ]
  },
  {
   "cell_type": "code",
   "execution_count": 11,
   "id": "b530c67b",
   "metadata": {},
   "outputs": [
    {
     "name": "stdout",
     "output_type": "stream",
     "text": [
      "Requirement already satisfied: pandas_datareader in d:\\new\\lib\\site-packages (0.10.0)\n",
      "Requirement already satisfied: requests>=2.19.0 in c:\\users\\rakhi\\appdata\\roaming\\python\\python39\\site-packages (from pandas_datareader) (2.27.1)\n",
      "Requirement already satisfied: pandas>=0.23 in d:\\new\\lib\\site-packages (from pandas_datareader) (1.3.4)\n",
      "Requirement already satisfied: lxml in d:\\new\\lib\\site-packages (from pandas_datareader) (4.6.3)\n",
      "Requirement already satisfied: pytz>=2017.3 in c:\\users\\rakhi\\appdata\\roaming\\python\\python39\\site-packages (from pandas>=0.23->pandas_datareader) (2021.3)\n",
      "Requirement already satisfied: python-dateutil>=2.7.3 in c:\\users\\rakhi\\appdata\\roaming\\python\\python39\\site-packages (from pandas>=0.23->pandas_datareader) (2.8.2)\n",
      "Requirement already satisfied: numpy>=1.17.3 in c:\\users\\rakhi\\appdata\\roaming\\python\\python39\\site-packages (from pandas>=0.23->pandas_datareader) (1.21.3)\n",
      "Requirement already satisfied: charset-normalizer~=2.0.0 in c:\\users\\rakhi\\appdata\\roaming\\python\\python39\\site-packages (from requests>=2.19.0->pandas_datareader) (2.0.10)\n",
      "Requirement already satisfied: urllib3<1.27,>=1.21.1 in c:\\users\\rakhi\\appdata\\roaming\\python\\python39\\site-packages (from requests>=2.19.0->pandas_datareader) (1.26.8)\n",
      "Requirement already satisfied: certifi>=2017.4.17 in c:\\users\\rakhi\\appdata\\roaming\\python\\python39\\site-packages (from requests>=2.19.0->pandas_datareader) (2021.10.8)\n",
      "Requirement already satisfied: idna<4,>=2.5 in c:\\users\\rakhi\\appdata\\roaming\\python\\python39\\site-packages (from requests>=2.19.0->pandas_datareader) (3.3)\n",
      "Requirement already satisfied: six>=1.5 in c:\\users\\rakhi\\appdata\\roaming\\python\\python39\\site-packages (from python-dateutil>=2.7.3->pandas>=0.23->pandas_datareader) (1.16.0)\n",
      "Note: you may need to restart the kernel to use updated packages.\n"
     ]
    }
   ],
   "source": [
    "pip install pandas_datareader"
   ]
  },
  {
   "cell_type": "code",
   "execution_count": 12,
   "id": "ac4dcea0",
   "metadata": {},
   "outputs": [],
   "source": [
    "start_date = date(2018,3,1)\n",
    "end_date = date.today()"
   ]
  },
  {
   "cell_type": "code",
   "execution_count": 14,
   "id": "669e04ec",
   "metadata": {},
   "outputs": [],
   "source": [
    "df.to_csv(\"TATAMOTOR.csv\")"
   ]
  },
  {
   "cell_type": "code",
   "execution_count": 15,
   "id": "d4961b58",
   "metadata": {},
   "outputs": [
    {
     "data": {
      "text/plain": [
       "<AxesSubplot:>"
      ]
     },
     "execution_count": 15,
     "metadata": {},
     "output_type": "execute_result"
    },
    {
     "data": {
      "image/png": "[encoded data removed]",
      "text/plain": [
       "<Figure size 432x288 with 1 Axes>"
      ]
     },
     "metadata": {
      "needs_background": "light"
     },
     "output_type": "display_data"
    }
   ],
   "source": [
    "df.plot()"
   ]
  },
  {
   "cell_type": "code",
   "execution_count": 16,
   "id": "453e8578",
   "metadata": {},
   "outputs": [
    {
     "data": {
      "text/plain": [
       "<AxesSubplot:>"
      ]
     },
     "execution_count": 16,
     "metadata": {},
     "output_type": "execute_result"
    },
    {
     "data": {
      "image/png": "[encoded data removed]",
      "text/plain": [
       "<Figure size 432x288 with 1 Axes>"
      ]
     },
     "metadata": {
      "needs_background": "light"
     },
     "output_type": "display_data"
    }
   ],
   "source": [
    "df ['Prev Close'].plot()"
   ]
  },
  {
   "cell_type": "markdown",
   "id": "e24039c4",
   "metadata": {},
   "source": [
    "Dates of maximum trading volume "
   ]
  },
  {
   "cell_type": "code",
   "execution_count": 45,
   "id": "3294db74",
   "metadata": {},
   "outputs": [
    {
     "data": {
      "text/plain": [
       "Timestamp('2021-01-12 00:00:00')"
      ]
     },
     "execution_count": 45,
     "metadata": {},
     "output_type": "execute_result"
    }
   ],
   "source": [
    "df['Volume'].idxmax()"
   ]
  },
  {
   "cell_type": "code",
   "execution_count": 46,
   "id": "c26be11d",
   "metadata": {},
   "outputs": [],
   "source": [
    "df['Total Trade']=df['Open']*df['Volume']"
   ]
  },
  {
   "cell_type": "code",
   "execution_count": 51,
   "id": "cd7bcf02",
   "metadata": {},
   "outputs": [
    {
     "data": {
      "text/plain": [
       "Text(0, 0.5, 'Total Trade')"
      ]
     },
     "execution_count": 51,
     "metadata": {},
     "output_type": "execute_result"
    },
    {
     "data": {
      "image/png": "[encoded data removed]",
      "text/plain": [
       "<Figure size 432x288 with 1 Axes>"
      ]
     },
     "metadata": {
      "needs_background": "light"
     },
     "output_type": "display_data"
    }
   ],
   "source": [
    "df['Total Trade'].plot(label='TATAMOTOR.csv')\n",
    "plt.legend()\n",
    "plt.ylabel('Total Trade')"
   ]
  },
  {
   "cell_type": "markdown",
   "id": "b619fff0",
   "metadata": {},
   "source": [
    " Basic Financial Analysis- Comparing Daily returns and plotting for relationships."
   ]
  },
  {
   "cell_type": "code",
   "execution_count": 53,
   "id": "8411c814",
   "metadata": {},
   "outputs": [],
   "source": [
    "df['simple_return']=(df['Prev Close']/df['Prev Close'].shift(1))-1"
   ]
  },
  {
   "cell_type": "code",
   "execution_count": 54,
   "id": "0c05b337",
   "metadata": {},
   "outputs": [
    {
     "data": {
      "text/html": [
       "<div>\n",
       "<style scoped>\n",
       "    .dataframe tbody tr th:only-of-type {\n",
       "        vertical-align: middle;\n",
       "    }\n",
       "\n",
       "    .dataframe tbody tr th {\n",
       "        vertical-align: top;\n",
       "    }\n",
       "\n",
       "    .dataframe thead th {\n",
       "        text-align: right;\n",
       "    }\n",
       "</style>\n",
       "<table border=\"1\" class=\"dataframe\">\n",
       "  <thead>\n",
       "    <tr style=\"text-align: right;\">\n",
       "      <th></th>\n",
       "      <th>Prev Close</th>\n",
       "      <th>Open</th>\n",
       "      <th>High</th>\n",
       "      <th>Low</th>\n",
       "      <th>Last</th>\n",
       "      <th>Close</th>\n",
       "      <th>Volume</th>\n",
       "      <th>Daily_percentage_change</th>\n",
       "      <th>Trend</th>\n",
       "      <th>Total Trade</th>\n",
       "      <th>simple_return</th>\n",
       "    </tr>\n",
       "    <tr>\n",
       "      <th>Date</th>\n",
       "      <th></th>\n",
       "      <th></th>\n",
       "      <th></th>\n",
       "      <th></th>\n",
       "      <th></th>\n",
       "      <th></th>\n",
       "      <th></th>\n",
       "      <th></th>\n",
       "      <th></th>\n",
       "      <th></th>\n",
       "      <th></th>\n",
       "    </tr>\n",
       "  </thead>\n",
       "  <tbody>\n",
       "    <tr>\n",
       "      <th>2000-01-03</th>\n",
       "      <td>201.60</td>\n",
       "      <td>207.4</td>\n",
       "      <td>217.25</td>\n",
       "      <td>207.4</td>\n",
       "      <td>217.0</td>\n",
       "      <td>216.75</td>\n",
       "      <td>676126</td>\n",
       "      <td>7.514881</td>\n",
       "      <td>Bull run</td>\n",
       "      <td>140228532.4</td>\n",
       "      <td>NaN</td>\n",
       "    </tr>\n",
       "    <tr>\n",
       "      <th>2000-01-04</th>\n",
       "      <td>216.75</td>\n",
       "      <td>217.0</td>\n",
       "      <td>219.00</td>\n",
       "      <td>206.0</td>\n",
       "      <td>211.9</td>\n",
       "      <td>208.20</td>\n",
       "      <td>679215</td>\n",
       "      <td>-3.944637</td>\n",
       "      <td>Among top losers</td>\n",
       "      <td>147389655.0</td>\n",
       "      <td>0.075149</td>\n",
       "    </tr>\n",
       "    <tr>\n",
       "      <th>2000-01-05</th>\n",
       "      <td>208.20</td>\n",
       "      <td>194.0</td>\n",
       "      <td>217.80</td>\n",
       "      <td>194.0</td>\n",
       "      <td>213.1</td>\n",
       "      <td>213.25</td>\n",
       "      <td>1120951</td>\n",
       "      <td>2.425552</td>\n",
       "      <td>Positive</td>\n",
       "      <td>217464494.0</td>\n",
       "      <td>-0.039446</td>\n",
       "    </tr>\n",
       "    <tr>\n",
       "      <th>2000-01-06</th>\n",
       "      <td>213.25</td>\n",
       "      <td>215.0</td>\n",
       "      <td>229.90</td>\n",
       "      <td>215.0</td>\n",
       "      <td>222.0</td>\n",
       "      <td>222.10</td>\n",
       "      <td>1968998</td>\n",
       "      <td>4.150059</td>\n",
       "      <td>Among top gainers</td>\n",
       "      <td>423334570.0</td>\n",
       "      <td>0.024256</td>\n",
       "    </tr>\n",
       "    <tr>\n",
       "      <th>2000-01-07</th>\n",
       "      <td>222.10</td>\n",
       "      <td>224.0</td>\n",
       "      <td>239.90</td>\n",
       "      <td>223.1</td>\n",
       "      <td>239.9</td>\n",
       "      <td>239.90</td>\n",
       "      <td>2199431</td>\n",
       "      <td>8.014408</td>\n",
       "      <td>Bull run</td>\n",
       "      <td>492672544.0</td>\n",
       "      <td>0.041501</td>\n",
       "    </tr>\n",
       "  </tbody>\n",
       "</table>\n",
       "</div>"
      ],
      "text/plain": [
       "            Prev Close   Open    High    Low   Last   Close   Volume  \\\n",
       "Date                                                                   \n",
       "2000-01-03      201.60  207.4  217.25  207.4  217.0  216.75   676126   \n",
       "2000-01-04      216.75  217.0  219.00  206.0  211.9  208.20   679215   \n",
       "2000-01-05      208.20  194.0  217.80  194.0  213.1  213.25  1120951   \n",
       "2000-01-06      213.25  215.0  229.90  215.0  222.0  222.10  1968998   \n",
       "2000-01-07      222.10  224.0  239.90  223.1  239.9  239.90  2199431   \n",
       "\n",
       "            Daily_percentage_change              Trend  Total Trade  \\\n",
       "Date                                                                  \n",
       "2000-01-03                 7.514881           Bull run  140228532.4   \n",
       "2000-01-04                -3.944637   Among top losers  147389655.0   \n",
       "2000-01-05                 2.425552           Positive  217464494.0   \n",
       "2000-01-06                 4.150059  Among top gainers  423334570.0   \n",
       "2000-01-07                 8.014408           Bull run  492672544.0   \n",
       "\n",
       "            simple_return  \n",
       "Date                       \n",
       "2000-01-03            NaN  \n",
       "2000-01-04       0.075149  \n",
       "2000-01-05      -0.039446  \n",
       "2000-01-06       0.024256  \n",
       "2000-01-07       0.041501  "
      ]
     },
     "execution_count": 54,
     "metadata": {},
     "output_type": "execute_result"
    }
   ],
   "source": [
    "df.head()"
   ]
  },
  {
   "cell_type": "code",
   "execution_count": 55,
   "id": "fe20ccc8",
   "metadata": {},
   "outputs": [
    {
     "data": {
      "image/png": "[encoded data removed]",
      "text/plain": [
       "<Figure size 432x288 with 1 Axes>"
      ]
     },
     "metadata": {
      "needs_background": "light"
     },
     "output_type": "display_data"
    }
   ],
   "source": [
    "df['simple_return'].hist(bins=100);"
   ]
  },
  {
   "cell_type": "code",
   "execution_count": 56,
   "id": "9e977c22",
   "metadata": {},
   "outputs": [
    {
     "data": {
      "image/png": "[encoded data removed]",
      "text/plain": [
       "<Figure size 432x288 with 1 Axes>"
      ]
     },
     "metadata": {
      "needs_background": "light"
     },
     "output_type": "display_data"
    }
   ],
   "source": [
    "df['simple_return'].hist(bins=50,label='TATAMOTOR',alpha=0.3)\n",
    "plt.legend();"
   ]
  },
  {
   "cell_type": "code",
   "execution_count": 17,
   "id": "f966a009",
   "metadata": {},
   "outputs": [
    {
     "data": {
      "text/plain": [
       "Date                   object\n",
       "Symbol                 object\n",
       "Series                 object\n",
       "Prev Close            float64\n",
       "Open                  float64\n",
       "High                  float64\n",
       "Low                   float64\n",
       "Last                  float64\n",
       "Close                 float64\n",
       "VWAP                  float64\n",
       "Volume                  int64\n",
       "Turnover              float64\n",
       "Trades                float64\n",
       "Deliverable Volume    float64\n",
       "%Deliverble           float64\n",
       "dtype: object"
      ]
     },
     "execution_count": 17,
     "metadata": {},
     "output_type": "execute_result"
    }
   ],
   "source": [
    "df.dtypes"
   ]
  },
  {
   "cell_type": "code",
   "execution_count": 18,
   "id": "23459564",
   "metadata": {},
   "outputs": [
    {
     "data": {
      "text/plain": [
       "Date                     0\n",
       "Symbol                   0\n",
       "Series                   0\n",
       "Prev Close               0\n",
       "Open                     0\n",
       "High                     0\n",
       "Low                      0\n",
       "Last                     0\n",
       "Close                    0\n",
       "VWAP                     0\n",
       "Volume                   0\n",
       "Turnover                 0\n",
       "Trades                2850\n",
       "Deliverable Volume     514\n",
       "%Deliverble            514\n",
       "dtype: int64"
      ]
     },
     "execution_count": 18,
     "metadata": {},
     "output_type": "execute_result"
    }
   ],
   "source": [
    "df.isna().sum()"
   ]
  },
  {
   "cell_type": "code",
   "execution_count": 19,
   "id": "00a10480",
   "metadata": {},
   "outputs": [
    {
     "data": {
      "text/plain": [
       "array(['TELCO', 'TATAMOTORS'], dtype=object)"
      ]
     },
     "execution_count": 19,
     "metadata": {},
     "output_type": "execute_result"
    }
   ],
   "source": [
    "df.Symbol.unique()"
   ]
  },
  {
   "cell_type": "code",
   "execution_count": 21,
   "id": "0d1f1c2e",
   "metadata": {},
   "outputs": [
    {
     "data": {
      "text/html": [
       "<div>\n",
       "<style scoped>\n",
       "    .dataframe tbody tr th:only-of-type {\n",
       "        vertical-align: middle;\n",
       "    }\n",
       "\n",
       "    .dataframe tbody tr th {\n",
       "        vertical-align: top;\n",
       "    }\n",
       "\n",
       "    .dataframe thead th {\n",
       "        text-align: right;\n",
       "    }\n",
       "</style>\n",
       "<table border=\"1\" class=\"dataframe\">\n",
       "  <thead>\n",
       "    <tr style=\"text-align: right;\">\n",
       "      <th></th>\n",
       "      <th>Date</th>\n",
       "      <th>Symbol</th>\n",
       "      <th>Series</th>\n",
       "      <th>Prev Close</th>\n",
       "      <th>Open</th>\n",
       "      <th>High</th>\n",
       "      <th>Low</th>\n",
       "      <th>Last</th>\n",
       "      <th>Close</th>\n",
       "      <th>VWAP</th>\n",
       "      <th>Volume</th>\n",
       "      <th>Turnover</th>\n",
       "      <th>Trades</th>\n",
       "      <th>Deliverable Volume</th>\n",
       "      <th>%Deliverble</th>\n",
       "    </tr>\n",
       "  </thead>\n",
       "  <tbody>\n",
       "    <tr>\n",
       "      <th>0</th>\n",
       "      <td>2000-01-03</td>\n",
       "      <td>TELCO</td>\n",
       "      <td>EQ</td>\n",
       "      <td>201.60</td>\n",
       "      <td>207.4</td>\n",
       "      <td>217.25</td>\n",
       "      <td>207.40</td>\n",
       "      <td>217.00</td>\n",
       "      <td>216.75</td>\n",
       "      <td>214.28</td>\n",
       "      <td>676126</td>\n",
       "      <td>1.448775e+13</td>\n",
       "      <td>NaN</td>\n",
       "      <td>NaN</td>\n",
       "      <td>NaN</td>\n",
       "    </tr>\n",
       "    <tr>\n",
       "      <th>1</th>\n",
       "      <td>2000-01-04</td>\n",
       "      <td>TELCO</td>\n",
       "      <td>EQ</td>\n",
       "      <td>216.75</td>\n",
       "      <td>217.0</td>\n",
       "      <td>219.00</td>\n",
       "      <td>206.00</td>\n",
       "      <td>211.90</td>\n",
       "      <td>208.20</td>\n",
       "      <td>209.50</td>\n",
       "      <td>679215</td>\n",
       "      <td>1.422962e+13</td>\n",
       "      <td>NaN</td>\n",
       "      <td>NaN</td>\n",
       "      <td>NaN</td>\n",
       "    </tr>\n",
       "    <tr>\n",
       "      <th>2</th>\n",
       "      <td>2000-01-05</td>\n",
       "      <td>TELCO</td>\n",
       "      <td>EQ</td>\n",
       "      <td>208.20</td>\n",
       "      <td>194.0</td>\n",
       "      <td>217.80</td>\n",
       "      <td>194.00</td>\n",
       "      <td>213.10</td>\n",
       "      <td>213.25</td>\n",
       "      <td>210.33</td>\n",
       "      <td>1120951</td>\n",
       "      <td>2.357684e+13</td>\n",
       "      <td>NaN</td>\n",
       "      <td>NaN</td>\n",
       "      <td>NaN</td>\n",
       "    </tr>\n",
       "    <tr>\n",
       "      <th>3</th>\n",
       "      <td>2000-01-06</td>\n",
       "      <td>TELCO</td>\n",
       "      <td>EQ</td>\n",
       "      <td>213.25</td>\n",
       "      <td>215.0</td>\n",
       "      <td>229.90</td>\n",
       "      <td>215.00</td>\n",
       "      <td>222.00</td>\n",
       "      <td>222.10</td>\n",
       "      <td>225.29</td>\n",
       "      <td>1968998</td>\n",
       "      <td>4.435932e+13</td>\n",
       "      <td>NaN</td>\n",
       "      <td>NaN</td>\n",
       "      <td>NaN</td>\n",
       "    </tr>\n",
       "    <tr>\n",
       "      <th>4</th>\n",
       "      <td>2000-01-07</td>\n",
       "      <td>TELCO</td>\n",
       "      <td>EQ</td>\n",
       "      <td>222.10</td>\n",
       "      <td>224.0</td>\n",
       "      <td>239.90</td>\n",
       "      <td>223.10</td>\n",
       "      <td>239.90</td>\n",
       "      <td>239.90</td>\n",
       "      <td>236.32</td>\n",
       "      <td>2199431</td>\n",
       "      <td>5.197636e+13</td>\n",
       "      <td>NaN</td>\n",
       "      <td>NaN</td>\n",
       "      <td>NaN</td>\n",
       "    </tr>\n",
       "    <tr>\n",
       "      <th>...</th>\n",
       "      <td>...</td>\n",
       "      <td>...</td>\n",
       "      <td>...</td>\n",
       "      <td>...</td>\n",
       "      <td>...</td>\n",
       "      <td>...</td>\n",
       "      <td>...</td>\n",
       "      <td>...</td>\n",
       "      <td>...</td>\n",
       "      <td>...</td>\n",
       "      <td>...</td>\n",
       "      <td>...</td>\n",
       "      <td>...</td>\n",
       "      <td>...</td>\n",
       "      <td>...</td>\n",
       "    </tr>\n",
       "    <tr>\n",
       "      <th>5301</th>\n",
       "      <td>2021-04-26</td>\n",
       "      <td>TATAMOTORS</td>\n",
       "      <td>EQ</td>\n",
       "      <td>294.00</td>\n",
       "      <td>297.0</td>\n",
       "      <td>299.00</td>\n",
       "      <td>294.60</td>\n",
       "      <td>295.85</td>\n",
       "      <td>295.40</td>\n",
       "      <td>296.48</td>\n",
       "      <td>30583139</td>\n",
       "      <td>9.067386e+14</td>\n",
       "      <td>173282.0</td>\n",
       "      <td>3291167.0</td>\n",
       "      <td>0.1076</td>\n",
       "    </tr>\n",
       "    <tr>\n",
       "      <th>5302</th>\n",
       "      <td>2021-04-27</td>\n",
       "      <td>TATAMOTORS</td>\n",
       "      <td>EQ</td>\n",
       "      <td>295.40</td>\n",
       "      <td>295.7</td>\n",
       "      <td>302.50</td>\n",
       "      <td>295.10</td>\n",
       "      <td>302.10</td>\n",
       "      <td>301.50</td>\n",
       "      <td>299.05</td>\n",
       "      <td>35040532</td>\n",
       "      <td>1.047879e+15</td>\n",
       "      <td>191627.0</td>\n",
       "      <td>5215100.0</td>\n",
       "      <td>0.1488</td>\n",
       "    </tr>\n",
       "    <tr>\n",
       "      <th>5303</th>\n",
       "      <td>2021-04-28</td>\n",
       "      <td>TATAMOTORS</td>\n",
       "      <td>EQ</td>\n",
       "      <td>301.50</td>\n",
       "      <td>303.5</td>\n",
       "      <td>309.50</td>\n",
       "      <td>303.00</td>\n",
       "      <td>305.15</td>\n",
       "      <td>305.90</td>\n",
       "      <td>307.22</td>\n",
       "      <td>44668126</td>\n",
       "      <td>1.372278e+15</td>\n",
       "      <td>264159.0</td>\n",
       "      <td>5116568.0</td>\n",
       "      <td>0.1145</td>\n",
       "    </tr>\n",
       "    <tr>\n",
       "      <th>5304</th>\n",
       "      <td>2021-04-29</td>\n",
       "      <td>TATAMOTORS</td>\n",
       "      <td>EQ</td>\n",
       "      <td>305.90</td>\n",
       "      <td>308.9</td>\n",
       "      <td>310.00</td>\n",
       "      <td>301.25</td>\n",
       "      <td>302.20</td>\n",
       "      <td>301.90</td>\n",
       "      <td>304.77</td>\n",
       "      <td>36647292</td>\n",
       "      <td>1.116900e+15</td>\n",
       "      <td>186996.0</td>\n",
       "      <td>4193346.0</td>\n",
       "      <td>0.1144</td>\n",
       "    </tr>\n",
       "    <tr>\n",
       "      <th>5305</th>\n",
       "      <td>2021-04-30</td>\n",
       "      <td>TATAMOTORS</td>\n",
       "      <td>EQ</td>\n",
       "      <td>301.90</td>\n",
       "      <td>298.2</td>\n",
       "      <td>301.30</td>\n",
       "      <td>292.55</td>\n",
       "      <td>293.10</td>\n",
       "      <td>293.85</td>\n",
       "      <td>297.01</td>\n",
       "      <td>36121668</td>\n",
       "      <td>1.072849e+15</td>\n",
       "      <td>227806.0</td>\n",
       "      <td>7898988.0</td>\n",
       "      <td>0.2187</td>\n",
       "    </tr>\n",
       "  </tbody>\n",
       "</table>\n",
       "<p>5306 rows × 15 columns</p>\n",
       "</div>"
      ],
      "text/plain": [
       "            Date      Symbol Series  Prev Close   Open    High     Low  \\\n",
       "0     2000-01-03       TELCO     EQ      201.60  207.4  217.25  207.40   \n",
       "1     2000-01-04       TELCO     EQ      216.75  217.0  219.00  206.00   \n",
       "2     2000-01-05       TELCO     EQ      208.20  194.0  217.80  194.00   \n",
       "3     2000-01-06       TELCO     EQ      213.25  215.0  229.90  215.00   \n",
       "4     2000-01-07       TELCO     EQ      222.10  224.0  239.90  223.10   \n",
       "...          ...         ...    ...         ...    ...     ...     ...   \n",
       "5301  2021-04-26  TATAMOTORS     EQ      294.00  297.0  299.00  294.60   \n",
       "5302  2021-04-27  TATAMOTORS     EQ      295.40  295.7  302.50  295.10   \n",
       "5303  2021-04-28  TATAMOTORS     EQ      301.50  303.5  309.50  303.00   \n",
       "5304  2021-04-29  TATAMOTORS     EQ      305.90  308.9  310.00  301.25   \n",
       "5305  2021-04-30  TATAMOTORS     EQ      301.90  298.2  301.30  292.55   \n",
       "\n",
       "        Last   Close    VWAP    Volume      Turnover    Trades  \\\n",
       "0     217.00  216.75  214.28    676126  1.448775e+13       NaN   \n",
       "1     211.90  208.20  209.50    679215  1.422962e+13       NaN   \n",
       "2     213.10  213.25  210.33   1120951  2.357684e+13       NaN   \n",
       "3     222.00  222.10  225.29   1968998  4.435932e+13       NaN   \n",
       "4     239.90  239.90  236.32   2199431  5.197636e+13       NaN   \n",
       "...      ...     ...     ...       ...           ...       ...   \n",
       "5301  295.85  295.40  296.48  30583139  9.067386e+14  173282.0   \n",
       "5302  302.10  301.50  299.05  35040532  1.047879e+15  191627.0   \n",
       "5303  305.15  305.90  307.22  44668126  1.372278e+15  264159.0   \n",
       "5304  302.20  301.90  304.77  36647292  1.116900e+15  186996.0   \n",
       "5305  293.10  293.85  297.01  36121668  1.072849e+15  227806.0   \n",
       "\n",
       "      Deliverable Volume  %Deliverble  \n",
       "0                    NaN          NaN  \n",
       "1                    NaN          NaN  \n",
       "2                    NaN          NaN  \n",
       "3                    NaN          NaN  \n",
       "4                    NaN          NaN  \n",
       "...                  ...          ...  \n",
       "5301           3291167.0       0.1076  \n",
       "5302           5215100.0       0.1488  \n",
       "5303           5116568.0       0.1145  \n",
       "5304           4193346.0       0.1144  \n",
       "5305           7898988.0       0.2187  \n",
       "\n",
       "[5306 rows x 15 columns]"
      ]
     },
     "execution_count": 21,
     "metadata": {},
     "output_type": "execute_result"
    }
   ],
   "source": [
    "df"
   ]
  },
  {
   "cell_type": "code",
   "execution_count": 23,
   "id": "c0c6cc23",
   "metadata": {},
   "outputs": [],
   "source": [
    "df = df[['Date', 'Prev Close', 'Open', 'High', 'Low', 'Last', 'Close','Volume']]\n"
   ]
  },
  {
   "cell_type": "markdown",
   "id": "08fff1db",
   "metadata": {},
   "source": [
    "We filter the dataframe with columns valuable to us for furthur analysis."
   ]
  },
  {
   "cell_type": "code",
   "execution_count": 24,
   "id": "32928e56",
   "metadata": {},
   "outputs": [
    {
     "data": {
      "text/html": [
       "<div>\n",
       "<style scoped>\n",
       "    .dataframe tbody tr th:only-of-type {\n",
       "        vertical-align: middle;\n",
       "    }\n",
       "\n",
       "    .dataframe tbody tr th {\n",
       "        vertical-align: top;\n",
       "    }\n",
       "\n",
       "    .dataframe thead th {\n",
       "        text-align: right;\n",
       "    }\n",
       "</style>\n",
       "<table border=\"1\" class=\"dataframe\">\n",
       "  <thead>\n",
       "    <tr style=\"text-align: right;\">\n",
       "      <th></th>\n",
       "      <th>Date</th>\n",
       "      <th>Prev Close</th>\n",
       "      <th>Open</th>\n",
       "      <th>High</th>\n",
       "      <th>Low</th>\n",
       "      <th>Last</th>\n",
       "      <th>Close</th>\n",
       "      <th>Volume</th>\n",
       "    </tr>\n",
       "  </thead>\n",
       "  <tbody>\n",
       "    <tr>\n",
       "      <th>0</th>\n",
       "      <td>2000-01-03</td>\n",
       "      <td>201.60</td>\n",
       "      <td>207.4</td>\n",
       "      <td>217.25</td>\n",
       "      <td>207.40</td>\n",
       "      <td>217.00</td>\n",
       "      <td>216.75</td>\n",
       "      <td>676126</td>\n",
       "    </tr>\n",
       "    <tr>\n",
       "      <th>1</th>\n",
       "      <td>2000-01-04</td>\n",
       "      <td>216.75</td>\n",
       "      <td>217.0</td>\n",
       "      <td>219.00</td>\n",
       "      <td>206.00</td>\n",
       "      <td>211.90</td>\n",
       "      <td>208.20</td>\n",
       "      <td>679215</td>\n",
       "    </tr>\n",
       "    <tr>\n",
       "      <th>2</th>\n",
       "      <td>2000-01-05</td>\n",
       "      <td>208.20</td>\n",
       "      <td>194.0</td>\n",
       "      <td>217.80</td>\n",
       "      <td>194.00</td>\n",
       "      <td>213.10</td>\n",
       "      <td>213.25</td>\n",
       "      <td>1120951</td>\n",
       "    </tr>\n",
       "    <tr>\n",
       "      <th>3</th>\n",
       "      <td>2000-01-06</td>\n",
       "      <td>213.25</td>\n",
       "      <td>215.0</td>\n",
       "      <td>229.90</td>\n",
       "      <td>215.00</td>\n",
       "      <td>222.00</td>\n",
       "      <td>222.10</td>\n",
       "      <td>1968998</td>\n",
       "    </tr>\n",
       "    <tr>\n",
       "      <th>4</th>\n",
       "      <td>2000-01-07</td>\n",
       "      <td>222.10</td>\n",
       "      <td>224.0</td>\n",
       "      <td>239.90</td>\n",
       "      <td>223.10</td>\n",
       "      <td>239.90</td>\n",
       "      <td>239.90</td>\n",
       "      <td>2199431</td>\n",
       "    </tr>\n",
       "    <tr>\n",
       "      <th>...</th>\n",
       "      <td>...</td>\n",
       "      <td>...</td>\n",
       "      <td>...</td>\n",
       "      <td>...</td>\n",
       "      <td>...</td>\n",
       "      <td>...</td>\n",
       "      <td>...</td>\n",
       "      <td>...</td>\n",
       "    </tr>\n",
       "    <tr>\n",
       "      <th>5301</th>\n",
       "      <td>2021-04-26</td>\n",
       "      <td>294.00</td>\n",
       "      <td>297.0</td>\n",
       "      <td>299.00</td>\n",
       "      <td>294.60</td>\n",
       "      <td>295.85</td>\n",
       "      <td>295.40</td>\n",
       "      <td>30583139</td>\n",
       "    </tr>\n",
       "    <tr>\n",
       "      <th>5302</th>\n",
       "      <td>2021-04-27</td>\n",
       "      <td>295.40</td>\n",
       "      <td>295.7</td>\n",
       "      <td>302.50</td>\n",
       "      <td>295.10</td>\n",
       "      <td>302.10</td>\n",
       "      <td>301.50</td>\n",
       "      <td>35040532</td>\n",
       "    </tr>\n",
       "    <tr>\n",
       "      <th>5303</th>\n",
       "      <td>2021-04-28</td>\n",
       "      <td>301.50</td>\n",
       "      <td>303.5</td>\n",
       "      <td>309.50</td>\n",
       "      <td>303.00</td>\n",
       "      <td>305.15</td>\n",
       "      <td>305.90</td>\n",
       "      <td>44668126</td>\n",
       "    </tr>\n",
       "    <tr>\n",
       "      <th>5304</th>\n",
       "      <td>2021-04-29</td>\n",
       "      <td>305.90</td>\n",
       "      <td>308.9</td>\n",
       "      <td>310.00</td>\n",
       "      <td>301.25</td>\n",
       "      <td>302.20</td>\n",
       "      <td>301.90</td>\n",
       "      <td>36647292</td>\n",
       "    </tr>\n",
       "    <tr>\n",
       "      <th>5305</th>\n",
       "      <td>2021-04-30</td>\n",
       "      <td>301.90</td>\n",
       "      <td>298.2</td>\n",
       "      <td>301.30</td>\n",
       "      <td>292.55</td>\n",
       "      <td>293.10</td>\n",
       "      <td>293.85</td>\n",
       "      <td>36121668</td>\n",
       "    </tr>\n",
       "  </tbody>\n",
       "</table>\n",
       "<p>5306 rows × 8 columns</p>\n",
       "</div>"
      ],
      "text/plain": [
       "            Date  Prev Close   Open    High     Low    Last   Close    Volume\n",
       "0     2000-01-03      201.60  207.4  217.25  207.40  217.00  216.75    676126\n",
       "1     2000-01-04      216.75  217.0  219.00  206.00  211.90  208.20    679215\n",
       "2     2000-01-05      208.20  194.0  217.80  194.00  213.10  213.25   1120951\n",
       "3     2000-01-06      213.25  215.0  229.90  215.00  222.00  222.10   1968998\n",
       "4     2000-01-07      222.10  224.0  239.90  223.10  239.90  239.90   2199431\n",
       "...          ...         ...    ...     ...     ...     ...     ...       ...\n",
       "5301  2021-04-26      294.00  297.0  299.00  294.60  295.85  295.40  30583139\n",
       "5302  2021-04-27      295.40  295.7  302.50  295.10  302.10  301.50  35040532\n",
       "5303  2021-04-28      301.50  303.5  309.50  303.00  305.15  305.90  44668126\n",
       "5304  2021-04-29      305.90  308.9  310.00  301.25  302.20  301.90  36647292\n",
       "5305  2021-04-30      301.90  298.2  301.30  292.55  293.10  293.85  36121668\n",
       "\n",
       "[5306 rows x 8 columns]"
      ]
     },
     "execution_count": 24,
     "metadata": {},
     "output_type": "execute_result"
    }
   ],
   "source": [
    "df"
   ]
  },
  {
   "cell_type": "code",
   "execution_count": 25,
   "id": "0821a27b",
   "metadata": {},
   "outputs": [],
   "source": [
    "df = df.round(2)"
   ]
  },
  {
   "cell_type": "markdown",
   "id": "35e75926",
   "metadata": {},
   "source": [
    "Since the data is too big we will round the values to two figures so it is easier for us to anayse"
   ]
  },
  {
   "cell_type": "code",
   "execution_count": 26,
   "id": "c2e2462e",
   "metadata": {},
   "outputs": [
    {
     "data": {
      "text/html": [
       "<div>\n",
       "<style scoped>\n",
       "    .dataframe tbody tr th:only-of-type {\n",
       "        vertical-align: middle;\n",
       "    }\n",
       "\n",
       "    .dataframe tbody tr th {\n",
       "        vertical-align: top;\n",
       "    }\n",
       "\n",
       "    .dataframe thead th {\n",
       "        text-align: right;\n",
       "    }\n",
       "</style>\n",
       "<table border=\"1\" class=\"dataframe\">\n",
       "  <thead>\n",
       "    <tr style=\"text-align: right;\">\n",
       "      <th></th>\n",
       "      <th>Date</th>\n",
       "      <th>Prev Close</th>\n",
       "      <th>Open</th>\n",
       "      <th>High</th>\n",
       "      <th>Low</th>\n",
       "      <th>Last</th>\n",
       "      <th>Close</th>\n",
       "      <th>Volume</th>\n",
       "    </tr>\n",
       "  </thead>\n",
       "  <tbody>\n",
       "    <tr>\n",
       "      <th>0</th>\n",
       "      <td>2000-01-03</td>\n",
       "      <td>201.60</td>\n",
       "      <td>207.4</td>\n",
       "      <td>217.25</td>\n",
       "      <td>207.4</td>\n",
       "      <td>217.0</td>\n",
       "      <td>216.75</td>\n",
       "      <td>676126</td>\n",
       "    </tr>\n",
       "    <tr>\n",
       "      <th>1</th>\n",
       "      <td>2000-01-04</td>\n",
       "      <td>216.75</td>\n",
       "      <td>217.0</td>\n",
       "      <td>219.00</td>\n",
       "      <td>206.0</td>\n",
       "      <td>211.9</td>\n",
       "      <td>208.20</td>\n",
       "      <td>679215</td>\n",
       "    </tr>\n",
       "  </tbody>\n",
       "</table>\n",
       "</div>"
      ],
      "text/plain": [
       "         Date  Prev Close   Open    High    Low   Last   Close  Volume\n",
       "0  2000-01-03      201.60  207.4  217.25  207.4  217.0  216.75  676126\n",
       "1  2000-01-04      216.75  217.0  219.00  206.0  211.9  208.20  679215"
      ]
     },
     "execution_count": 26,
     "metadata": {},
     "output_type": "execute_result"
    }
   ],
   "source": [
    "df.head(2)"
   ]
  },
  {
   "cell_type": "code",
   "execution_count": 27,
   "id": "63a694a9",
   "metadata": {},
   "outputs": [
    {
     "data": {
      "text/plain": [
       "(5306, 8)"
      ]
     },
     "execution_count": 27,
     "metadata": {},
     "output_type": "execute_result"
    }
   ],
   "source": [
    "df.shape"
   ]
  },
  {
   "cell_type": "markdown",
   "id": "7561b024",
   "metadata": {},
   "source": [
    "we will see if there are any null values and if we find the values which are null they will be dropped."
   ]
  },
  {
   "cell_type": "code",
   "execution_count": 28,
   "id": "7d0f2662",
   "metadata": {},
   "outputs": [
    {
     "data": {
      "text/plain": [
       "Date          0\n",
       "Prev Close    0\n",
       "Open          0\n",
       "High          0\n",
       "Low           0\n",
       "Last          0\n",
       "Close         0\n",
       "Volume        0\n",
       "dtype: int64"
      ]
     },
     "execution_count": 28,
     "metadata": {},
     "output_type": "execute_result"
    }
   ],
   "source": [
    "df.isnull().sum()"
   ]
  },
  {
   "cell_type": "code",
   "execution_count": 29,
   "id": "03c869f2",
   "metadata": {},
   "outputs": [
    {
     "data": {
      "text/plain": [
       "Date           object\n",
       "Prev Close    float64\n",
       "Open          float64\n",
       "High          float64\n",
       "Low           float64\n",
       "Last          float64\n",
       "Close         float64\n",
       "Volume          int64\n",
       "dtype: object"
      ]
     },
     "execution_count": 29,
     "metadata": {},
     "output_type": "execute_result"
    }
   ],
   "source": [
    "df.dtypes"
   ]
  },
  {
   "cell_type": "code",
   "execution_count": 30,
   "id": "5b04a1e5",
   "metadata": {},
   "outputs": [],
   "source": [
    "df.Date = pd.to_datetime(df.Date)"
   ]
  },
  {
   "cell_type": "markdown",
   "id": "a4f69876",
   "metadata": {},
   "source": [
    "we will next find the number of day of data we are analysing. we simply subtract the minimum value of the date with the max date."
   ]
  },
  {
   "cell_type": "code",
   "execution_count": 31,
   "id": "12543d58",
   "metadata": {},
   "outputs": [
    {
     "data": {
      "text/plain": [
       "Timedelta('7788 days 00:00:00')"
      ]
     },
     "execution_count": 31,
     "metadata": {},
     "output_type": "execute_result"
    }
   ],
   "source": [
    "df['Date'].max() - df['Date'].min()"
   ]
  },
  {
   "cell_type": "markdown",
   "id": "0e625949",
   "metadata": {},
   "source": [
    "we can see, the data for 7788 days will be analysed furthur in this project.\n",
    "\n",
    "we wil use the describe() function to get high-level overview of how the stock has performed in last months"
   ]
  },
  {
   "cell_type": "code",
   "execution_count": 32,
   "id": "8ecec753",
   "metadata": {},
   "outputs": [
    {
     "data": {
      "text/html": [
       "<div>\n",
       "<style scoped>\n",
       "    .dataframe tbody tr th:only-of-type {\n",
       "        vertical-align: middle;\n",
       "    }\n",
       "\n",
       "    .dataframe tbody tr th {\n",
       "        vertical-align: top;\n",
       "    }\n",
       "\n",
       "    .dataframe thead th {\n",
       "        text-align: right;\n",
       "    }\n",
       "</style>\n",
       "<table border=\"1\" class=\"dataframe\">\n",
       "  <thead>\n",
       "    <tr style=\"text-align: right;\">\n",
       "      <th></th>\n",
       "      <th>Prev Close</th>\n",
       "      <th>Open</th>\n",
       "      <th>High</th>\n",
       "      <th>Low</th>\n",
       "      <th>Last</th>\n",
       "      <th>Close</th>\n",
       "      <th>Volume</th>\n",
       "    </tr>\n",
       "  </thead>\n",
       "  <tbody>\n",
       "    <tr>\n",
       "      <th>count</th>\n",
       "      <td>120</td>\n",
       "      <td>120</td>\n",
       "      <td>120</td>\n",
       "      <td>120</td>\n",
       "      <td>120</td>\n",
       "      <td>120</td>\n",
       "      <td>120</td>\n",
       "    </tr>\n",
       "    <tr>\n",
       "      <th>mean</th>\n",
       "      <td>251</td>\n",
       "      <td>253</td>\n",
       "      <td>258</td>\n",
       "      <td>247</td>\n",
       "      <td>253</td>\n",
       "      <td>253</td>\n",
       "      <td>84229670</td>\n",
       "    </tr>\n",
       "    <tr>\n",
       "      <th>std</th>\n",
       "      <td>68</td>\n",
       "      <td>68</td>\n",
       "      <td>69</td>\n",
       "      <td>66</td>\n",
       "      <td>67</td>\n",
       "      <td>67</td>\n",
       "      <td>60528439</td>\n",
       "    </tr>\n",
       "    <tr>\n",
       "      <th>min</th>\n",
       "      <td>134</td>\n",
       "      <td>135</td>\n",
       "      <td>137</td>\n",
       "      <td>134</td>\n",
       "      <td>135</td>\n",
       "      <td>135</td>\n",
       "      <td>11749453</td>\n",
       "    </tr>\n",
       "    <tr>\n",
       "      <th>25%</th>\n",
       "      <td>181</td>\n",
       "      <td>182</td>\n",
       "      <td>185</td>\n",
       "      <td>179</td>\n",
       "      <td>182</td>\n",
       "      <td>182</td>\n",
       "      <td>47920541</td>\n",
       "    </tr>\n",
       "    <tr>\n",
       "      <th>50%</th>\n",
       "      <td>282</td>\n",
       "      <td>288</td>\n",
       "      <td>299</td>\n",
       "      <td>279</td>\n",
       "      <td>286</td>\n",
       "      <td>286</td>\n",
       "      <td>65153348</td>\n",
       "    </tr>\n",
       "    <tr>\n",
       "      <th>75%</th>\n",
       "      <td>312</td>\n",
       "      <td>311</td>\n",
       "      <td>320</td>\n",
       "      <td>304</td>\n",
       "      <td>312</td>\n",
       "      <td>312</td>\n",
       "      <td>94603245</td>\n",
       "    </tr>\n",
       "    <tr>\n",
       "      <th>max</th>\n",
       "      <td>348</td>\n",
       "      <td>348</td>\n",
       "      <td>357</td>\n",
       "      <td>346</td>\n",
       "      <td>347</td>\n",
       "      <td>348</td>\n",
       "      <td>390577839</td>\n",
       "    </tr>\n",
       "  </tbody>\n",
       "</table>\n",
       "</div>"
      ],
      "text/plain": [
       "       Prev Close  Open  High  Low  Last  Close     Volume\n",
       "count         120   120   120  120   120    120        120\n",
       "mean          251   253   258  247   253    253   84229670\n",
       "std            68    68    69   66    67     67   60528439\n",
       "min           134   135   137  134   135    135   11749453\n",
       "25%           181   182   185  179   182    182   47920541\n",
       "50%           282   288   299  279   286    286   65153348\n",
       "75%           312   311   320  304   312    312   94603245\n",
       "max           348   348   357  346   347    348  390577839"
      ]
     },
     "execution_count": 32,
     "metadata": {},
     "output_type": "execute_result"
    }
   ],
   "source": [
    "df.iloc[-120:].describe().astype(int)"
   ]
  },
  {
   "cell_type": "markdown",
   "id": "09d117da",
   "metadata": {},
   "source": [
    "General Variation in the stock price.\n",
    "\n",
    "we set the date column as the index for the dataframe."
   ]
  },
  {
   "cell_type": "code",
   "execution_count": 33,
   "id": "8f5a93b6",
   "metadata": {},
   "outputs": [],
   "source": [
    "df.set_index('Date', inplace=True)"
   ]
  },
  {
   "cell_type": "code",
   "execution_count": 34,
   "id": "5d0362d6",
   "metadata": {},
   "outputs": [
    {
     "data": {
      "text/html": [
       "<div>\n",
       "<style scoped>\n",
       "    .dataframe tbody tr th:only-of-type {\n",
       "        vertical-align: middle;\n",
       "    }\n",
       "\n",
       "    .dataframe tbody tr th {\n",
       "        vertical-align: top;\n",
       "    }\n",
       "\n",
       "    .dataframe thead th {\n",
       "        text-align: right;\n",
       "    }\n",
       "</style>\n",
       "<table border=\"1\" class=\"dataframe\">\n",
       "  <thead>\n",
       "    <tr style=\"text-align: right;\">\n",
       "      <th></th>\n",
       "      <th>Prev Close</th>\n",
       "      <th>Open</th>\n",
       "      <th>High</th>\n",
       "      <th>Low</th>\n",
       "      <th>Last</th>\n",
       "      <th>Close</th>\n",
       "      <th>Volume</th>\n",
       "    </tr>\n",
       "    <tr>\n",
       "      <th>Date</th>\n",
       "      <th></th>\n",
       "      <th></th>\n",
       "      <th></th>\n",
       "      <th></th>\n",
       "      <th></th>\n",
       "      <th></th>\n",
       "      <th></th>\n",
       "    </tr>\n",
       "  </thead>\n",
       "  <tbody>\n",
       "    <tr>\n",
       "      <th>2000-01-03</th>\n",
       "      <td>201.60</td>\n",
       "      <td>207.40</td>\n",
       "      <td>217.25</td>\n",
       "      <td>207.40</td>\n",
       "      <td>217.00</td>\n",
       "      <td>216.75</td>\n",
       "      <td>676126</td>\n",
       "    </tr>\n",
       "    <tr>\n",
       "      <th>2000-01-04</th>\n",
       "      <td>216.75</td>\n",
       "      <td>217.00</td>\n",
       "      <td>219.00</td>\n",
       "      <td>206.00</td>\n",
       "      <td>211.90</td>\n",
       "      <td>208.20</td>\n",
       "      <td>679215</td>\n",
       "    </tr>\n",
       "    <tr>\n",
       "      <th>2000-01-05</th>\n",
       "      <td>208.20</td>\n",
       "      <td>194.00</td>\n",
       "      <td>217.80</td>\n",
       "      <td>194.00</td>\n",
       "      <td>213.10</td>\n",
       "      <td>213.25</td>\n",
       "      <td>1120951</td>\n",
       "    </tr>\n",
       "    <tr>\n",
       "      <th>2000-01-06</th>\n",
       "      <td>213.25</td>\n",
       "      <td>215.00</td>\n",
       "      <td>229.90</td>\n",
       "      <td>215.00</td>\n",
       "      <td>222.00</td>\n",
       "      <td>222.10</td>\n",
       "      <td>1968998</td>\n",
       "    </tr>\n",
       "    <tr>\n",
       "      <th>2000-01-07</th>\n",
       "      <td>222.10</td>\n",
       "      <td>224.00</td>\n",
       "      <td>239.90</td>\n",
       "      <td>223.10</td>\n",
       "      <td>239.90</td>\n",
       "      <td>239.90</td>\n",
       "      <td>2199431</td>\n",
       "    </tr>\n",
       "    <tr>\n",
       "      <th>2000-01-10</th>\n",
       "      <td>239.90</td>\n",
       "      <td>259.00</td>\n",
       "      <td>259.10</td>\n",
       "      <td>248.00</td>\n",
       "      <td>259.10</td>\n",
       "      <td>258.85</td>\n",
       "      <td>1720542</td>\n",
       "    </tr>\n",
       "    <tr>\n",
       "      <th>2000-01-11</th>\n",
       "      <td>258.85</td>\n",
       "      <td>260.00</td>\n",
       "      <td>260.00</td>\n",
       "      <td>238.15</td>\n",
       "      <td>238.15</td>\n",
       "      <td>238.15</td>\n",
       "      <td>1207916</td>\n",
       "    </tr>\n",
       "    <tr>\n",
       "      <th>2000-01-12</th>\n",
       "      <td>238.15</td>\n",
       "      <td>240.00</td>\n",
       "      <td>246.00</td>\n",
       "      <td>229.00</td>\n",
       "      <td>242.45</td>\n",
       "      <td>240.25</td>\n",
       "      <td>938579</td>\n",
       "    </tr>\n",
       "    <tr>\n",
       "      <th>2000-01-13</th>\n",
       "      <td>240.25</td>\n",
       "      <td>243.00</td>\n",
       "      <td>245.00</td>\n",
       "      <td>231.60</td>\n",
       "      <td>233.00</td>\n",
       "      <td>235.45</td>\n",
       "      <td>565754</td>\n",
       "    </tr>\n",
       "    <tr>\n",
       "      <th>2000-01-14</th>\n",
       "      <td>235.45</td>\n",
       "      <td>234.95</td>\n",
       "      <td>243.00</td>\n",
       "      <td>233.00</td>\n",
       "      <td>239.80</td>\n",
       "      <td>239.05</td>\n",
       "      <td>1024725</td>\n",
       "    </tr>\n",
       "  </tbody>\n",
       "</table>\n",
       "</div>"
      ],
      "text/plain": [
       "            Prev Close    Open    High     Low    Last   Close   Volume\n",
       "Date                                                                   \n",
       "2000-01-03      201.60  207.40  217.25  207.40  217.00  216.75   676126\n",
       "2000-01-04      216.75  217.00  219.00  206.00  211.90  208.20   679215\n",
       "2000-01-05      208.20  194.00  217.80  194.00  213.10  213.25  1120951\n",
       "2000-01-06      213.25  215.00  229.90  215.00  222.00  222.10  1968998\n",
       "2000-01-07      222.10  224.00  239.90  223.10  239.90  239.90  2199431\n",
       "2000-01-10      239.90  259.00  259.10  248.00  259.10  258.85  1720542\n",
       "2000-01-11      258.85  260.00  260.00  238.15  238.15  238.15  1207916\n",
       "2000-01-12      238.15  240.00  246.00  229.00  242.45  240.25   938579\n",
       "2000-01-13      240.25  243.00  245.00  231.60  233.00  235.45   565754\n",
       "2000-01-14      235.45  234.95  243.00  233.00  239.80  239.05  1024725"
      ]
     },
     "execution_count": 34,
     "metadata": {},
     "output_type": "execute_result"
    }
   ],
   "source": [
    "df.head(10)"
   ]
  },
  {
   "cell_type": "code",
   "execution_count": 35,
   "id": "9574d314",
   "metadata": {},
   "outputs": [
    {
     "data": {
      "image/png": "[encoded data removed]",
      "text/plain": [
       "<Figure size 1080x576 with 1 Axes>"
      ]
     },
     "metadata": {
      "needs_background": "light"
     },
     "output_type": "display_data"
    }
   ],
   "source": [
    "df[\"Prev Close\"].plot(figsize = (15,8))\n",
    "plt.show()"
   ]
  },
  {
   "cell_type": "markdown",
   "id": "7818d5f9",
   "metadata": {},
   "source": [
    "The daily percentage change is calculated on the basis of closing prices of 2 consecutive days."
   ]
  },
  {
   "cell_type": "code",
   "execution_count": 36,
   "id": "54fc8114",
   "metadata": {},
   "outputs": [],
   "source": [
    "df['Daily_percentage_change'] = ((df[\"Close\"] - df[\"Prev Close\"])/df[\"Prev Close\"])*100\n"
   ]
  },
  {
   "cell_type": "code",
   "execution_count": 37,
   "id": "ef3eef31",
   "metadata": {},
   "outputs": [
    {
     "data": {
      "text/html": [
       "<div>\n",
       "<style scoped>\n",
       "    .dataframe tbody tr th:only-of-type {\n",
       "        vertical-align: middle;\n",
       "    }\n",
       "\n",
       "    .dataframe tbody tr th {\n",
       "        vertical-align: top;\n",
       "    }\n",
       "\n",
       "    .dataframe thead th {\n",
       "        text-align: right;\n",
       "    }\n",
       "</style>\n",
       "<table border=\"1\" class=\"dataframe\">\n",
       "  <thead>\n",
       "    <tr style=\"text-align: right;\">\n",
       "      <th></th>\n",
       "      <th>Prev Close</th>\n",
       "      <th>Open</th>\n",
       "      <th>High</th>\n",
       "      <th>Low</th>\n",
       "      <th>Last</th>\n",
       "      <th>Close</th>\n",
       "      <th>Volume</th>\n",
       "      <th>Daily_percentage_change</th>\n",
       "    </tr>\n",
       "    <tr>\n",
       "      <th>Date</th>\n",
       "      <th></th>\n",
       "      <th></th>\n",
       "      <th></th>\n",
       "      <th></th>\n",
       "      <th></th>\n",
       "      <th></th>\n",
       "      <th></th>\n",
       "      <th></th>\n",
       "    </tr>\n",
       "  </thead>\n",
       "  <tbody>\n",
       "    <tr>\n",
       "      <th>2000-01-03</th>\n",
       "      <td>201.60</td>\n",
       "      <td>207.4</td>\n",
       "      <td>217.25</td>\n",
       "      <td>207.40</td>\n",
       "      <td>217.00</td>\n",
       "      <td>216.75</td>\n",
       "      <td>676126</td>\n",
       "      <td>7.514881</td>\n",
       "    </tr>\n",
       "    <tr>\n",
       "      <th>2000-01-04</th>\n",
       "      <td>216.75</td>\n",
       "      <td>217.0</td>\n",
       "      <td>219.00</td>\n",
       "      <td>206.00</td>\n",
       "      <td>211.90</td>\n",
       "      <td>208.20</td>\n",
       "      <td>679215</td>\n",
       "      <td>-3.944637</td>\n",
       "    </tr>\n",
       "    <tr>\n",
       "      <th>2000-01-05</th>\n",
       "      <td>208.20</td>\n",
       "      <td>194.0</td>\n",
       "      <td>217.80</td>\n",
       "      <td>194.00</td>\n",
       "      <td>213.10</td>\n",
       "      <td>213.25</td>\n",
       "      <td>1120951</td>\n",
       "      <td>2.425552</td>\n",
       "    </tr>\n",
       "    <tr>\n",
       "      <th>2000-01-06</th>\n",
       "      <td>213.25</td>\n",
       "      <td>215.0</td>\n",
       "      <td>229.90</td>\n",
       "      <td>215.00</td>\n",
       "      <td>222.00</td>\n",
       "      <td>222.10</td>\n",
       "      <td>1968998</td>\n",
       "      <td>4.150059</td>\n",
       "    </tr>\n",
       "    <tr>\n",
       "      <th>2000-01-07</th>\n",
       "      <td>222.10</td>\n",
       "      <td>224.0</td>\n",
       "      <td>239.90</td>\n",
       "      <td>223.10</td>\n",
       "      <td>239.90</td>\n",
       "      <td>239.90</td>\n",
       "      <td>2199431</td>\n",
       "      <td>8.014408</td>\n",
       "    </tr>\n",
       "    <tr>\n",
       "      <th>...</th>\n",
       "      <td>...</td>\n",
       "      <td>...</td>\n",
       "      <td>...</td>\n",
       "      <td>...</td>\n",
       "      <td>...</td>\n",
       "      <td>...</td>\n",
       "      <td>...</td>\n",
       "      <td>...</td>\n",
       "    </tr>\n",
       "    <tr>\n",
       "      <th>2021-04-26</th>\n",
       "      <td>294.00</td>\n",
       "      <td>297.0</td>\n",
       "      <td>299.00</td>\n",
       "      <td>294.60</td>\n",
       "      <td>295.85</td>\n",
       "      <td>295.40</td>\n",
       "      <td>30583139</td>\n",
       "      <td>0.476190</td>\n",
       "    </tr>\n",
       "    <tr>\n",
       "      <th>2021-04-27</th>\n",
       "      <td>295.40</td>\n",
       "      <td>295.7</td>\n",
       "      <td>302.50</td>\n",
       "      <td>295.10</td>\n",
       "      <td>302.10</td>\n",
       "      <td>301.50</td>\n",
       "      <td>35040532</td>\n",
       "      <td>2.064997</td>\n",
       "    </tr>\n",
       "    <tr>\n",
       "      <th>2021-04-28</th>\n",
       "      <td>301.50</td>\n",
       "      <td>303.5</td>\n",
       "      <td>309.50</td>\n",
       "      <td>303.00</td>\n",
       "      <td>305.15</td>\n",
       "      <td>305.90</td>\n",
       "      <td>44668126</td>\n",
       "      <td>1.459370</td>\n",
       "    </tr>\n",
       "    <tr>\n",
       "      <th>2021-04-29</th>\n",
       "      <td>305.90</td>\n",
       "      <td>308.9</td>\n",
       "      <td>310.00</td>\n",
       "      <td>301.25</td>\n",
       "      <td>302.20</td>\n",
       "      <td>301.90</td>\n",
       "      <td>36647292</td>\n",
       "      <td>-1.307617</td>\n",
       "    </tr>\n",
       "    <tr>\n",
       "      <th>2021-04-30</th>\n",
       "      <td>301.90</td>\n",
       "      <td>298.2</td>\n",
       "      <td>301.30</td>\n",
       "      <td>292.55</td>\n",
       "      <td>293.10</td>\n",
       "      <td>293.85</td>\n",
       "      <td>36121668</td>\n",
       "      <td>-2.666446</td>\n",
       "    </tr>\n",
       "  </tbody>\n",
       "</table>\n",
       "<p>5306 rows × 8 columns</p>\n",
       "</div>"
      ],
      "text/plain": [
       "            Prev Close   Open    High     Low    Last   Close    Volume  \\\n",
       "Date                                                                      \n",
       "2000-01-03      201.60  207.4  217.25  207.40  217.00  216.75    676126   \n",
       "2000-01-04      216.75  217.0  219.00  206.00  211.90  208.20    679215   \n",
       "2000-01-05      208.20  194.0  217.80  194.00  213.10  213.25   1120951   \n",
       "2000-01-06      213.25  215.0  229.90  215.00  222.00  222.10   1968998   \n",
       "2000-01-07      222.10  224.0  239.90  223.10  239.90  239.90   2199431   \n",
       "...                ...    ...     ...     ...     ...     ...       ...   \n",
       "2021-04-26      294.00  297.0  299.00  294.60  295.85  295.40  30583139   \n",
       "2021-04-27      295.40  295.7  302.50  295.10  302.10  301.50  35040532   \n",
       "2021-04-28      301.50  303.5  309.50  303.00  305.15  305.90  44668126   \n",
       "2021-04-29      305.90  308.9  310.00  301.25  302.20  301.90  36647292   \n",
       "2021-04-30      301.90  298.2  301.30  292.55  293.10  293.85  36121668   \n",
       "\n",
       "            Daily_percentage_change  \n",
       "Date                                 \n",
       "2000-01-03                 7.514881  \n",
       "2000-01-04                -3.944637  \n",
       "2000-01-05                 2.425552  \n",
       "2000-01-06                 4.150059  \n",
       "2000-01-07                 8.014408  \n",
       "...                             ...  \n",
       "2021-04-26                 0.476190  \n",
       "2021-04-27                 2.064997  \n",
       "2021-04-28                 1.459370  \n",
       "2021-04-29                -1.307617  \n",
       "2021-04-30                -2.666446  \n",
       "\n",
       "[5306 rows x 8 columns]"
      ]
     },
     "execution_count": 37,
     "metadata": {},
     "output_type": "execute_result"
    }
   ],
   "source": [
    "df"
   ]
  },
  {
   "cell_type": "markdown",
   "id": "bb8f6f7a",
   "metadata": {},
   "source": [
    "the first row has an NAN value as the closing price for 2000-01-03 has no value to be subtracted from.\n",
    "\n"
   ]
  },
  {
   "cell_type": "code",
   "execution_count": 38,
   "id": "4e9c96ed",
   "metadata": {},
   "outputs": [],
   "source": [
    "df.dropna(axis = 0, inplace = True)"
   ]
  },
  {
   "cell_type": "markdown",
   "id": "f290d753",
   "metadata": {},
   "source": [
    "Representation of daily returns in form of plot."
   ]
  },
  {
   "cell_type": "code",
   "execution_count": 39,
   "id": "6961126d",
   "metadata": {},
   "outputs": [
    {
     "data": {
      "image/png": "[encoded data removed]",
      "text/plain": [
       "<Figure size 1440x576 with 1 Axes>"
      ]
     },
     "metadata": {
      "needs_background": "light"
     },
     "output_type": "display_data"
    }
   ],
   "source": [
    "df['Daily_percentage_change'].plot(figsize = (20,8), fontsize= 12)\n",
    "plt.show()"
   ]
  },
  {
   "cell_type": "markdown",
   "id": "6cab9040",
   "metadata": {},
   "source": [
    "The graph above signifies the daily percentage change in 2012 being the lowest , which means the the price of the stock dropped to the lowest during the 2012."
   ]
  },
  {
   "cell_type": "markdown",
   "id": "cfaa6f97",
   "metadata": {},
   "source": [
    "The daily maximum Growth and Drop in seen in the stock price"
   ]
  },
  {
   "cell_type": "markdown",
   "id": "5b013a28",
   "metadata": {},
   "source": [
    "Plotting the daily return histogram.\n",
    "\n",
    "we use x axis as daily return and y as frquency for the histogram."
   ]
  },
  {
   "cell_type": "code",
   "execution_count": 40,
   "id": "2ca84e9a",
   "metadata": {},
   "outputs": [
    {
     "data": {
      "image/png": "[encoded data removed]",
      "text/plain": [
       "<Figure size 1440x576 with 1 Axes>"
      ]
     },
     "metadata": {
      "needs_background": "light"
     },
     "output_type": "display_data"
    },
    {
     "data": {
      "text/plain": [
       "count    5306.000000\n",
       "mean        0.064112\n",
       "std         3.075985\n",
       "min       -80.866780\n",
       "25%        -1.462188\n",
       "50%         0.030198\n",
       "75%         1.617649\n",
       "max        19.321817\n",
       "Name: Daily_percentage_change, dtype: float64"
      ]
     },
     "execution_count": 40,
     "metadata": {},
     "output_type": "execute_result"
    }
   ],
   "source": [
    "df['Daily_percentage_change'].hist(bins = 120, figsize = (20,8))\n",
    "plt.xlabel = 'Daily Returns'\n",
    "plt.ylabel = 'Frequency'\n",
    "plt.show()\n",
    "df.Daily_percentage_change.describe()"
   ]
  },
  {
   "cell_type": "markdown",
   "id": "a3f79b6b",
   "metadata": {},
   "source": [
    "As shown by the describe function, the 25% of the values fall under - 1.46% , 50% of the values which is also the median fall under 0.03% and as for 75% of the values fall under 1.61%. The maximum percentage jump in the stock price is 19.32% and the stock price has droppes as low as 80.86% from its previous day."
   ]
  },
  {
   "cell_type": "markdown",
   "id": "c4612790",
   "metadata": {},
   "source": [
    " we define a Trend Analysis based on the given data and also find the biggest trend shown by the stock\n",
    "    \n",
    "We add a new column ‘Trend’ whose values are based on the day-to-day percentage change we calculated above."
   ]
  },
  {
   "cell_type": "code",
   "execution_count": 41,
   "id": "ac0297ef",
   "metadata": {},
   "outputs": [
    {
     "data": {
      "text/html": [
       "<div>\n",
       "<style scoped>\n",
       "    .dataframe tbody tr th:only-of-type {\n",
       "        vertical-align: middle;\n",
       "    }\n",
       "\n",
       "    .dataframe tbody tr th {\n",
       "        vertical-align: top;\n",
       "    }\n",
       "\n",
       "    .dataframe thead th {\n",
       "        text-align: right;\n",
       "    }\n",
       "</style>\n",
       "<table border=\"1\" class=\"dataframe\">\n",
       "  <thead>\n",
       "    <tr style=\"text-align: right;\">\n",
       "      <th></th>\n",
       "      <th>Prev Close</th>\n",
       "      <th>Open</th>\n",
       "      <th>High</th>\n",
       "      <th>Low</th>\n",
       "      <th>Last</th>\n",
       "      <th>Close</th>\n",
       "      <th>Volume</th>\n",
       "      <th>Daily_percentage_change</th>\n",
       "      <th>Trend</th>\n",
       "    </tr>\n",
       "    <tr>\n",
       "      <th>Date</th>\n",
       "      <th></th>\n",
       "      <th></th>\n",
       "      <th></th>\n",
       "      <th></th>\n",
       "      <th></th>\n",
       "      <th></th>\n",
       "      <th></th>\n",
       "      <th></th>\n",
       "      <th></th>\n",
       "    </tr>\n",
       "  </thead>\n",
       "  <tbody>\n",
       "    <tr>\n",
       "      <th>2000-01-03</th>\n",
       "      <td>201.60</td>\n",
       "      <td>207.4</td>\n",
       "      <td>217.25</td>\n",
       "      <td>207.40</td>\n",
       "      <td>217.00</td>\n",
       "      <td>216.75</td>\n",
       "      <td>676126</td>\n",
       "      <td>7.514881</td>\n",
       "      <td>Bull run</td>\n",
       "    </tr>\n",
       "    <tr>\n",
       "      <th>2000-01-04</th>\n",
       "      <td>216.75</td>\n",
       "      <td>217.0</td>\n",
       "      <td>219.00</td>\n",
       "      <td>206.00</td>\n",
       "      <td>211.90</td>\n",
       "      <td>208.20</td>\n",
       "      <td>679215</td>\n",
       "      <td>-3.944637</td>\n",
       "      <td>Among top losers</td>\n",
       "    </tr>\n",
       "    <tr>\n",
       "      <th>2000-01-05</th>\n",
       "      <td>208.20</td>\n",
       "      <td>194.0</td>\n",
       "      <td>217.80</td>\n",
       "      <td>194.00</td>\n",
       "      <td>213.10</td>\n",
       "      <td>213.25</td>\n",
       "      <td>1120951</td>\n",
       "      <td>2.425552</td>\n",
       "      <td>Positive</td>\n",
       "    </tr>\n",
       "    <tr>\n",
       "      <th>2000-01-06</th>\n",
       "      <td>213.25</td>\n",
       "      <td>215.0</td>\n",
       "      <td>229.90</td>\n",
       "      <td>215.00</td>\n",
       "      <td>222.00</td>\n",
       "      <td>222.10</td>\n",
       "      <td>1968998</td>\n",
       "      <td>4.150059</td>\n",
       "      <td>Among top gainers</td>\n",
       "    </tr>\n",
       "    <tr>\n",
       "      <th>2000-01-07</th>\n",
       "      <td>222.10</td>\n",
       "      <td>224.0</td>\n",
       "      <td>239.90</td>\n",
       "      <td>223.10</td>\n",
       "      <td>239.90</td>\n",
       "      <td>239.90</td>\n",
       "      <td>2199431</td>\n",
       "      <td>8.014408</td>\n",
       "      <td>Bull run</td>\n",
       "    </tr>\n",
       "    <tr>\n",
       "      <th>...</th>\n",
       "      <td>...</td>\n",
       "      <td>...</td>\n",
       "      <td>...</td>\n",
       "      <td>...</td>\n",
       "      <td>...</td>\n",
       "      <td>...</td>\n",
       "      <td>...</td>\n",
       "      <td>...</td>\n",
       "      <td>...</td>\n",
       "    </tr>\n",
       "    <tr>\n",
       "      <th>2021-04-26</th>\n",
       "      <td>294.00</td>\n",
       "      <td>297.0</td>\n",
       "      <td>299.00</td>\n",
       "      <td>294.60</td>\n",
       "      <td>295.85</td>\n",
       "      <td>295.40</td>\n",
       "      <td>30583139</td>\n",
       "      <td>0.476190</td>\n",
       "      <td>Slight or No change</td>\n",
       "    </tr>\n",
       "    <tr>\n",
       "      <th>2021-04-27</th>\n",
       "      <td>295.40</td>\n",
       "      <td>295.7</td>\n",
       "      <td>302.50</td>\n",
       "      <td>295.10</td>\n",
       "      <td>302.10</td>\n",
       "      <td>301.50</td>\n",
       "      <td>35040532</td>\n",
       "      <td>2.064997</td>\n",
       "      <td>Positive</td>\n",
       "    </tr>\n",
       "    <tr>\n",
       "      <th>2021-04-28</th>\n",
       "      <td>301.50</td>\n",
       "      <td>303.5</td>\n",
       "      <td>309.50</td>\n",
       "      <td>303.00</td>\n",
       "      <td>305.15</td>\n",
       "      <td>305.90</td>\n",
       "      <td>44668126</td>\n",
       "      <td>1.459370</td>\n",
       "      <td>Positive</td>\n",
       "    </tr>\n",
       "    <tr>\n",
       "      <th>2021-04-29</th>\n",
       "      <td>305.90</td>\n",
       "      <td>308.9</td>\n",
       "      <td>310.00</td>\n",
       "      <td>301.25</td>\n",
       "      <td>302.20</td>\n",
       "      <td>301.90</td>\n",
       "      <td>36647292</td>\n",
       "      <td>-1.307617</td>\n",
       "      <td>Negative</td>\n",
       "    </tr>\n",
       "    <tr>\n",
       "      <th>2021-04-30</th>\n",
       "      <td>301.90</td>\n",
       "      <td>298.2</td>\n",
       "      <td>301.30</td>\n",
       "      <td>292.55</td>\n",
       "      <td>293.10</td>\n",
       "      <td>293.85</td>\n",
       "      <td>36121668</td>\n",
       "      <td>-2.666446</td>\n",
       "      <td>Negative</td>\n",
       "    </tr>\n",
       "  </tbody>\n",
       "</table>\n",
       "<p>5306 rows × 9 columns</p>\n",
       "</div>"
      ],
      "text/plain": [
       "            Prev Close   Open    High     Low    Last   Close    Volume  \\\n",
       "Date                                                                      \n",
       "2000-01-03      201.60  207.4  217.25  207.40  217.00  216.75    676126   \n",
       "2000-01-04      216.75  217.0  219.00  206.00  211.90  208.20    679215   \n",
       "2000-01-05      208.20  194.0  217.80  194.00  213.10  213.25   1120951   \n",
       "2000-01-06      213.25  215.0  229.90  215.00  222.00  222.10   1968998   \n",
       "2000-01-07      222.10  224.0  239.90  223.10  239.90  239.90   2199431   \n",
       "...                ...    ...     ...     ...     ...     ...       ...   \n",
       "2021-04-26      294.00  297.0  299.00  294.60  295.85  295.40  30583139   \n",
       "2021-04-27      295.40  295.7  302.50  295.10  302.10  301.50  35040532   \n",
       "2021-04-28      301.50  303.5  309.50  303.00  305.15  305.90  44668126   \n",
       "2021-04-29      305.90  308.9  310.00  301.25  302.20  301.90  36647292   \n",
       "2021-04-30      301.90  298.2  301.30  292.55  293.10  293.85  36121668   \n",
       "\n",
       "            Daily_percentage_change                Trend  \n",
       "Date                                                      \n",
       "2000-01-03                 7.514881             Bull run  \n",
       "2000-01-04                -3.944637     Among top losers  \n",
       "2000-01-05                 2.425552             Positive  \n",
       "2000-01-06                 4.150059    Among top gainers  \n",
       "2000-01-07                 8.014408             Bull run  \n",
       "...                             ...                  ...  \n",
       "2021-04-26                 0.476190  Slight or No change  \n",
       "2021-04-27                 2.064997             Positive  \n",
       "2021-04-28                 1.459370             Positive  \n",
       "2021-04-29                -1.307617             Negative  \n",
       "2021-04-30                -2.666446             Negative  \n",
       "\n",
       "[5306 rows x 9 columns]"
      ]
     },
     "execution_count": 41,
     "metadata": {},
     "output_type": "execute_result"
    }
   ],
   "source": [
    "def Trend(x):\n",
    "  if x > -0.5 and x <= 0.5:\n",
    "    return 'Slight or No change'\n",
    "  elif x > 0.5 and x <= 1:\n",
    "    return 'Slight Positive'\n",
    "  elif x > -1 and x <= -0.5:\n",
    "    return 'Slight Negative'\n",
    "  elif x > 1 and x <= 3:\n",
    "    return 'Positive'\n",
    "  elif x > -3 and x <= -1:\n",
    "    return 'Negative'\n",
    "  elif x > 3 and x <= 7:\n",
    "    return 'Among top gainers'\n",
    "  elif x > -7 and x <= -3:\n",
    "    return 'Among top losers'\n",
    "  elif x > 7:\n",
    "    return 'Bull run'\n",
    "  elif x <= -7:\n",
    "    return 'Bear drop'\n",
    "df['Trend']= np.zeros(df['Daily_percentage_change'].count())\n",
    "df['Trend']= df['Daily_percentage_change'].apply(lambda x:Trend(x))\n",
    "df"
   ]
  },
  {
   "cell_type": "markdown",
   "id": "e2fdf829",
   "metadata": {},
   "source": [
    "after performing our trend analysis we built the dataframe as above.  we use the describe() function."
   ]
  },
  {
   "cell_type": "code",
   "execution_count": 42,
   "id": "1124e9cc",
   "metadata": {},
   "outputs": [
    {
     "data": {
      "text/plain": [
       "count         5306\n",
       "unique           9\n",
       "top       Positive\n",
       "freq          1134\n",
       "Name: Trend, dtype: object"
      ]
     },
     "execution_count": 42,
     "metadata": {},
     "output_type": "execute_result"
    }
   ],
   "source": [
    "df.Trend.describe()"
   ]
  },
  {
   "cell_type": "markdown",
   "id": "196106ec",
   "metadata": {},
   "source": [
    "as we can see the top trend is positive which means that the stock mostly daily percentage change was between 1 to 3 percent.\n",
    "\n"
   ]
  },
  {
   "cell_type": "markdown",
   "id": "4ebce506",
   "metadata": {},
   "source": [
    "with help of graph conclude the relation between the volume and the daily pertage change."
   ]
  },
  {
   "cell_type": "code",
   "execution_count": 44,
   "id": "e162bca0",
   "metadata": {},
   "outputs": [
    {
     "data": {
      "text/plain": [
       "<AxesSubplot:xlabel='Date'>"
      ]
     },
     "execution_count": 44,
     "metadata": {},
     "output_type": "execute_result"
    },
    {
     "data": {
      "image/png": "[encoded data removed]",
      "text/plain": [
       "<Figure size 1440x576 with 1 Axes>"
      ]
     },
     "metadata": {
      "needs_background": "light"
     },
     "output_type": "display_data"
    }
   ],
   "source": [
    "plt.stem(df.index,df['Daily_percentage_change'])\n",
    "(df['Volume']/1000000).plot(figsize = (20,8), color = 'green', alpha = 0.5)\n"
   ]
  },
  {
   "cell_type": "markdown",
   "id": "8f48ae82",
   "metadata": {},
   "source": [
    "the daily trade volume(in purple) with the daily returns(in green), it was observed that whenever the volume of shares traded is high, there is comparatively high rise or fall in the price of the stock leading to the high returns. Thus, on a given day if unconventionally high volume of trading takes place, then one can expect a big change in the market in the either direction. Volume of shares traded when coupled with the rise or fall in Price of stock, in general, is an indicator of the confidence of the traders & investors in a particular company."
   ]
  },
  {
   "cell_type": "code",
   "execution_count": 59,
   "id": "bc7a7cfb",
   "metadata": {},
   "outputs": [],
   "source": [
    "corr_df=df.corr(method='pearson')"
   ]
  },
  {
   "cell_type": "code",
   "execution_count": 60,
   "id": "e1673b32",
   "metadata": {},
   "outputs": [
    {
     "data": {
      "text/html": [
       "<div>\n",
       "<style scoped>\n",
       "    .dataframe tbody tr th:only-of-type {\n",
       "        vertical-align: middle;\n",
       "    }\n",
       "\n",
       "    .dataframe tbody tr th {\n",
       "        vertical-align: top;\n",
       "    }\n",
       "\n",
       "    .dataframe thead th {\n",
       "        text-align: right;\n",
       "    }\n",
       "</style>\n",
       "<table border=\"1\" class=\"dataframe\">\n",
       "  <thead>\n",
       "    <tr style=\"text-align: right;\">\n",
       "      <th></th>\n",
       "      <th>Prev Close</th>\n",
       "      <th>Open</th>\n",
       "      <th>High</th>\n",
       "      <th>Low</th>\n",
       "      <th>Last</th>\n",
       "      <th>Close</th>\n",
       "      <th>Volume</th>\n",
       "      <th>Daily_percentage_change</th>\n",
       "      <th>Total Trade</th>\n",
       "      <th>simple_return</th>\n",
       "    </tr>\n",
       "  </thead>\n",
       "  <tbody>\n",
       "    <tr>\n",
       "      <th>Prev Close</th>\n",
       "      <td>1.000000</td>\n",
       "      <td>0.999224</td>\n",
       "      <td>0.998986</td>\n",
       "      <td>0.998688</td>\n",
       "      <td>0.998512</td>\n",
       "      <td>0.998558</td>\n",
       "      <td>-0.252986</td>\n",
       "      <td>-0.029249</td>\n",
       "      <td>-0.039029</td>\n",
       "      <td>0.014154</td>\n",
       "    </tr>\n",
       "    <tr>\n",
       "      <th>Open</th>\n",
       "      <td>0.999224</td>\n",
       "      <td>1.000000</td>\n",
       "      <td>0.999561</td>\n",
       "      <td>0.999366</td>\n",
       "      <td>0.999047</td>\n",
       "      <td>0.999089</td>\n",
       "      <td>-0.252677</td>\n",
       "      <td>-0.011981</td>\n",
       "      <td>-0.038331</td>\n",
       "      <td>0.015162</td>\n",
       "    </tr>\n",
       "    <tr>\n",
       "      <th>High</th>\n",
       "      <td>0.998986</td>\n",
       "      <td>0.999561</td>\n",
       "      <td>1.000000</td>\n",
       "      <td>0.999250</td>\n",
       "      <td>0.999572</td>\n",
       "      <td>0.999598</td>\n",
       "      <td>-0.250258</td>\n",
       "      <td>0.001098</td>\n",
       "      <td>-0.035374</td>\n",
       "      <td>0.015551</td>\n",
       "    </tr>\n",
       "    <tr>\n",
       "      <th>Low</th>\n",
       "      <td>0.998688</td>\n",
       "      <td>0.999366</td>\n",
       "      <td>0.999250</td>\n",
       "      <td>1.000000</td>\n",
       "      <td>0.999485</td>\n",
       "      <td>0.999534</td>\n",
       "      <td>-0.253337</td>\n",
       "      <td>0.003353</td>\n",
       "      <td>-0.039382</td>\n",
       "      <td>0.017174</td>\n",
       "    </tr>\n",
       "    <tr>\n",
       "      <th>Last</th>\n",
       "      <td>0.998512</td>\n",
       "      <td>0.999047</td>\n",
       "      <td>0.999572</td>\n",
       "      <td>0.999485</td>\n",
       "      <td>1.000000</td>\n",
       "      <td>0.999971</td>\n",
       "      <td>-0.251060</td>\n",
       "      <td>0.014481</td>\n",
       "      <td>-0.036514</td>\n",
       "      <td>0.016421</td>\n",
       "    </tr>\n",
       "    <tr>\n",
       "      <th>Close</th>\n",
       "      <td>0.998558</td>\n",
       "      <td>0.999089</td>\n",
       "      <td>0.999598</td>\n",
       "      <td>0.999534</td>\n",
       "      <td>0.999971</td>\n",
       "      <td>1.000000</td>\n",
       "      <td>-0.251149</td>\n",
       "      <td>0.014224</td>\n",
       "      <td>-0.036633</td>\n",
       "      <td>0.016659</td>\n",
       "    </tr>\n",
       "    <tr>\n",
       "      <th>Volume</th>\n",
       "      <td>-0.252986</td>\n",
       "      <td>-0.252677</td>\n",
       "      <td>-0.250258</td>\n",
       "      <td>-0.253337</td>\n",
       "      <td>-0.251060</td>\n",
       "      <td>-0.251149</td>\n",
       "      <td>1.000000</td>\n",
       "      <td>0.087793</td>\n",
       "      <td>0.873353</td>\n",
       "      <td>0.070490</td>\n",
       "    </tr>\n",
       "    <tr>\n",
       "      <th>Daily_percentage_change</th>\n",
       "      <td>-0.029249</td>\n",
       "      <td>-0.011981</td>\n",
       "      <td>0.001098</td>\n",
       "      <td>0.003353</td>\n",
       "      <td>0.014481</td>\n",
       "      <td>0.014224</td>\n",
       "      <td>0.087793</td>\n",
       "      <td>1.000000</td>\n",
       "      <td>0.080962</td>\n",
       "      <td>0.076730</td>\n",
       "    </tr>\n",
       "    <tr>\n",
       "      <th>Total Trade</th>\n",
       "      <td>-0.039029</td>\n",
       "      <td>-0.038331</td>\n",
       "      <td>-0.035374</td>\n",
       "      <td>-0.039382</td>\n",
       "      <td>-0.036514</td>\n",
       "      <td>-0.036633</td>\n",
       "      <td>0.873353</td>\n",
       "      <td>0.080962</td>\n",
       "      <td>1.000000</td>\n",
       "      <td>0.085440</td>\n",
       "    </tr>\n",
       "    <tr>\n",
       "      <th>simple_return</th>\n",
       "      <td>0.014154</td>\n",
       "      <td>0.015162</td>\n",
       "      <td>0.015551</td>\n",
       "      <td>0.017174</td>\n",
       "      <td>0.016421</td>\n",
       "      <td>0.016659</td>\n",
       "      <td>0.070490</td>\n",
       "      <td>0.076730</td>\n",
       "      <td>0.085440</td>\n",
       "      <td>1.000000</td>\n",
       "    </tr>\n",
       "  </tbody>\n",
       "</table>\n",
       "</div>"
      ],
      "text/plain": [
       "                         Prev Close      Open      High       Low      Last  \\\n",
       "Prev Close                 1.000000  0.999224  0.998986  0.998688  0.998512   \n",
       "Open                       0.999224  1.000000  0.999561  0.999366  0.999047   \n",
       "High                       0.998986  0.999561  1.000000  0.999250  0.999572   \n",
       "Low                        0.998688  0.999366  0.999250  1.000000  0.999485   \n",
       "Last                       0.998512  0.999047  0.999572  0.999485  1.000000   \n",
       "Close                      0.998558  0.999089  0.999598  0.999534  0.999971   \n",
       "Volume                    -0.252986 -0.252677 -0.250258 -0.253337 -0.251060   \n",
       "Daily_percentage_change   -0.029249 -0.011981  0.001098  0.003353  0.014481   \n",
       "Total Trade               -0.039029 -0.038331 -0.035374 -0.039382 -0.036514   \n",
       "simple_return              0.014154  0.015162  0.015551  0.017174  0.016421   \n",
       "\n",
       "                            Close    Volume  Daily_percentage_change  \\\n",
       "Prev Close               0.998558 -0.252986                -0.029249   \n",
       "Open                     0.999089 -0.252677                -0.011981   \n",
       "High                     0.999598 -0.250258                 0.001098   \n",
       "Low                      0.999534 -0.253337                 0.003353   \n",
       "Last                     0.999971 -0.251060                 0.014481   \n",
       "Close                    1.000000 -0.251149                 0.014224   \n",
       "Volume                  -0.251149  1.000000                 0.087793   \n",
       "Daily_percentage_change  0.014224  0.087793                 1.000000   \n",
       "Total Trade             -0.036633  0.873353                 0.080962   \n",
       "simple_return            0.016659  0.070490                 0.076730   \n",
       "\n",
       "                         Total Trade  simple_return  \n",
       "Prev Close                 -0.039029       0.014154  \n",
       "Open                       -0.038331       0.015162  \n",
       "High                       -0.035374       0.015551  \n",
       "Low                        -0.039382       0.017174  \n",
       "Last                       -0.036514       0.016421  \n",
       "Close                      -0.036633       0.016659  \n",
       "Volume                      0.873353       0.070490  \n",
       "Daily_percentage_change     0.080962       0.076730  \n",
       "Total Trade                 1.000000       0.085440  \n",
       "simple_return               0.085440       1.000000  "
      ]
     },
     "execution_count": 60,
     "metadata": {},
     "output_type": "execute_result"
    }
   ],
   "source": [
    "corr_df"
   ]
  },
  {
   "cell_type": "code",
   "execution_count": 62,
   "id": "69352435",
   "metadata": {},
   "outputs": [],
   "source": [
    "import seaborn as sns"
   ]
  },
  {
   "cell_type": "code",
   "execution_count": 63,
   "id": "d6c3a074",
   "metadata": {},
   "outputs": [
    {
     "data": {
      "image/png": "[encoded data removed]",
      "text/plain": [
       "<Figure size 432x288 with 2 Axes>"
      ]
     },
     "metadata": {
      "needs_background": "light"
     },
     "output_type": "display_data"
    }
   ],
   "source": [
    "corr_visual = sns.heatmap(corr_df,xticklabels=corr_df.columns, yticklabels=corr_df.columns,cmap='RdBu_r', annot=True, linewidth=0.5)"
   ]
  },
  {
   "cell_type": "code",
   "execution_count": 57,
   "id": "694d8817",
   "metadata": {},
   "outputs": [
    {
     "data": {
      "image/png": "[encoded data removed]",
      "text/plain": [
       "<Figure size 1152x576 with 1 Axes>"
      ]
     },
     "metadata": {
      "needs_background": "light"
     },
     "output_type": "display_data"
    }
   ],
   "source": [
    "df[['Open','Close']].head(50).plot(kind='bar',figsize=(16,8))\n",
    "plt.grid(which='major', linestyle='-', linewidth='0.5', color='green')\n",
    "plt.grid(which='minor', linestyle=':', linewidth='0.5', color='black')\n",
    "plt.xlabel('Date:2012')\n",
    "plt.ylabel('Price')\n",
    "plt.title(\"Bar plot of Open Price VS Close Price for 2012\")\n",
    "plt.show()"
   ]
  },
  {
   "cell_type": "code",
   "execution_count": 58,
   "id": "f8d34fe7",
   "metadata": {},
   "outputs": [
    {
     "data": {
      "image/png": "[encoded data removed]",
      "text/plain": [
       "<Figure size 1152x576 with 1 Axes>"
      ]
     },
     "metadata": {
      "needs_background": "light"
     },
     "output_type": "display_data"
    }
   ],
   "source": [
    "df[['Open','Close']].tail(50).plot(kind='bar',figsize=(16,8))\n",
    "plt.grid(which='major', linestyle='-', linewidth='0.5', color='green')\n",
    "plt.grid(which='minor', linestyle=':', linewidth='0.5', color='black')\n",
    "plt.xlabel('Date:2022')\n",
    "plt.ylabel('Price')\n",
    "plt.title(\"Bar plot of Open Price VS Close Price for 2022\")\n",
    "plt.show()"
   ]
  },
  {
   "cell_type": "code",
   "execution_count": null,
   "id": "217e5947",
   "metadata": {},
   "outputs": [],
   "source": []
  }
 ],
 "metadata": {
  "kernelspec": {
   "display_name": "Python 3 (ipykernel)",
   "language": "python",
   "name": "python3"
  },
  "language_info": {
   "codemirror_mode": {
    "name": "ipython",
    "version": 3
   },
   "file_extension": ".py",
   "mimetype": "text/x-python",
   "name": "python",
   "nbconvert_exporter": "python",
   "pygments_lexer": "ipython3",
   "version": "3.9.7"
  }
 },
 "nbformat": 4,
 "nbformat_minor": 5
}

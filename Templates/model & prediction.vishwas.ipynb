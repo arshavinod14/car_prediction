{
 "cells": [
  {
   "cell_type": "code",
   "execution_count": 289,
   "id": "1b8376ee",
   "metadata": {},
   "outputs": [],
   "source": [
    "import pandas as pd\n",
    "import numpy as np\n",
    "import matplotlib.pyplot as plt\n",
    "%matplotlib inline\n",
    "import datetime\n",
    "from matplotlib.pylab import rcParams\n",
    "from keras.models import Sequential\n",
    "from keras.layers import LSTM,Dropout,Dense\n",
    "from sklearn.preprocessing import MinMaxScaler"
   ]
  },
  {
   "cell_type": "code",
   "execution_count": 290,
   "id": "097efa63",
   "metadata": {},
   "outputs": [
    {
     "name": "stdout",
     "output_type": "stream",
     "text": [
      " Volume in drive C is Windows\n",
      " Volume Serial Number is 4476-E7F9\n",
      "\n",
      " Directory of C:\\Users\\vishw\\Project 97\n",
      "\n",
      "12-03-2022  20:50    <DIR>          .\n",
      "12-03-2022  13:30    <DIR>          ..\n",
      "12-03-2022  20:14    <DIR>          .ipynb_checkpoints\n",
      "12-03-2022  20:50            63,462 model & prediction.vishwas.ipynb\n",
      "12-03-2022  03:49            13,125 Stock Data - AutoMotive - NSEpy (1).ipynb\n",
      "12-03-2022  03:50            34,720 Stock_Data_AutoMotive_NSEpy.ipynb\n",
      "12-03-2022  20:41           164,299 Tata_Motors_stock final.csv\n",
      "12-03-2022  20:09           276,928 TATAMOTORS_EDA.ipynb\n",
      "12-03-2022  20:13                72 Untitled.ipynb\n",
      "12-03-2022  20:14                72 Untitled1.ipynb\n",
      "12-03-2022  04:07            18,219 Web_srcaping_infosys_data.ipynb\n",
      "               8 File(s)        570,897 bytes\n",
      "               3 Dir(s)  249,220,280,320 bytes free\n"
     ]
    }
   ],
   "source": [
    "ls"
   ]
  },
  {
   "cell_type": "code",
   "execution_count": 291,
   "id": "9f56f50a",
   "metadata": {},
   "outputs": [
    {
     "data": {
      "text/html": [
       "<div>\n",
       "<style scoped>\n",
       "    .dataframe tbody tr th:only-of-type {\n",
       "        vertical-align: middle;\n",
       "    }\n",
       "\n",
       "    .dataframe tbody tr th {\n",
       "        vertical-align: top;\n",
       "    }\n",
       "\n",
       "    .dataframe thead th {\n",
       "        text-align: right;\n",
       "    }\n",
       "</style>\n",
       "<table border=\"1\" class=\"dataframe\">\n",
       "  <thead>\n",
       "    <tr style=\"text-align: right;\">\n",
       "      <th></th>\n",
       "      <th>Date</th>\n",
       "      <th>Symbol</th>\n",
       "      <th>Series</th>\n",
       "      <th>Open</th>\n",
       "      <th>High</th>\n",
       "      <th>Low</th>\n",
       "      <th>Last</th>\n",
       "      <th>Close</th>\n",
       "      <th>Volume</th>\n",
       "    </tr>\n",
       "  </thead>\n",
       "  <tbody>\n",
       "    <tr>\n",
       "      <th>0</th>\n",
       "      <td>2012-03-01</td>\n",
       "      <td>TATAMOTORS</td>\n",
       "      <td>EQ</td>\n",
       "      <td>269.9</td>\n",
       "      <td>273.9</td>\n",
       "      <td>265.40</td>\n",
       "      <td>266.05</td>\n",
       "      <td>267.20</td>\n",
       "      <td>10231237</td>\n",
       "    </tr>\n",
       "    <tr>\n",
       "      <th>1</th>\n",
       "      <td>2012-03-02</td>\n",
       "      <td>TATAMOTORS</td>\n",
       "      <td>EQ</td>\n",
       "      <td>269.5</td>\n",
       "      <td>272.0</td>\n",
       "      <td>264.65</td>\n",
       "      <td>267.00</td>\n",
       "      <td>267.65</td>\n",
       "      <td>10962544</td>\n",
       "    </tr>\n",
       "    <tr>\n",
       "      <th>2</th>\n",
       "      <td>2012-03-03</td>\n",
       "      <td>TATAMOTORS</td>\n",
       "      <td>EQ</td>\n",
       "      <td>266.4</td>\n",
       "      <td>268.7</td>\n",
       "      <td>266.00</td>\n",
       "      <td>267.75</td>\n",
       "      <td>267.95</td>\n",
       "      <td>488065</td>\n",
       "    </tr>\n",
       "    <tr>\n",
       "      <th>3</th>\n",
       "      <td>2012-03-05</td>\n",
       "      <td>TATAMOTORS</td>\n",
       "      <td>EQ</td>\n",
       "      <td>267.0</td>\n",
       "      <td>275.6</td>\n",
       "      <td>266.25</td>\n",
       "      <td>274.45</td>\n",
       "      <td>274.15</td>\n",
       "      <td>13724738</td>\n",
       "    </tr>\n",
       "    <tr>\n",
       "      <th>4</th>\n",
       "      <td>2012-03-06</td>\n",
       "      <td>TATAMOTORS</td>\n",
       "      <td>EQ</td>\n",
       "      <td>274.1</td>\n",
       "      <td>279.0</td>\n",
       "      <td>264.00</td>\n",
       "      <td>264.85</td>\n",
       "      <td>267.00</td>\n",
       "      <td>11559507</td>\n",
       "    </tr>\n",
       "  </tbody>\n",
       "</table>\n",
       "</div>"
      ],
      "text/plain": [
       "         Date      Symbol Series   Open   High     Low    Last   Close  \\\n",
       "0  2012-03-01  TATAMOTORS     EQ  269.9  273.9  265.40  266.05  267.20   \n",
       "1  2012-03-02  TATAMOTORS     EQ  269.5  272.0  264.65  267.00  267.65   \n",
       "2  2012-03-03  TATAMOTORS     EQ  266.4  268.7  266.00  267.75  267.95   \n",
       "3  2012-03-05  TATAMOTORS     EQ  267.0  275.6  266.25  274.45  274.15   \n",
       "4  2012-03-06  TATAMOTORS     EQ  274.1  279.0  264.00  264.85  267.00   \n",
       "\n",
       "     Volume  \n",
       "0  10231237  \n",
       "1  10962544  \n",
       "2    488065  \n",
       "3  13724738  \n",
       "4  11559507  "
      ]
     },
     "execution_count": 291,
     "metadata": {},
     "output_type": "execute_result"
    }
   ],
   "source": [
    "model=pd.read_csv(\"Tata_Motors_stock final.csv\")\n",
    "model.head()"
   ]
  },
  {
   "cell_type": "code",
   "execution_count": 292,
   "id": "3d4677a3",
   "metadata": {},
   "outputs": [
    {
     "data": {
      "text/html": [
       "<div>\n",
       "<style scoped>\n",
       "    .dataframe tbody tr th:only-of-type {\n",
       "        vertical-align: middle;\n",
       "    }\n",
       "\n",
       "    .dataframe tbody tr th {\n",
       "        vertical-align: top;\n",
       "    }\n",
       "\n",
       "    .dataframe thead th {\n",
       "        text-align: right;\n",
       "    }\n",
       "</style>\n",
       "<table border=\"1\" class=\"dataframe\">\n",
       "  <thead>\n",
       "    <tr style=\"text-align: right;\">\n",
       "      <th></th>\n",
       "      <th>Date</th>\n",
       "      <th>Symbol</th>\n",
       "      <th>Series</th>\n",
       "      <th>Open</th>\n",
       "      <th>High</th>\n",
       "      <th>Low</th>\n",
       "      <th>Last</th>\n",
       "      <th>Close</th>\n",
       "      <th>Volume</th>\n",
       "    </tr>\n",
       "  </thead>\n",
       "  <tbody>\n",
       "    <tr>\n",
       "      <th>2475</th>\n",
       "      <td>2022-02-25</td>\n",
       "      <td>TATAMOTORS</td>\n",
       "      <td>EQ</td>\n",
       "      <td>444.85</td>\n",
       "      <td>465.70</td>\n",
       "      <td>441.60</td>\n",
       "      <td>460.85</td>\n",
       "      <td>459.75</td>\n",
       "      <td>48876182</td>\n",
       "    </tr>\n",
       "    <tr>\n",
       "      <th>2476</th>\n",
       "      <td>2022-02-28</td>\n",
       "      <td>TATAMOTORS</td>\n",
       "      <td>EQ</td>\n",
       "      <td>445.00</td>\n",
       "      <td>457.35</td>\n",
       "      <td>440.45</td>\n",
       "      <td>453.95</td>\n",
       "      <td>454.05</td>\n",
       "      <td>34475468</td>\n",
       "    </tr>\n",
       "    <tr>\n",
       "      <th>2477</th>\n",
       "      <td>2022-03-02</td>\n",
       "      <td>TATAMOTORS</td>\n",
       "      <td>EQ</td>\n",
       "      <td>452.95</td>\n",
       "      <td>454.25</td>\n",
       "      <td>444.55</td>\n",
       "      <td>448.80</td>\n",
       "      <td>447.60</td>\n",
       "      <td>25791134</td>\n",
       "    </tr>\n",
       "    <tr>\n",
       "      <th>2478</th>\n",
       "      <td>2022-03-03</td>\n",
       "      <td>TATAMOTORS</td>\n",
       "      <td>EQ</td>\n",
       "      <td>458.50</td>\n",
       "      <td>458.50</td>\n",
       "      <td>435.00</td>\n",
       "      <td>437.90</td>\n",
       "      <td>437.10</td>\n",
       "      <td>29599672</td>\n",
       "    </tr>\n",
       "    <tr>\n",
       "      <th>2479</th>\n",
       "      <td>2022-03-04</td>\n",
       "      <td>TATAMOTORS</td>\n",
       "      <td>EQ</td>\n",
       "      <td>431.85</td>\n",
       "      <td>431.85</td>\n",
       "      <td>414.75</td>\n",
       "      <td>418.40</td>\n",
       "      <td>417.25</td>\n",
       "      <td>38765185</td>\n",
       "    </tr>\n",
       "  </tbody>\n",
       "</table>\n",
       "</div>"
      ],
      "text/plain": [
       "            Date      Symbol Series    Open    High     Low    Last   Close  \\\n",
       "2475  2022-02-25  TATAMOTORS     EQ  444.85  465.70  441.60  460.85  459.75   \n",
       "2476  2022-02-28  TATAMOTORS     EQ  445.00  457.35  440.45  453.95  454.05   \n",
       "2477  2022-03-02  TATAMOTORS     EQ  452.95  454.25  444.55  448.80  447.60   \n",
       "2478  2022-03-03  TATAMOTORS     EQ  458.50  458.50  435.00  437.90  437.10   \n",
       "2479  2022-03-04  TATAMOTORS     EQ  431.85  431.85  414.75  418.40  417.25   \n",
       "\n",
       "        Volume  \n",
       "2475  48876182  \n",
       "2476  34475468  \n",
       "2477  25791134  \n",
       "2478  29599672  \n",
       "2479  38765185  "
      ]
     },
     "execution_count": 292,
     "metadata": {},
     "output_type": "execute_result"
    }
   ],
   "source": [
    "model.tail()"
   ]
  },
  {
   "cell_type": "code",
   "execution_count": 293,
   "id": "ef75ac88",
   "metadata": {},
   "outputs": [],
   "source": [
    "model2=model.reset_index()['Close']"
   ]
  },
  {
   "cell_type": "code",
   "execution_count": 294,
   "id": "81ff445a",
   "metadata": {},
   "outputs": [
    {
     "data": {
      "text/plain": [
       "0       267.20\n",
       "1       267.65\n",
       "2       267.95\n",
       "3       274.15\n",
       "4       267.00\n",
       "         ...  \n",
       "2475    459.75\n",
       "2476    454.05\n",
       "2477    447.60\n",
       "2478    437.10\n",
       "2479    417.25\n",
       "Name: Close, Length: 2480, dtype: float64"
      ]
     },
     "execution_count": 294,
     "metadata": {},
     "output_type": "execute_result"
    }
   ],
   "source": [
    "model2"
   ]
  },
  {
   "cell_type": "code",
   "execution_count": 295,
   "id": "7e2f16aa",
   "metadata": {},
   "outputs": [
    {
     "data": {
      "text/plain": [
       "(2480,)"
      ]
     },
     "execution_count": 295,
     "metadata": {},
     "output_type": "execute_result"
    }
   ],
   "source": [
    "model2.shape"
   ]
  },
  {
   "cell_type": "code",
   "execution_count": 296,
   "id": "0896b47b",
   "metadata": {},
   "outputs": [
    {
     "data": {
      "text/plain": [
       "[<matplotlib.lines.Line2D at 0x221dd702430>]"
      ]
     },
     "execution_count": 296,
     "metadata": {},
     "output_type": "execute_result"
    },
    {
     "data": {
      "image/png": "[encoded data removed]",
      "text/plain": [
       "<Figure size 864x360 with 1 Axes>"
      ]
     },
     "metadata": {
      "needs_background": "light"
     },
     "output_type": "display_data"
    }
   ],
   "source": [
    "plt.rcParams['figure.figsize'] = (12,5)\n",
    "plt.plot(model2)"
   ]
  },
  {
   "cell_type": "code",
   "execution_count": 297,
   "id": "6aed42c0",
   "metadata": {},
   "outputs": [],
   "source": [
    "scaler=MinMaxScaler(feature_range=(0,1))\n",
    "model2=scaler.fit_transform(np.array(model2).reshape(-1,1))"
   ]
  },
  {
   "cell_type": "code",
   "execution_count": 298,
   "id": "93574cc2",
   "metadata": {},
   "outputs": [
    {
     "data": {
      "text/plain": [
       "array([[0.3744089 ],\n",
       "       [0.37524339],\n",
       "       [0.37579972],\n",
       "       ...,\n",
       "       [0.70894761],\n",
       "       [0.68947612],\n",
       "       [0.65266574]])"
      ]
     },
     "execution_count": 298,
     "metadata": {},
     "output_type": "execute_result"
    }
   ],
   "source": [
    "model2"
   ]
  },
  {
   "cell_type": "code",
   "execution_count": 299,
   "id": "1695a513",
   "metadata": {},
   "outputs": [
    {
     "data": {
      "text/plain": [
       "(2480, 1)"
      ]
     },
     "execution_count": 299,
     "metadata": {},
     "output_type": "execute_result"
    }
   ],
   "source": [
    "model2.shape"
   ]
  },
  {
   "cell_type": "markdown",
   "id": "d923f1f1",
   "metadata": {},
   "source": [
    "# Splitting dataset into train and test"
   ]
  },
  {
   "cell_type": "code",
   "execution_count": 300,
   "id": "f090f7c7",
   "metadata": {},
   "outputs": [],
   "source": [
    "training_size=int(len(model2)*0.65)\n",
    "test_size=len(model2)-training_size\n",
    "train_data,test_data=model2[0:training_size,:],model2[training_size:len(model2),:1]"
   ]
  },
  {
   "cell_type": "code",
   "execution_count": 301,
   "id": "94358f85",
   "metadata": {},
   "outputs": [
    {
     "data": {
      "text/plain": [
       "(1612, 868)"
      ]
     },
     "execution_count": 301,
     "metadata": {},
     "output_type": "execute_result"
    }
   ],
   "source": [
    "training_size,test_size"
   ]
  },
  {
   "cell_type": "markdown",
   "id": "72f7cec7",
   "metadata": {},
   "source": [
    "# Converting array of values "
   ]
  },
  {
   "cell_type": "code",
   "execution_count": 302,
   "id": "98ab40d1",
   "metadata": {},
   "outputs": [],
   "source": [
    "import numpy\n",
    "def create_dataset(dataset,time_step=1):\n",
    "    dataX, dataY = [], []\n",
    "    for i in range (len(dataset)-time_step-1):\n",
    "        a = dataset[i:(i+time_step), 0]    \n",
    "        dataX.append(a)\n",
    "        dataY.append(dataset[i+time_step,0])\n",
    "    return numpy.array(dataX), numpy.array(dataY)"
   ]
  },
  {
   "cell_type": "code",
   "execution_count": 303,
   "id": "1756c0e6",
   "metadata": {},
   "outputs": [],
   "source": [
    "# reshape into x=t,t+1,t+3 and y=t+4\n",
    "time_step = 100\n",
    "x_train, y_train = create_dataset(train_data, time_step)\n",
    "x_test, y_test = create_dataset(test_data, time_step)"
   ]
  },
  {
   "cell_type": "code",
   "execution_count": 304,
   "id": "375e7220",
   "metadata": {},
   "outputs": [
    {
     "name": "stdout",
     "output_type": "stream",
     "text": [
      "(1511, 100)\n",
      "(1511,)\n"
     ]
    },
    {
     "data": {
      "text/plain": [
       "(None, None)"
      ]
     },
     "execution_count": 304,
     "metadata": {},
     "output_type": "execute_result"
    }
   ],
   "source": [
    "print(x_train.shape),print(y_train.shape)"
   ]
  },
  {
   "cell_type": "code",
   "execution_count": 305,
   "id": "1795d324",
   "metadata": {},
   "outputs": [
    {
     "name": "stdout",
     "output_type": "stream",
     "text": [
      "(767, 100)\n",
      "(767,)\n"
     ]
    },
    {
     "data": {
      "text/plain": [
       "(None, None)"
      ]
     },
     "execution_count": 305,
     "metadata": {},
     "output_type": "execute_result"
    }
   ],
   "source": [
    "print(x_test.shape), print(y_test.shape)"
   ]
  },
  {
   "cell_type": "markdown",
   "id": "c4de3bc4",
   "metadata": {},
   "source": [
    "Before creating the lstm model,reshaping of x_train into 3 dimension has to be done by adding 1."
   ]
  },
  {
   "cell_type": "code",
   "execution_count": 306,
   "id": "431e02fc",
   "metadata": {},
   "outputs": [],
   "source": [
    "# reshape input to be (samples, time steps ,feature) which is required for LSTM.\n",
    "x_train = x_train.reshape(x_train.shape[0],x_train.shape[1], 1)\n",
    "x_test = x_test.reshape(x_test.shape[0], x_test.shape[1], 1)"
   ]
  },
  {
   "cell_type": "markdown",
   "id": "a0b0e0a1",
   "metadata": {},
   "source": [
    "# Creating Stacked LSTM model"
   ]
  },
  {
   "cell_type": "code",
   "execution_count": 307,
   "id": "394db106",
   "metadata": {},
   "outputs": [],
   "source": [
    "from tensorflow.keras.models import Sequential\n",
    "from tensorflow.keras.layers import Dense\n",
    "from tensorflow.keras.layers import LSTM"
   ]
  },
  {
   "cell_type": "code",
   "execution_count": 308,
   "id": "01f558ec",
   "metadata": {},
   "outputs": [],
   "source": [
    "model=Sequential()\n",
    "model.add(LSTM(50,return_sequences=True,input_shape=(100,1)))\n",
    "model.add(LSTM(50,return_sequences=True))\n",
    "model.add(LSTM(50))\n",
    "model.add(Dense(1))\n",
    "model.compile(loss='mean_squared_error',optimizer='adam')"
   ]
  },
  {
   "cell_type": "code",
   "execution_count": 309,
   "id": "75834d27",
   "metadata": {},
   "outputs": [
    {
     "name": "stdout",
     "output_type": "stream",
     "text": [
      "Model: \"sequential_4\"\n",
      "_________________________________________________________________\n",
      " Layer (type)                Output Shape              Param #   \n",
      "=================================================================\n",
      " lstm_12 (LSTM)              (None, 100, 50)           10400     \n",
      "                                                                 \n",
      " lstm_13 (LSTM)              (None, 100, 50)           20200     \n",
      "                                                                 \n",
      " lstm_14 (LSTM)              (None, 50)                20200     \n",
      "                                                                 \n",
      " dense_3 (Dense)             (None, 1)                 51        \n",
      "                                                                 \n",
      "=================================================================\n",
      "Total params: 50,851\n",
      "Trainable params: 50,851\n",
      "Non-trainable params: 0\n",
      "_________________________________________________________________\n"
     ]
    }
   ],
   "source": [
    "model.summary()"
   ]
  },
  {
   "cell_type": "markdown",
   "id": "57bd744f",
   "metadata": {},
   "source": [
    "# Fitting the x_train,y_train"
   ]
  },
  {
   "cell_type": "code",
   "execution_count": 310,
   "id": "305d9bb5",
   "metadata": {},
   "outputs": [
    {
     "name": "stdout",
     "output_type": "stream",
     "text": [
      "Epoch 1/100\n",
      "24/24 [==============================] - 19s 342ms/step - loss: 0.0530 - val_loss: 0.0235\n",
      "Epoch 2/100\n",
      "24/24 [==============================] - 6s 246ms/step - loss: 0.0057 - val_loss: 0.0083\n",
      "Epoch 3/100\n",
      "24/24 [==============================] - 5s 225ms/step - loss: 0.0028 - val_loss: 0.0045\n",
      "Epoch 4/100\n",
      "24/24 [==============================] - 5s 228ms/step - loss: 0.0020 - val_loss: 0.0029\n",
      "Epoch 5/100\n",
      "24/24 [==============================] - 5s 225ms/step - loss: 0.0018 - val_loss: 0.0026\n",
      "Epoch 6/100\n",
      "24/24 [==============================] - 6s 246ms/step - loss: 0.0018 - val_loss: 0.0025\n",
      "Epoch 7/100\n",
      "24/24 [==============================] - 5s 204ms/step - loss: 0.0018 - val_loss: 0.0025\n",
      "Epoch 8/100\n",
      "24/24 [==============================] - 5s 228ms/step - loss: 0.0018 - val_loss: 0.0024\n",
      "Epoch 9/100\n",
      "24/24 [==============================] - 5s 205ms/step - loss: 0.0018 - val_loss: 0.0024\n",
      "Epoch 10/100\n",
      "24/24 [==============================] - 5s 199ms/step - loss: 0.0017 - val_loss: 0.0025\n",
      "Epoch 11/100\n",
      "24/24 [==============================] - 5s 201ms/step - loss: 0.0015 - val_loss: 0.0023\n",
      "Epoch 12/100\n",
      "24/24 [==============================] - 5s 198ms/step - loss: 0.0015 - val_loss: 0.0021\n",
      "Epoch 13/100\n",
      "24/24 [==============================] - 5s 206ms/step - loss: 0.0015 - val_loss: 0.0020\n",
      "Epoch 14/100\n",
      "24/24 [==============================] - 5s 219ms/step - loss: 0.0014 - val_loss: 0.0020\n",
      "Epoch 15/100\n",
      "24/24 [==============================] - 5s 213ms/step - loss: 0.0014 - val_loss: 0.0019\n",
      "Epoch 16/100\n",
      "24/24 [==============================] - 5s 206ms/step - loss: 0.0014 - val_loss: 0.0018\n",
      "Epoch 17/100\n",
      "24/24 [==============================] - 5s 201ms/step - loss: 0.0013 - val_loss: 0.0017\n",
      "Epoch 18/100\n",
      "24/24 [==============================] - 5s 218ms/step - loss: 0.0013 - val_loss: 0.0017\n",
      "Epoch 19/100\n",
      "24/24 [==============================] - 4s 159ms/step - loss: 0.0013 - val_loss: 0.0017\n",
      "Epoch 20/100\n",
      "24/24 [==============================] - 4s 154ms/step - loss: 0.0013 - val_loss: 0.0016\n",
      "Epoch 21/100\n",
      "24/24 [==============================] - 4s 154ms/step - loss: 0.0013 - val_loss: 0.0016\n",
      "Epoch 22/100\n",
      "24/24 [==============================] - 4s 156ms/step - loss: 0.0013 - val_loss: 0.0015\n",
      "Epoch 23/100\n",
      "24/24 [==============================] - 4s 155ms/step - loss: 0.0011 - val_loss: 0.0015\n",
      "Epoch 24/100\n",
      "24/24 [==============================] - 4s 150ms/step - loss: 0.0012 - val_loss: 0.0016\n",
      "Epoch 25/100\n",
      "24/24 [==============================] - 4s 151ms/step - loss: 0.0012 - val_loss: 0.0014\n",
      "Epoch 26/100\n",
      "24/24 [==============================] - 4s 150ms/step - loss: 0.0012 - val_loss: 0.0014\n",
      "Epoch 27/100\n",
      "24/24 [==============================] - 4s 149ms/step - loss: 0.0010 - val_loss: 0.0014\n",
      "Epoch 28/100\n",
      "24/24 [==============================] - 4s 149ms/step - loss: 0.0011 - val_loss: 0.0013\n",
      "Epoch 29/100\n",
      "24/24 [==============================] - 4s 150ms/step - loss: 9.9750e-04 - val_loss: 0.0013\n",
      "Epoch 30/100\n",
      "24/24 [==============================] - 4s 149ms/step - loss: 0.0010 - val_loss: 0.0013\n",
      "Epoch 31/100\n",
      "24/24 [==============================] - 4s 149ms/step - loss: 9.9735e-04 - val_loss: 0.0013\n",
      "Epoch 32/100\n",
      "24/24 [==============================] - 4s 152ms/step - loss: 9.2404e-04 - val_loss: 0.0012\n",
      "Epoch 33/100\n",
      "24/24 [==============================] - 4s 150ms/step - loss: 9.1603e-04 - val_loss: 0.0012\n",
      "Epoch 34/100\n",
      "24/24 [==============================] - 4s 150ms/step - loss: 9.3981e-04 - val_loss: 0.0012\n",
      "Epoch 35/100\n",
      "24/24 [==============================] - 4s 149ms/step - loss: 9.4633e-04 - val_loss: 0.0012\n",
      "Epoch 36/100\n",
      "24/24 [==============================] - 4s 150ms/step - loss: 0.0010 - val_loss: 0.0012\n",
      "Epoch 37/100\n",
      "24/24 [==============================] - 4s 150ms/step - loss: 9.7498e-04 - val_loss: 0.0011\n",
      "Epoch 38/100\n",
      "24/24 [==============================] - 4s 150ms/step - loss: 9.0666e-04 - val_loss: 0.0011\n",
      "Epoch 39/100\n",
      "24/24 [==============================] - 4s 150ms/step - loss: 8.5528e-04 - val_loss: 0.0011\n",
      "Epoch 40/100\n",
      "24/24 [==============================] - 4s 149ms/step - loss: 9.3451e-04 - val_loss: 0.0012\n",
      "Epoch 41/100\n",
      "24/24 [==============================] - 4s 149ms/step - loss: 9.2210e-04 - val_loss: 0.0011\n",
      "Epoch 42/100\n",
      "24/24 [==============================] - 4s 151ms/step - loss: 7.7409e-04 - val_loss: 0.0010\n",
      "Epoch 43/100\n",
      "24/24 [==============================] - 4s 151ms/step - loss: 7.7989e-04 - val_loss: 0.0010\n",
      "Epoch 44/100\n",
      "24/24 [==============================] - 4s 150ms/step - loss: 8.1854e-04 - val_loss: 9.9512e-04\n",
      "Epoch 45/100\n",
      "24/24 [==============================] - 4s 150ms/step - loss: 7.4009e-04 - val_loss: 0.0011\n",
      "Epoch 46/100\n",
      "24/24 [==============================] - 4s 151ms/step - loss: 8.3130e-04 - val_loss: 9.6458e-04\n",
      "Epoch 47/100\n",
      "24/24 [==============================] - 4s 150ms/step - loss: 7.4670e-04 - val_loss: 9.4015e-04\n",
      "Epoch 48/100\n",
      "24/24 [==============================] - 4s 151ms/step - loss: 7.1913e-04 - val_loss: 9.5780e-04\n",
      "Epoch 49/100\n",
      "24/24 [==============================] - 4s 149ms/step - loss: 7.2085e-04 - val_loss: 9.2132e-04\n",
      "Epoch 50/100\n",
      "24/24 [==============================] - 4s 150ms/step - loss: 6.9399e-04 - val_loss: 8.7771e-04\n",
      "Epoch 51/100\n",
      "24/24 [==============================] - 4s 150ms/step - loss: 6.9039e-04 - val_loss: 9.1925e-04\n",
      "Epoch 52/100\n",
      "24/24 [==============================] - 4s 150ms/step - loss: 7.1884e-04 - val_loss: 8.2981e-04\n",
      "Epoch 53/100\n",
      "24/24 [==============================] - 4s 151ms/step - loss: 6.5607e-04 - val_loss: 8.2979e-04\n",
      "Epoch 54/100\n",
      "24/24 [==============================] - 4s 149ms/step - loss: 7.9608e-04 - val_loss: 0.0011\n",
      "Epoch 55/100\n",
      "24/24 [==============================] - 4s 149ms/step - loss: 7.5747e-04 - val_loss: 8.9787e-04\n",
      "Epoch 56/100\n",
      "24/24 [==============================] - 4s 150ms/step - loss: 6.9471e-04 - val_loss: 8.2206e-04\n",
      "Epoch 57/100\n",
      "24/24 [==============================] - 4s 149ms/step - loss: 6.3407e-04 - val_loss: 8.1601e-04\n",
      "Epoch 58/100\n",
      "24/24 [==============================] - 4s 150ms/step - loss: 6.1440e-04 - val_loss: 7.8179e-04\n",
      "Epoch 59/100\n",
      "24/24 [==============================] - 4s 150ms/step - loss: 6.8424e-04 - val_loss: 8.2124e-04\n",
      "Epoch 60/100\n",
      "24/24 [==============================] - 4s 151ms/step - loss: 6.6734e-04 - val_loss: 7.6445e-04\n",
      "Epoch 61/100\n",
      "24/24 [==============================] - 4s 149ms/step - loss: 5.9656e-04 - val_loss: 7.5126e-04\n",
      "Epoch 62/100\n",
      "24/24 [==============================] - 4s 150ms/step - loss: 6.4760e-04 - val_loss: 7.2209e-04\n",
      "Epoch 63/100\n",
      "24/24 [==============================] - 4s 150ms/step - loss: 6.0007e-04 - val_loss: 7.7301e-04\n",
      "Epoch 64/100\n",
      "24/24 [==============================] - 4s 150ms/step - loss: 6.3579e-04 - val_loss: 6.9487e-04\n",
      "Epoch 65/100\n",
      "24/24 [==============================] - 4s 153ms/step - loss: 5.3688e-04 - val_loss: 6.9877e-04\n",
      "Epoch 66/100\n",
      "24/24 [==============================] - 4s 150ms/step - loss: 5.3259e-04 - val_loss: 7.0512e-04\n",
      "Epoch 67/100\n",
      "24/24 [==============================] - 4s 150ms/step - loss: 6.7434e-04 - val_loss: 6.9374e-04\n",
      "Epoch 68/100\n",
      "24/24 [==============================] - 4s 150ms/step - loss: 5.7119e-04 - val_loss: 6.8067e-04\n",
      "Epoch 69/100\n",
      "24/24 [==============================] - 4s 151ms/step - loss: 5.7598e-04 - val_loss: 7.1243e-04\n",
      "Epoch 70/100\n",
      "24/24 [==============================] - 4s 150ms/step - loss: 5.5864e-04 - val_loss: 6.7100e-04\n",
      "Epoch 71/100\n",
      "24/24 [==============================] - 4s 151ms/step - loss: 6.3634e-04 - val_loss: 7.0046e-04\n",
      "Epoch 72/100\n",
      "24/24 [==============================] - 4s 150ms/step - loss: 5.1760e-04 - val_loss: 6.9850e-04\n",
      "Epoch 73/100\n",
      "24/24 [==============================] - 4s 150ms/step - loss: 4.9249e-04 - val_loss: 6.0237e-04\n",
      "Epoch 74/100\n",
      "24/24 [==============================] - 4s 149ms/step - loss: 6.6449e-04 - val_loss: 7.4604e-04\n",
      "Epoch 75/100\n",
      "24/24 [==============================] - 4s 150ms/step - loss: 5.3854e-04 - val_loss: 6.3113e-04\n",
      "Epoch 76/100\n",
      "24/24 [==============================] - 4s 150ms/step - loss: 5.2336e-04 - val_loss: 6.9372e-04\n",
      "Epoch 77/100\n",
      "24/24 [==============================] - 4s 150ms/step - loss: 4.9922e-04 - val_loss: 5.8562e-04\n",
      "Epoch 78/100\n"
     ]
    },
    {
     "name": "stdout",
     "output_type": "stream",
     "text": [
      "24/24 [==============================] - 4s 150ms/step - loss: 4.7549e-04 - val_loss: 6.0397e-04\n",
      "Epoch 79/100\n",
      "24/24 [==============================] - 4s 150ms/step - loss: 5.3653e-04 - val_loss: 6.2630e-04\n",
      "Epoch 80/100\n",
      "24/24 [==============================] - 4s 150ms/step - loss: 6.4633e-04 - val_loss: 6.7471e-04\n",
      "Epoch 81/100\n",
      "24/24 [==============================] - 4s 150ms/step - loss: 4.8708e-04 - val_loss: 5.9210e-04\n",
      "Epoch 82/100\n",
      "24/24 [==============================] - 4s 153ms/step - loss: 4.5613e-04 - val_loss: 5.6382e-04\n",
      "Epoch 83/100\n",
      "24/24 [==============================] - 4s 152ms/step - loss: 4.5389e-04 - val_loss: 6.5706e-04\n",
      "Epoch 84/100\n",
      "24/24 [==============================] - 4s 153ms/step - loss: 4.6344e-04 - val_loss: 5.5414e-04\n",
      "Epoch 85/100\n",
      "24/24 [==============================] - 4s 152ms/step - loss: 4.0913e-04 - val_loss: 5.1797e-04\n",
      "Epoch 86/100\n",
      "24/24 [==============================] - 4s 164ms/step - loss: 4.6236e-04 - val_loss: 5.4953e-04\n",
      "Epoch 87/100\n",
      "24/24 [==============================] - 4s 170ms/step - loss: 4.5839e-04 - val_loss: 5.2862e-04\n",
      "Epoch 88/100\n",
      "24/24 [==============================] - 4s 158ms/step - loss: 4.3446e-04 - val_loss: 5.4316e-04\n",
      "Epoch 89/100\n",
      "24/24 [==============================] - 4s 160ms/step - loss: 4.5845e-04 - val_loss: 5.4454e-04\n",
      "Epoch 90/100\n",
      "24/24 [==============================] - 4s 169ms/step - loss: 4.3987e-04 - val_loss: 5.2847e-04\n",
      "Epoch 91/100\n",
      "24/24 [==============================] - 4s 161ms/step - loss: 4.1089e-04 - val_loss: 5.0001e-04\n",
      "Epoch 92/100\n",
      "24/24 [==============================] - 4s 165ms/step - loss: 5.7250e-04 - val_loss: 6.3808e-04\n",
      "Epoch 93/100\n",
      "24/24 [==============================] - 4s 181ms/step - loss: 4.7575e-04 - val_loss: 5.0992e-04\n",
      "Epoch 94/100\n",
      "24/24 [==============================] - 4s 182ms/step - loss: 3.9336e-04 - val_loss: 5.0778e-04\n",
      "Epoch 95/100\n",
      "24/24 [==============================] - 5s 205ms/step - loss: 4.0775e-04 - val_loss: 5.3007e-04\n",
      "Epoch 96/100\n",
      "24/24 [==============================] - 4s 177ms/step - loss: 4.6939e-04 - val_loss: 4.7233e-04\n",
      "Epoch 97/100\n",
      "24/24 [==============================] - 4s 165ms/step - loss: 3.9944e-04 - val_loss: 4.7991e-04\n",
      "Epoch 98/100\n",
      "24/24 [==============================] - 4s 165ms/step - loss: 4.1557e-04 - val_loss: 4.7414e-04\n",
      "Epoch 99/100\n",
      "24/24 [==============================] - 4s 172ms/step - loss: 3.6942e-04 - val_loss: 5.3507e-04\n",
      "Epoch 100/100\n",
      "24/24 [==============================] - 5s 207ms/step - loss: 5.3020e-04 - val_loss: 5.6286e-04\n"
     ]
    },
    {
     "data": {
      "text/plain": [
       "<keras.callbacks.History at 0x221e192b6a0>"
      ]
     },
     "execution_count": 310,
     "metadata": {},
     "output_type": "execute_result"
    }
   ],
   "source": [
    "model.fit(x_train,y_train,validation_data=(x_test,y_test),epochs=100,batch_size=64,verbose=1)"
   ]
  },
  {
   "cell_type": "markdown",
   "id": "43149870",
   "metadata": {},
   "source": [
    "# Prediction of 30 days and plotting the output"
   ]
  },
  {
   "cell_type": "code",
   "execution_count": 311,
   "id": "d8c9ae63",
   "metadata": {},
   "outputs": [],
   "source": [
    "import tensorflow as tf"
   ]
  },
  {
   "cell_type": "code",
   "execution_count": 312,
   "id": "6e3fb75a",
   "metadata": {},
   "outputs": [
    {
     "data": {
      "text/plain": [
       "'2.7.0'"
      ]
     },
     "execution_count": 312,
     "metadata": {},
     "output_type": "execute_result"
    }
   ],
   "source": [
    "tf.__version__"
   ]
  },
  {
   "cell_type": "code",
   "execution_count": 313,
   "id": "a8602467",
   "metadata": {},
   "outputs": [],
   "source": [
    "#Prediction and checking the performance metrics.\n",
    "train_predict=model.predict(x_train)\n",
    "test_predict=model.predict(x_test)"
   ]
  },
  {
   "cell_type": "code",
   "execution_count": 314,
   "id": "cdfa709b",
   "metadata": {},
   "outputs": [],
   "source": [
    "#transformback to original form\n",
    "train_predict=scaler.inverse_transform(train_predict)\n",
    "test_predict=scaler.inverse_transform(test_predict)"
   ]
  },
  {
   "cell_type": "code",
   "execution_count": 315,
   "id": "5837c01c",
   "metadata": {},
   "outputs": [
    {
     "data": {
      "text/plain": [
       "398.712550865782"
      ]
     },
     "execution_count": 315,
     "metadata": {},
     "output_type": "execute_result"
    }
   ],
   "source": [
    "#Calculate RMSE performance metrics\n",
    "import math\n",
    "from sklearn.metrics import mean_squared_error\n",
    "math.sqrt(mean_squared_error(y_train,train_predict))"
   ]
  },
  {
   "cell_type": "code",
   "execution_count": 316,
   "id": "b32a5cb1",
   "metadata": {},
   "outputs": [
    {
     "data": {
      "text/plain": [
       "255.8602902357181"
      ]
     },
     "execution_count": 316,
     "metadata": {},
     "output_type": "execute_result"
    }
   ],
   "source": [
    "#Test data RMSE\n",
    "math.sqrt(mean_squared_error(y_test,test_predict))"
   ]
  },
  {
   "cell_type": "markdown",
   "id": "5cdbc05c",
   "metadata": {},
   "source": [
    "# Plotting"
   ]
  },
  {
   "cell_type": "code",
   "execution_count": 317,
   "id": "4c4c0d92",
   "metadata": {},
   "outputs": [
    {
     "data": {
      "image/png": "[encoded data removed]",
      "text/plain": [
       "<Figure size 864x360 with 1 Axes>"
      ]
     },
     "metadata": {
      "needs_background": "light"
     },
     "output_type": "display_data"
    }
   ],
   "source": [
    "#shift predictions for plotting\n",
    "look_back=100\n",
    "trainPredictPlot = numpy.empty_like(model2)\n",
    "trainPredictPlot[:,:]=np.nan\n",
    "trainPredictPlot[look_back:len(train_predict)+look_back,:]=train_predict\n",
    "#shift test predictions for plotting\n",
    "testPredictPlot=numpy.empty_like(model2)\n",
    "testPredictPlot[:,:]=numpy.nan\n",
    "testPredictPlot[len(train_predict)+(look_back*2)+1:len(model2)-1,:] = test_predict\n",
    "#plotting baseline and predictions\n",
    "plt.plot(scaler.inverse_transform(model2))\n",
    "plt.plot(trainPredictPlot)\n",
    "plt.plot(testPredictPlot)\n",
    "plt.show()"
   ]
  },
  {
   "cell_type": "code",
   "execution_count": 318,
   "id": "1aa7d7fe",
   "metadata": {},
   "outputs": [
    {
     "data": {
      "text/plain": [
       "868"
      ]
     },
     "execution_count": 318,
     "metadata": {},
     "output_type": "execute_result"
    }
   ],
   "source": [
    "len(test_data)"
   ]
  },
  {
   "cell_type": "code",
   "execution_count": 319,
   "id": "7e43971c",
   "metadata": {},
   "outputs": [
    {
     "data": {
      "text/plain": [
       "(1, 100)"
      ]
     },
     "execution_count": 319,
     "metadata": {},
     "output_type": "execute_result"
    }
   ],
   "source": [
    "x_input=test_data[768:].reshape(1,-1)\n",
    "x_input.shape"
   ]
  },
  {
   "cell_type": "code",
   "execution_count": 320,
   "id": "0bc653f4",
   "metadata": {},
   "outputs": [],
   "source": [
    "temp_input=list(x_input)\n",
    "temp_input=temp_input[0].tolist()"
   ]
  },
  {
   "cell_type": "code",
   "execution_count": 321,
   "id": "4f877663",
   "metadata": {},
   "outputs": [
    {
     "data": {
      "text/plain": [
       "[0.6498840982846545,\n",
       " 0.6593416782568382,\n",
       " 0.818915159944367,\n",
       " 0.8016689847009736,\n",
       " 0.8239221140472879,\n",
       " 0.7725544738062122,\n",
       " 0.7818266110338432,\n",
       " 0.8209550301344459,\n",
       " 0.789244320815948,\n",
       " 0.7688456189151598,\n",
       " 0.8221604079740379,\n",
       " 0.8022253129346313,\n",
       " 0.770978210477515,\n",
       " 0.7758924432081594,\n",
       " 0.7796012980992117,\n",
       " 0.7835883171070932,\n",
       " 0.7781177561427908,\n",
       " 0.7870190078813165,\n",
       " 0.808715808993973,\n",
       " 0.8240148354195641,\n",
       " 0.826054705609643,\n",
       " 0.8125173852573017,\n",
       " 0.819193324061196,\n",
       " 0.8162262401483541,\n",
       " 0.8414464534075102,\n",
       " 0.8620305980528511,\n",
       " 0.8241075567918404,\n",
       " 0.7803430690774223,\n",
       " 0.7977746870653685,\n",
       " 0.7850718590635141,\n",
       " 0.7926750115901715,\n",
       " 0.7323133982382939,\n",
       " 0.7346314325452016,\n",
       " 0.7293463143254519,\n",
       " 0.7602225312934631,\n",
       " 0.7673620769587389,\n",
       " 0.7692165044042651,\n",
       " 0.7452943903569772,\n",
       " 0.7723690310616597,\n",
       " 0.7948076031525265,\n",
       " 0.7949003245248029,\n",
       " 0.795827538247566,\n",
       " 0.7974965229485396,\n",
       " 0.7864626796476587,\n",
       " 0.7906351414000926,\n",
       " 0.7911914696337505,\n",
       " 0.7508576726935557,\n",
       " 0.7079276773296245,\n",
       " 0.7200741770978211,\n",
       " 0.7514140009272137,\n",
       " 0.7548446917014372,\n",
       " 0.7460361613351877,\n",
       " 0.7526193787668056,\n",
       " 0.7694019471488177,\n",
       " 0.7616133518776077,\n",
       " 0.751228558182661,\n",
       " 0.7734816875289753,\n",
       " 0.8016689847009736,\n",
       " 0.786833565136764,\n",
       " 0.7871117292535929,\n",
       " 0.7854427445526193,\n",
       " 0.7886879925822902,\n",
       " 0.8129809921186832,\n",
       " 0.8085303662494204,\n",
       " 0.8195642095503013,\n",
       " 0.8282800185442744,\n",
       " 0.8244784422809457,\n",
       " 0.8524802967083912,\n",
       " 0.8261474269819192,\n",
       " 0.8447844228094575,\n",
       " 0.8352341214649976,\n",
       " 0.8095503013444598,\n",
       " 0.7661566991191469,\n",
       " 0.7885952712100138,\n",
       " 0.7957348168752897,\n",
       " 0.8011126564673157,\n",
       " 0.8390356977283263,\n",
       " 0.814093648585999,\n",
       " 0.817987946221604,\n",
       " 0.8144645340751042,\n",
       " 0.8072322670375521,\n",
       " 0.7961057023643949,\n",
       " 0.7926750115901715,\n",
       " 0.8084376448771441,\n",
       " 0.8199350950394065,\n",
       " 0.8039870190078813,\n",
       " 0.7531757070004635,\n",
       " 0.8135373203523412,\n",
       " 0.8032452480296708,\n",
       " 0.8060268891979601,\n",
       " 0.7934167825683819,\n",
       " 0.795827538247566,\n",
       " 0.7657858136300416,\n",
       " 0.7634677793231339,\n",
       " 0.6725081131200741,\n",
       " 0.7314789058878071,\n",
       " 0.7209086694483078,\n",
       " 0.7089476124246639,\n",
       " 0.6894761242466388,\n",
       " 0.6526657394529438]"
      ]
     },
     "execution_count": 321,
     "metadata": {},
     "output_type": "execute_result"
    }
   ],
   "source": [
    "temp_input"
   ]
  },
  {
   "cell_type": "code",
   "execution_count": 322,
   "id": "b0c02b76",
   "metadata": {},
   "outputs": [
    {
     "name": "stdout",
     "output_type": "stream",
     "text": [
      "[0.65334874]\n",
      "101\n",
      "101\n",
      "101\n",
      "1 day input [0.65934168 0.81891516 0.80166898 0.82392211 0.77255447 0.78182661\n",
      " 0.82095503 0.78924432 0.76884562 0.82216041 0.80222531 0.77097821\n",
      " 0.77589244 0.7796013  0.78358832 0.77811776 0.78701901 0.80871581\n",
      " 0.82401484 0.82605471 0.81251739 0.81919332 0.81622624 0.84144645\n",
      " 0.8620306  0.82410756 0.78034307 0.79777469 0.78507186 0.79267501\n",
      " 0.7323134  0.73463143 0.72934631 0.76022253 0.76736208 0.7692165\n",
      " 0.74529439 0.77236903 0.7948076  0.79490032 0.79582754 0.79749652\n",
      " 0.78646268 0.79063514 0.79119147 0.75085767 0.70792768 0.72007418\n",
      " 0.751414   0.75484469 0.74603616 0.75261938 0.76940195 0.76161335\n",
      " 0.75122856 0.77348169 0.80166898 0.78683357 0.78711173 0.78544274\n",
      " 0.78868799 0.81298099 0.80853037 0.81956421 0.82828002 0.82447844\n",
      " 0.8524803  0.82614743 0.84478442 0.83523412 0.8095503  0.7661567\n",
      " 0.78859527 0.79573482 0.80111266 0.8390357  0.81409365 0.81798795\n",
      " 0.81446453 0.80723227 0.7961057  0.79267501 0.80843764 0.8199351\n",
      " 0.80398702 0.75317571 0.81353732 0.80324525 0.80602689 0.79341678\n",
      " 0.79582754 0.76578581 0.76346778 0.67250811 0.73147891 0.72090867\n",
      " 0.70894761 0.68947612 0.65266574 0.65334874]\n",
      "1 day output [[0.636005]]\n",
      "2 day input [0.81891516 0.80166898 0.82392211 0.77255447 0.78182661 0.82095503\n",
      " 0.78924432 0.76884562 0.82216041 0.80222531 0.77097821 0.77589244\n",
      " 0.7796013  0.78358832 0.77811776 0.78701901 0.80871581 0.82401484\n",
      " 0.82605471 0.81251739 0.81919332 0.81622624 0.84144645 0.8620306\n",
      " 0.82410756 0.78034307 0.79777469 0.78507186 0.79267501 0.7323134\n",
      " 0.73463143 0.72934631 0.76022253 0.76736208 0.7692165  0.74529439\n",
      " 0.77236903 0.7948076  0.79490032 0.79582754 0.79749652 0.78646268\n",
      " 0.79063514 0.79119147 0.75085767 0.70792768 0.72007418 0.751414\n",
      " 0.75484469 0.74603616 0.75261938 0.76940195 0.76161335 0.75122856\n",
      " 0.77348169 0.80166898 0.78683357 0.78711173 0.78544274 0.78868799\n",
      " 0.81298099 0.80853037 0.81956421 0.82828002 0.82447844 0.8524803\n",
      " 0.82614743 0.84478442 0.83523412 0.8095503  0.7661567  0.78859527\n",
      " 0.79573482 0.80111266 0.8390357  0.81409365 0.81798795 0.81446453\n",
      " 0.80723227 0.7961057  0.79267501 0.80843764 0.8199351  0.80398702\n",
      " 0.75317571 0.81353732 0.80324525 0.80602689 0.79341678 0.79582754\n",
      " 0.76578581 0.76346778 0.67250811 0.73147891 0.72090867 0.70894761\n",
      " 0.68947612 0.65266574 0.65334874 0.63600498]\n",
      "2 day output [[0.62402505]]\n",
      "3 day input [0.80166898 0.82392211 0.77255447 0.78182661 0.82095503 0.78924432\n",
      " 0.76884562 0.82216041 0.80222531 0.77097821 0.77589244 0.7796013\n",
      " 0.78358832 0.77811776 0.78701901 0.80871581 0.82401484 0.82605471\n",
      " 0.81251739 0.81919332 0.81622624 0.84144645 0.8620306  0.82410756\n",
      " 0.78034307 0.79777469 0.78507186 0.79267501 0.7323134  0.73463143\n",
      " 0.72934631 0.76022253 0.76736208 0.7692165  0.74529439 0.77236903\n",
      " 0.7948076  0.79490032 0.79582754 0.79749652 0.78646268 0.79063514\n",
      " 0.79119147 0.75085767 0.70792768 0.72007418 0.751414   0.75484469\n",
      " 0.74603616 0.75261938 0.76940195 0.76161335 0.75122856 0.77348169\n",
      " 0.80166898 0.78683357 0.78711173 0.78544274 0.78868799 0.81298099\n",
      " 0.80853037 0.81956421 0.82828002 0.82447844 0.8524803  0.82614743\n",
      " 0.84478442 0.83523412 0.8095503  0.7661567  0.78859527 0.79573482\n",
      " 0.80111266 0.8390357  0.81409365 0.81798795 0.81446453 0.80723227\n",
      " 0.7961057  0.79267501 0.80843764 0.8199351  0.80398702 0.75317571\n",
      " 0.81353732 0.80324525 0.80602689 0.79341678 0.79582754 0.76578581\n",
      " 0.76346778 0.67250811 0.73147891 0.72090867 0.70894761 0.68947612\n",
      " 0.65266574 0.65334874 0.63600498 0.62402505]\n",
      "3 day output [[0.6139454]]\n",
      "4 day input [0.82392211 0.77255447 0.78182661 0.82095503 0.78924432 0.76884562\n",
      " 0.82216041 0.80222531 0.77097821 0.77589244 0.7796013  0.78358832\n",
      " 0.77811776 0.78701901 0.80871581 0.82401484 0.82605471 0.81251739\n",
      " 0.81919332 0.81622624 0.84144645 0.8620306  0.82410756 0.78034307\n",
      " 0.79777469 0.78507186 0.79267501 0.7323134  0.73463143 0.72934631\n",
      " 0.76022253 0.76736208 0.7692165  0.74529439 0.77236903 0.7948076\n",
      " 0.79490032 0.79582754 0.79749652 0.78646268 0.79063514 0.79119147\n",
      " 0.75085767 0.70792768 0.72007418 0.751414   0.75484469 0.74603616\n",
      " 0.75261938 0.76940195 0.76161335 0.75122856 0.77348169 0.80166898\n",
      " 0.78683357 0.78711173 0.78544274 0.78868799 0.81298099 0.80853037\n",
      " 0.81956421 0.82828002 0.82447844 0.8524803  0.82614743 0.84478442\n",
      " 0.83523412 0.8095503  0.7661567  0.78859527 0.79573482 0.80111266\n",
      " 0.8390357  0.81409365 0.81798795 0.81446453 0.80723227 0.7961057\n",
      " 0.79267501 0.80843764 0.8199351  0.80398702 0.75317571 0.81353732\n",
      " 0.80324525 0.80602689 0.79341678 0.79582754 0.76578581 0.76346778\n",
      " 0.67250811 0.73147891 0.72090867 0.70894761 0.68947612 0.65266574\n",
      " 0.65334874 0.63600498 0.62402505 0.61394542]\n",
      "4 day output [[0.6044987]]\n",
      "5 day input [0.77255447 0.78182661 0.82095503 0.78924432 0.76884562 0.82216041\n",
      " 0.80222531 0.77097821 0.77589244 0.7796013  0.78358832 0.77811776\n",
      " 0.78701901 0.80871581 0.82401484 0.82605471 0.81251739 0.81919332\n",
      " 0.81622624 0.84144645 0.8620306  0.82410756 0.78034307 0.79777469\n",
      " 0.78507186 0.79267501 0.7323134  0.73463143 0.72934631 0.76022253\n",
      " 0.76736208 0.7692165  0.74529439 0.77236903 0.7948076  0.79490032\n",
      " 0.79582754 0.79749652 0.78646268 0.79063514 0.79119147 0.75085767\n",
      " 0.70792768 0.72007418 0.751414   0.75484469 0.74603616 0.75261938\n",
      " 0.76940195 0.76161335 0.75122856 0.77348169 0.80166898 0.78683357\n",
      " 0.78711173 0.78544274 0.78868799 0.81298099 0.80853037 0.81956421\n",
      " 0.82828002 0.82447844 0.8524803  0.82614743 0.84478442 0.83523412\n",
      " 0.8095503  0.7661567  0.78859527 0.79573482 0.80111266 0.8390357\n",
      " 0.81409365 0.81798795 0.81446453 0.80723227 0.7961057  0.79267501\n",
      " 0.80843764 0.8199351  0.80398702 0.75317571 0.81353732 0.80324525\n",
      " 0.80602689 0.79341678 0.79582754 0.76578581 0.76346778 0.67250811\n",
      " 0.73147891 0.72090867 0.70894761 0.68947612 0.65266574 0.65334874\n",
      " 0.63600498 0.62402505 0.61394542 0.60449868]\n",
      "5 day output [[0.5952717]]\n",
      "6 day input [0.78182661 0.82095503 0.78924432 0.76884562 0.82216041 0.80222531\n",
      " 0.77097821 0.77589244 0.7796013  0.78358832 0.77811776 0.78701901\n",
      " 0.80871581 0.82401484 0.82605471 0.81251739 0.81919332 0.81622624\n",
      " 0.84144645 0.8620306  0.82410756 0.78034307 0.79777469 0.78507186\n",
      " 0.79267501 0.7323134  0.73463143 0.72934631 0.76022253 0.76736208\n",
      " 0.7692165  0.74529439 0.77236903 0.7948076  0.79490032 0.79582754\n",
      " 0.79749652 0.78646268 0.79063514 0.79119147 0.75085767 0.70792768\n",
      " 0.72007418 0.751414   0.75484469 0.74603616 0.75261938 0.76940195\n",
      " 0.76161335 0.75122856 0.77348169 0.80166898 0.78683357 0.78711173\n",
      " 0.78544274 0.78868799 0.81298099 0.80853037 0.81956421 0.82828002\n",
      " 0.82447844 0.8524803  0.82614743 0.84478442 0.83523412 0.8095503\n",
      " 0.7661567  0.78859527 0.79573482 0.80111266 0.8390357  0.81409365\n",
      " 0.81798795 0.81446453 0.80723227 0.7961057  0.79267501 0.80843764\n",
      " 0.8199351  0.80398702 0.75317571 0.81353732 0.80324525 0.80602689\n",
      " 0.79341678 0.79582754 0.76578581 0.76346778 0.67250811 0.73147891\n",
      " 0.72090867 0.70894761 0.68947612 0.65266574 0.65334874 0.63600498\n",
      " 0.62402505 0.61394542 0.60449868 0.59527171]\n",
      "6 day output [[0.5861649]]\n",
      "7 day input [0.82095503 0.78924432 0.76884562 0.82216041 0.80222531 0.77097821\n",
      " 0.77589244 0.7796013  0.78358832 0.77811776 0.78701901 0.80871581\n",
      " 0.82401484 0.82605471 0.81251739 0.81919332 0.81622624 0.84144645\n",
      " 0.8620306  0.82410756 0.78034307 0.79777469 0.78507186 0.79267501\n",
      " 0.7323134  0.73463143 0.72934631 0.76022253 0.76736208 0.7692165\n",
      " 0.74529439 0.77236903 0.7948076  0.79490032 0.79582754 0.79749652\n",
      " 0.78646268 0.79063514 0.79119147 0.75085767 0.70792768 0.72007418\n",
      " 0.751414   0.75484469 0.74603616 0.75261938 0.76940195 0.76161335\n",
      " 0.75122856 0.77348169 0.80166898 0.78683357 0.78711173 0.78544274\n",
      " 0.78868799 0.81298099 0.80853037 0.81956421 0.82828002 0.82447844\n",
      " 0.8524803  0.82614743 0.84478442 0.83523412 0.8095503  0.7661567\n",
      " 0.78859527 0.79573482 0.80111266 0.8390357  0.81409365 0.81798795\n",
      " 0.81446453 0.80723227 0.7961057  0.79267501 0.80843764 0.8199351\n",
      " 0.80398702 0.75317571 0.81353732 0.80324525 0.80602689 0.79341678\n",
      " 0.79582754 0.76578581 0.76346778 0.67250811 0.73147891 0.72090867\n",
      " 0.70894761 0.68947612 0.65266574 0.65334874 0.63600498 0.62402505\n",
      " 0.61394542 0.60449868 0.59527171 0.58616489]\n",
      "7 day output [[0.57718414]]\n",
      "8 day input [0.78924432 0.76884562 0.82216041 0.80222531 0.77097821 0.77589244\n",
      " 0.7796013  0.78358832 0.77811776 0.78701901 0.80871581 0.82401484\n",
      " 0.82605471 0.81251739 0.81919332 0.81622624 0.84144645 0.8620306\n",
      " 0.82410756 0.78034307 0.79777469 0.78507186 0.79267501 0.7323134\n",
      " 0.73463143 0.72934631 0.76022253 0.76736208 0.7692165  0.74529439\n",
      " 0.77236903 0.7948076  0.79490032 0.79582754 0.79749652 0.78646268\n",
      " 0.79063514 0.79119147 0.75085767 0.70792768 0.72007418 0.751414\n",
      " 0.75484469 0.74603616 0.75261938 0.76940195 0.76161335 0.75122856\n",
      " 0.77348169 0.80166898 0.78683357 0.78711173 0.78544274 0.78868799\n",
      " 0.81298099 0.80853037 0.81956421 0.82828002 0.82447844 0.8524803\n",
      " 0.82614743 0.84478442 0.83523412 0.8095503  0.7661567  0.78859527\n",
      " 0.79573482 0.80111266 0.8390357  0.81409365 0.81798795 0.81446453\n",
      " 0.80723227 0.7961057  0.79267501 0.80843764 0.8199351  0.80398702\n",
      " 0.75317571 0.81353732 0.80324525 0.80602689 0.79341678 0.79582754\n",
      " 0.76578581 0.76346778 0.67250811 0.73147891 0.72090867 0.70894761\n",
      " 0.68947612 0.65266574 0.65334874 0.63600498 0.62402505 0.61394542\n",
      " 0.60449868 0.59527171 0.58616489 0.57718414]\n"
     ]
    },
    {
     "name": "stdout",
     "output_type": "stream",
     "text": [
      "8 day output [[0.5683619]]\n",
      "9 day input [0.76884562 0.82216041 0.80222531 0.77097821 0.77589244 0.7796013\n",
      " 0.78358832 0.77811776 0.78701901 0.80871581 0.82401484 0.82605471\n",
      " 0.81251739 0.81919332 0.81622624 0.84144645 0.8620306  0.82410756\n",
      " 0.78034307 0.79777469 0.78507186 0.79267501 0.7323134  0.73463143\n",
      " 0.72934631 0.76022253 0.76736208 0.7692165  0.74529439 0.77236903\n",
      " 0.7948076  0.79490032 0.79582754 0.79749652 0.78646268 0.79063514\n",
      " 0.79119147 0.75085767 0.70792768 0.72007418 0.751414   0.75484469\n",
      " 0.74603616 0.75261938 0.76940195 0.76161335 0.75122856 0.77348169\n",
      " 0.80166898 0.78683357 0.78711173 0.78544274 0.78868799 0.81298099\n",
      " 0.80853037 0.81956421 0.82828002 0.82447844 0.8524803  0.82614743\n",
      " 0.84478442 0.83523412 0.8095503  0.7661567  0.78859527 0.79573482\n",
      " 0.80111266 0.8390357  0.81409365 0.81798795 0.81446453 0.80723227\n",
      " 0.7961057  0.79267501 0.80843764 0.8199351  0.80398702 0.75317571\n",
      " 0.81353732 0.80324525 0.80602689 0.79341678 0.79582754 0.76578581\n",
      " 0.76346778 0.67250811 0.73147891 0.72090867 0.70894761 0.68947612\n",
      " 0.65266574 0.65334874 0.63600498 0.62402505 0.61394542 0.60449868\n",
      " 0.59527171 0.58616489 0.57718414 0.56836188]\n",
      "9 day output [[0.55972475]]\n",
      "10 day input [0.82216041 0.80222531 0.77097821 0.77589244 0.7796013  0.78358832\n",
      " 0.77811776 0.78701901 0.80871581 0.82401484 0.82605471 0.81251739\n",
      " 0.81919332 0.81622624 0.84144645 0.8620306  0.82410756 0.78034307\n",
      " 0.79777469 0.78507186 0.79267501 0.7323134  0.73463143 0.72934631\n",
      " 0.76022253 0.76736208 0.7692165  0.74529439 0.77236903 0.7948076\n",
      " 0.79490032 0.79582754 0.79749652 0.78646268 0.79063514 0.79119147\n",
      " 0.75085767 0.70792768 0.72007418 0.751414   0.75484469 0.74603616\n",
      " 0.75261938 0.76940195 0.76161335 0.75122856 0.77348169 0.80166898\n",
      " 0.78683357 0.78711173 0.78544274 0.78868799 0.81298099 0.80853037\n",
      " 0.81956421 0.82828002 0.82447844 0.8524803  0.82614743 0.84478442\n",
      " 0.83523412 0.8095503  0.7661567  0.78859527 0.79573482 0.80111266\n",
      " 0.8390357  0.81409365 0.81798795 0.81446453 0.80723227 0.7961057\n",
      " 0.79267501 0.80843764 0.8199351  0.80398702 0.75317571 0.81353732\n",
      " 0.80324525 0.80602689 0.79341678 0.79582754 0.76578581 0.76346778\n",
      " 0.67250811 0.73147891 0.72090867 0.70894761 0.68947612 0.65266574\n",
      " 0.65334874 0.63600498 0.62402505 0.61394542 0.60449868 0.59527171\n",
      " 0.58616489 0.57718414 0.56836188 0.55972475]\n",
      "10 day output [[0.5512866]]\n",
      "11 day input [0.80222531 0.77097821 0.77589244 0.7796013  0.78358832 0.77811776\n",
      " 0.78701901 0.80871581 0.82401484 0.82605471 0.81251739 0.81919332\n",
      " 0.81622624 0.84144645 0.8620306  0.82410756 0.78034307 0.79777469\n",
      " 0.78507186 0.79267501 0.7323134  0.73463143 0.72934631 0.76022253\n",
      " 0.76736208 0.7692165  0.74529439 0.77236903 0.7948076  0.79490032\n",
      " 0.79582754 0.79749652 0.78646268 0.79063514 0.79119147 0.75085767\n",
      " 0.70792768 0.72007418 0.751414   0.75484469 0.74603616 0.75261938\n",
      " 0.76940195 0.76161335 0.75122856 0.77348169 0.80166898 0.78683357\n",
      " 0.78711173 0.78544274 0.78868799 0.81298099 0.80853037 0.81956421\n",
      " 0.82828002 0.82447844 0.8524803  0.82614743 0.84478442 0.83523412\n",
      " 0.8095503  0.7661567  0.78859527 0.79573482 0.80111266 0.8390357\n",
      " 0.81409365 0.81798795 0.81446453 0.80723227 0.7961057  0.79267501\n",
      " 0.80843764 0.8199351  0.80398702 0.75317571 0.81353732 0.80324525\n",
      " 0.80602689 0.79341678 0.79582754 0.76578581 0.76346778 0.67250811\n",
      " 0.73147891 0.72090867 0.70894761 0.68947612 0.65266574 0.65334874\n",
      " 0.63600498 0.62402505 0.61394542 0.60449868 0.59527171 0.58616489\n",
      " 0.57718414 0.56836188 0.55972475 0.55128658]\n",
      "11 day output [[0.5430508]]\n",
      "12 day input [0.77097821 0.77589244 0.7796013  0.78358832 0.77811776 0.78701901\n",
      " 0.80871581 0.82401484 0.82605471 0.81251739 0.81919332 0.81622624\n",
      " 0.84144645 0.8620306  0.82410756 0.78034307 0.79777469 0.78507186\n",
      " 0.79267501 0.7323134  0.73463143 0.72934631 0.76022253 0.76736208\n",
      " 0.7692165  0.74529439 0.77236903 0.7948076  0.79490032 0.79582754\n",
      " 0.79749652 0.78646268 0.79063514 0.79119147 0.75085767 0.70792768\n",
      " 0.72007418 0.751414   0.75484469 0.74603616 0.75261938 0.76940195\n",
      " 0.76161335 0.75122856 0.77348169 0.80166898 0.78683357 0.78711173\n",
      " 0.78544274 0.78868799 0.81298099 0.80853037 0.81956421 0.82828002\n",
      " 0.82447844 0.8524803  0.82614743 0.84478442 0.83523412 0.8095503\n",
      " 0.7661567  0.78859527 0.79573482 0.80111266 0.8390357  0.81409365\n",
      " 0.81798795 0.81446453 0.80723227 0.7961057  0.79267501 0.80843764\n",
      " 0.8199351  0.80398702 0.75317571 0.81353732 0.80324525 0.80602689\n",
      " 0.79341678 0.79582754 0.76578581 0.76346778 0.67250811 0.73147891\n",
      " 0.72090867 0.70894761 0.68947612 0.65266574 0.65334874 0.63600498\n",
      " 0.62402505 0.61394542 0.60449868 0.59527171 0.58616489 0.57718414\n",
      " 0.56836188 0.55972475 0.55128658 0.54305083]\n",
      "12 day output [[0.5350129]]\n",
      "13 day input [0.77589244 0.7796013  0.78358832 0.77811776 0.78701901 0.80871581\n",
      " 0.82401484 0.82605471 0.81251739 0.81919332 0.81622624 0.84144645\n",
      " 0.8620306  0.82410756 0.78034307 0.79777469 0.78507186 0.79267501\n",
      " 0.7323134  0.73463143 0.72934631 0.76022253 0.76736208 0.7692165\n",
      " 0.74529439 0.77236903 0.7948076  0.79490032 0.79582754 0.79749652\n",
      " 0.78646268 0.79063514 0.79119147 0.75085767 0.70792768 0.72007418\n",
      " 0.751414   0.75484469 0.74603616 0.75261938 0.76940195 0.76161335\n",
      " 0.75122856 0.77348169 0.80166898 0.78683357 0.78711173 0.78544274\n",
      " 0.78868799 0.81298099 0.80853037 0.81956421 0.82828002 0.82447844\n",
      " 0.8524803  0.82614743 0.84478442 0.83523412 0.8095503  0.7661567\n",
      " 0.78859527 0.79573482 0.80111266 0.8390357  0.81409365 0.81798795\n",
      " 0.81446453 0.80723227 0.7961057  0.79267501 0.80843764 0.8199351\n",
      " 0.80398702 0.75317571 0.81353732 0.80324525 0.80602689 0.79341678\n",
      " 0.79582754 0.76578581 0.76346778 0.67250811 0.73147891 0.72090867\n",
      " 0.70894761 0.68947612 0.65266574 0.65334874 0.63600498 0.62402505\n",
      " 0.61394542 0.60449868 0.59527171 0.58616489 0.57718414 0.56836188\n",
      " 0.55972475 0.55128658 0.54305083 0.5350129 ]\n",
      "13 day output [[0.5271663]]\n",
      "14 day input [0.7796013  0.78358832 0.77811776 0.78701901 0.80871581 0.82401484\n",
      " 0.82605471 0.81251739 0.81919332 0.81622624 0.84144645 0.8620306\n",
      " 0.82410756 0.78034307 0.79777469 0.78507186 0.79267501 0.7323134\n",
      " 0.73463143 0.72934631 0.76022253 0.76736208 0.7692165  0.74529439\n",
      " 0.77236903 0.7948076  0.79490032 0.79582754 0.79749652 0.78646268\n",
      " 0.79063514 0.79119147 0.75085767 0.70792768 0.72007418 0.751414\n",
      " 0.75484469 0.74603616 0.75261938 0.76940195 0.76161335 0.75122856\n",
      " 0.77348169 0.80166898 0.78683357 0.78711173 0.78544274 0.78868799\n",
      " 0.81298099 0.80853037 0.81956421 0.82828002 0.82447844 0.8524803\n",
      " 0.82614743 0.84478442 0.83523412 0.8095503  0.7661567  0.78859527\n",
      " 0.79573482 0.80111266 0.8390357  0.81409365 0.81798795 0.81446453\n",
      " 0.80723227 0.7961057  0.79267501 0.80843764 0.8199351  0.80398702\n",
      " 0.75317571 0.81353732 0.80324525 0.80602689 0.79341678 0.79582754\n",
      " 0.76578581 0.76346778 0.67250811 0.73147891 0.72090867 0.70894761\n",
      " 0.68947612 0.65266574 0.65334874 0.63600498 0.62402505 0.61394542\n",
      " 0.60449868 0.59527171 0.58616489 0.57718414 0.56836188 0.55972475\n",
      " 0.55128658 0.54305083 0.5350129  0.52716631]\n",
      "14 day output [[0.5195038]]\n",
      "15 day input [0.78358832 0.77811776 0.78701901 0.80871581 0.82401484 0.82605471\n",
      " 0.81251739 0.81919332 0.81622624 0.84144645 0.8620306  0.82410756\n",
      " 0.78034307 0.79777469 0.78507186 0.79267501 0.7323134  0.73463143\n",
      " 0.72934631 0.76022253 0.76736208 0.7692165  0.74529439 0.77236903\n",
      " 0.7948076  0.79490032 0.79582754 0.79749652 0.78646268 0.79063514\n",
      " 0.79119147 0.75085767 0.70792768 0.72007418 0.751414   0.75484469\n",
      " 0.74603616 0.75261938 0.76940195 0.76161335 0.75122856 0.77348169\n",
      " 0.80166898 0.78683357 0.78711173 0.78544274 0.78868799 0.81298099\n",
      " 0.80853037 0.81956421 0.82828002 0.82447844 0.8524803  0.82614743\n",
      " 0.84478442 0.83523412 0.8095503  0.7661567  0.78859527 0.79573482\n",
      " 0.80111266 0.8390357  0.81409365 0.81798795 0.81446453 0.80723227\n",
      " 0.7961057  0.79267501 0.80843764 0.8199351  0.80398702 0.75317571\n",
      " 0.81353732 0.80324525 0.80602689 0.79341678 0.79582754 0.76578581\n",
      " 0.76346778 0.67250811 0.73147891 0.72090867 0.70894761 0.68947612\n",
      " 0.65266574 0.65334874 0.63600498 0.62402505 0.61394542 0.60449868\n",
      " 0.59527171 0.58616489 0.57718414 0.56836188 0.55972475 0.55128658\n",
      " 0.54305083 0.5350129  0.52716631 0.51950377]\n",
      "15 day output [[0.5120198]]\n",
      "16 day input [0.77811776 0.78701901 0.80871581 0.82401484 0.82605471 0.81251739\n",
      " 0.81919332 0.81622624 0.84144645 0.8620306  0.82410756 0.78034307\n",
      " 0.79777469 0.78507186 0.79267501 0.7323134  0.73463143 0.72934631\n",
      " 0.76022253 0.76736208 0.7692165  0.74529439 0.77236903 0.7948076\n",
      " 0.79490032 0.79582754 0.79749652 0.78646268 0.79063514 0.79119147\n",
      " 0.75085767 0.70792768 0.72007418 0.751414   0.75484469 0.74603616\n",
      " 0.75261938 0.76940195 0.76161335 0.75122856 0.77348169 0.80166898\n",
      " 0.78683357 0.78711173 0.78544274 0.78868799 0.81298099 0.80853037\n",
      " 0.81956421 0.82828002 0.82447844 0.8524803  0.82614743 0.84478442\n",
      " 0.83523412 0.8095503  0.7661567  0.78859527 0.79573482 0.80111266\n",
      " 0.8390357  0.81409365 0.81798795 0.81446453 0.80723227 0.7961057\n",
      " 0.79267501 0.80843764 0.8199351  0.80398702 0.75317571 0.81353732\n",
      " 0.80324525 0.80602689 0.79341678 0.79582754 0.76578581 0.76346778\n",
      " 0.67250811 0.73147891 0.72090867 0.70894761 0.68947612 0.65266574\n",
      " 0.65334874 0.63600498 0.62402505 0.61394542 0.60449868 0.59527171\n",
      " 0.58616489 0.57718414 0.56836188 0.55972475 0.55128658 0.54305083\n",
      " 0.5350129  0.52716631 0.51950377 0.51201981]\n",
      "16 day output [[0.5047101]]\n",
      "17 day input [0.78701901 0.80871581 0.82401484 0.82605471 0.81251739 0.81919332\n",
      " 0.81622624 0.84144645 0.8620306  0.82410756 0.78034307 0.79777469\n",
      " 0.78507186 0.79267501 0.7323134  0.73463143 0.72934631 0.76022253\n",
      " 0.76736208 0.7692165  0.74529439 0.77236903 0.7948076  0.79490032\n",
      " 0.79582754 0.79749652 0.78646268 0.79063514 0.79119147 0.75085767\n",
      " 0.70792768 0.72007418 0.751414   0.75484469 0.74603616 0.75261938\n",
      " 0.76940195 0.76161335 0.75122856 0.77348169 0.80166898 0.78683357\n",
      " 0.78711173 0.78544274 0.78868799 0.81298099 0.80853037 0.81956421\n",
      " 0.82828002 0.82447844 0.8524803  0.82614743 0.84478442 0.83523412\n",
      " 0.8095503  0.7661567  0.78859527 0.79573482 0.80111266 0.8390357\n",
      " 0.81409365 0.81798795 0.81446453 0.80723227 0.7961057  0.79267501\n",
      " 0.80843764 0.8199351  0.80398702 0.75317571 0.81353732 0.80324525\n",
      " 0.80602689 0.79341678 0.79582754 0.76578581 0.76346778 0.67250811\n",
      " 0.73147891 0.72090867 0.70894761 0.68947612 0.65266574 0.65334874\n",
      " 0.63600498 0.62402505 0.61394542 0.60449868 0.59527171 0.58616489\n",
      " 0.57718414 0.56836188 0.55972475 0.55128658 0.54305083 0.5350129\n",
      " 0.52716631 0.51950377 0.51201981 0.50471008]\n",
      "17 day output [[0.49757105]]\n",
      "18 day input [0.80871581 0.82401484 0.82605471 0.81251739 0.81919332 0.81622624\n",
      " 0.84144645 0.8620306  0.82410756 0.78034307 0.79777469 0.78507186\n",
      " 0.79267501 0.7323134  0.73463143 0.72934631 0.76022253 0.76736208\n",
      " 0.7692165  0.74529439 0.77236903 0.7948076  0.79490032 0.79582754\n",
      " 0.79749652 0.78646268 0.79063514 0.79119147 0.75085767 0.70792768\n",
      " 0.72007418 0.751414   0.75484469 0.74603616 0.75261938 0.76940195\n",
      " 0.76161335 0.75122856 0.77348169 0.80166898 0.78683357 0.78711173\n",
      " 0.78544274 0.78868799 0.81298099 0.80853037 0.81956421 0.82828002\n",
      " 0.82447844 0.8524803  0.82614743 0.84478442 0.83523412 0.8095503\n",
      " 0.7661567  0.78859527 0.79573482 0.80111266 0.8390357  0.81409365\n",
      " 0.81798795 0.81446453 0.80723227 0.7961057  0.79267501 0.80843764\n",
      " 0.8199351  0.80398702 0.75317571 0.81353732 0.80324525 0.80602689\n",
      " 0.79341678 0.79582754 0.76578581 0.76346778 0.67250811 0.73147891\n",
      " 0.72090867 0.70894761 0.68947612 0.65266574 0.65334874 0.63600498\n",
      " 0.62402505 0.61394542 0.60449868 0.59527171 0.58616489 0.57718414\n",
      " 0.56836188 0.55972475 0.55128658 0.54305083 0.5350129  0.52716631\n",
      " 0.51950377 0.51201981 0.50471008 0.49757105]\n"
     ]
    },
    {
     "name": "stdout",
     "output_type": "stream",
     "text": [
      "18 day output [[0.49060026]]\n",
      "19 day input [0.82401484 0.82605471 0.81251739 0.81919332 0.81622624 0.84144645\n",
      " 0.8620306  0.82410756 0.78034307 0.79777469 0.78507186 0.79267501\n",
      " 0.7323134  0.73463143 0.72934631 0.76022253 0.76736208 0.7692165\n",
      " 0.74529439 0.77236903 0.7948076  0.79490032 0.79582754 0.79749652\n",
      " 0.78646268 0.79063514 0.79119147 0.75085767 0.70792768 0.72007418\n",
      " 0.751414   0.75484469 0.74603616 0.75261938 0.76940195 0.76161335\n",
      " 0.75122856 0.77348169 0.80166898 0.78683357 0.78711173 0.78544274\n",
      " 0.78868799 0.81298099 0.80853037 0.81956421 0.82828002 0.82447844\n",
      " 0.8524803  0.82614743 0.84478442 0.83523412 0.8095503  0.7661567\n",
      " 0.78859527 0.79573482 0.80111266 0.8390357  0.81409365 0.81798795\n",
      " 0.81446453 0.80723227 0.7961057  0.79267501 0.80843764 0.8199351\n",
      " 0.80398702 0.75317571 0.81353732 0.80324525 0.80602689 0.79341678\n",
      " 0.79582754 0.76578581 0.76346778 0.67250811 0.73147891 0.72090867\n",
      " 0.70894761 0.68947612 0.65266574 0.65334874 0.63600498 0.62402505\n",
      " 0.61394542 0.60449868 0.59527171 0.58616489 0.57718414 0.56836188\n",
      " 0.55972475 0.55128658 0.54305083 0.5350129  0.52716631 0.51950377\n",
      " 0.51201981 0.50471008 0.49757105 0.49060026]\n",
      "19 day output [[0.48379523]]\n",
      "20 day input [0.82605471 0.81251739 0.81919332 0.81622624 0.84144645 0.8620306\n",
      " 0.82410756 0.78034307 0.79777469 0.78507186 0.79267501 0.7323134\n",
      " 0.73463143 0.72934631 0.76022253 0.76736208 0.7692165  0.74529439\n",
      " 0.77236903 0.7948076  0.79490032 0.79582754 0.79749652 0.78646268\n",
      " 0.79063514 0.79119147 0.75085767 0.70792768 0.72007418 0.751414\n",
      " 0.75484469 0.74603616 0.75261938 0.76940195 0.76161335 0.75122856\n",
      " 0.77348169 0.80166898 0.78683357 0.78711173 0.78544274 0.78868799\n",
      " 0.81298099 0.80853037 0.81956421 0.82828002 0.82447844 0.8524803\n",
      " 0.82614743 0.84478442 0.83523412 0.8095503  0.7661567  0.78859527\n",
      " 0.79573482 0.80111266 0.8390357  0.81409365 0.81798795 0.81446453\n",
      " 0.80723227 0.7961057  0.79267501 0.80843764 0.8199351  0.80398702\n",
      " 0.75317571 0.81353732 0.80324525 0.80602689 0.79341678 0.79582754\n",
      " 0.76578581 0.76346778 0.67250811 0.73147891 0.72090867 0.70894761\n",
      " 0.68947612 0.65266574 0.65334874 0.63600498 0.62402505 0.61394542\n",
      " 0.60449868 0.59527171 0.58616489 0.57718414 0.56836188 0.55972475\n",
      " 0.55128658 0.54305083 0.5350129  0.52716631 0.51950377 0.51201981\n",
      " 0.50471008 0.49757105 0.49060026 0.48379523]\n",
      "20 day output [[0.47715327]]\n",
      "21 day input [0.81251739 0.81919332 0.81622624 0.84144645 0.8620306  0.82410756\n",
      " 0.78034307 0.79777469 0.78507186 0.79267501 0.7323134  0.73463143\n",
      " 0.72934631 0.76022253 0.76736208 0.7692165  0.74529439 0.77236903\n",
      " 0.7948076  0.79490032 0.79582754 0.79749652 0.78646268 0.79063514\n",
      " 0.79119147 0.75085767 0.70792768 0.72007418 0.751414   0.75484469\n",
      " 0.74603616 0.75261938 0.76940195 0.76161335 0.75122856 0.77348169\n",
      " 0.80166898 0.78683357 0.78711173 0.78544274 0.78868799 0.81298099\n",
      " 0.80853037 0.81956421 0.82828002 0.82447844 0.8524803  0.82614743\n",
      " 0.84478442 0.83523412 0.8095503  0.7661567  0.78859527 0.79573482\n",
      " 0.80111266 0.8390357  0.81409365 0.81798795 0.81446453 0.80723227\n",
      " 0.7961057  0.79267501 0.80843764 0.8199351  0.80398702 0.75317571\n",
      " 0.81353732 0.80324525 0.80602689 0.79341678 0.79582754 0.76578581\n",
      " 0.76346778 0.67250811 0.73147891 0.72090867 0.70894761 0.68947612\n",
      " 0.65266574 0.65334874 0.63600498 0.62402505 0.61394542 0.60449868\n",
      " 0.59527171 0.58616489 0.57718414 0.56836188 0.55972475 0.55128658\n",
      " 0.54305083 0.5350129  0.52716631 0.51950377 0.51201981 0.50471008\n",
      " 0.49757105 0.49060026 0.48379523 0.47715327]\n",
      "21 day output [[0.47067145]]\n",
      "22 day input [0.81919332 0.81622624 0.84144645 0.8620306  0.82410756 0.78034307\n",
      " 0.79777469 0.78507186 0.79267501 0.7323134  0.73463143 0.72934631\n",
      " 0.76022253 0.76736208 0.7692165  0.74529439 0.77236903 0.7948076\n",
      " 0.79490032 0.79582754 0.79749652 0.78646268 0.79063514 0.79119147\n",
      " 0.75085767 0.70792768 0.72007418 0.751414   0.75484469 0.74603616\n",
      " 0.75261938 0.76940195 0.76161335 0.75122856 0.77348169 0.80166898\n",
      " 0.78683357 0.78711173 0.78544274 0.78868799 0.81298099 0.80853037\n",
      " 0.81956421 0.82828002 0.82447844 0.8524803  0.82614743 0.84478442\n",
      " 0.83523412 0.8095503  0.7661567  0.78859527 0.79573482 0.80111266\n",
      " 0.8390357  0.81409365 0.81798795 0.81446453 0.80723227 0.7961057\n",
      " 0.79267501 0.80843764 0.8199351  0.80398702 0.75317571 0.81353732\n",
      " 0.80324525 0.80602689 0.79341678 0.79582754 0.76578581 0.76346778\n",
      " 0.67250811 0.73147891 0.72090867 0.70894761 0.68947612 0.65266574\n",
      " 0.65334874 0.63600498 0.62402505 0.61394542 0.60449868 0.59527171\n",
      " 0.58616489 0.57718414 0.56836188 0.55972475 0.55128658 0.54305083\n",
      " 0.5350129  0.52716631 0.51950377 0.51201981 0.50471008 0.49757105\n",
      " 0.49060026 0.48379523 0.47715327 0.47067145]\n",
      "22 day output [[0.46434626]]\n",
      "23 day input [0.81622624 0.84144645 0.8620306  0.82410756 0.78034307 0.79777469\n",
      " 0.78507186 0.79267501 0.7323134  0.73463143 0.72934631 0.76022253\n",
      " 0.76736208 0.7692165  0.74529439 0.77236903 0.7948076  0.79490032\n",
      " 0.79582754 0.79749652 0.78646268 0.79063514 0.79119147 0.75085767\n",
      " 0.70792768 0.72007418 0.751414   0.75484469 0.74603616 0.75261938\n",
      " 0.76940195 0.76161335 0.75122856 0.77348169 0.80166898 0.78683357\n",
      " 0.78711173 0.78544274 0.78868799 0.81298099 0.80853037 0.81956421\n",
      " 0.82828002 0.82447844 0.8524803  0.82614743 0.84478442 0.83523412\n",
      " 0.8095503  0.7661567  0.78859527 0.79573482 0.80111266 0.8390357\n",
      " 0.81409365 0.81798795 0.81446453 0.80723227 0.7961057  0.79267501\n",
      " 0.80843764 0.8199351  0.80398702 0.75317571 0.81353732 0.80324525\n",
      " 0.80602689 0.79341678 0.79582754 0.76578581 0.76346778 0.67250811\n",
      " 0.73147891 0.72090867 0.70894761 0.68947612 0.65266574 0.65334874\n",
      " 0.63600498 0.62402505 0.61394542 0.60449868 0.59527171 0.58616489\n",
      " 0.57718414 0.56836188 0.55972475 0.55128658 0.54305083 0.5350129\n",
      " 0.52716631 0.51950377 0.51201981 0.50471008 0.49757105 0.49060026\n",
      " 0.48379523 0.47715327 0.47067145 0.46434626]\n",
      "23 day output [[0.4581742]]\n",
      "24 day input [0.84144645 0.8620306  0.82410756 0.78034307 0.79777469 0.78507186\n",
      " 0.79267501 0.7323134  0.73463143 0.72934631 0.76022253 0.76736208\n",
      " 0.7692165  0.74529439 0.77236903 0.7948076  0.79490032 0.79582754\n",
      " 0.79749652 0.78646268 0.79063514 0.79119147 0.75085767 0.70792768\n",
      " 0.72007418 0.751414   0.75484469 0.74603616 0.75261938 0.76940195\n",
      " 0.76161335 0.75122856 0.77348169 0.80166898 0.78683357 0.78711173\n",
      " 0.78544274 0.78868799 0.81298099 0.80853037 0.81956421 0.82828002\n",
      " 0.82447844 0.8524803  0.82614743 0.84478442 0.83523412 0.8095503\n",
      " 0.7661567  0.78859527 0.79573482 0.80111266 0.8390357  0.81409365\n",
      " 0.81798795 0.81446453 0.80723227 0.7961057  0.79267501 0.80843764\n",
      " 0.8199351  0.80398702 0.75317571 0.81353732 0.80324525 0.80602689\n",
      " 0.79341678 0.79582754 0.76578581 0.76346778 0.67250811 0.73147891\n",
      " 0.72090867 0.70894761 0.68947612 0.65266574 0.65334874 0.63600498\n",
      " 0.62402505 0.61394542 0.60449868 0.59527171 0.58616489 0.57718414\n",
      " 0.56836188 0.55972475 0.55128658 0.54305083 0.5350129  0.52716631\n",
      " 0.51950377 0.51201981 0.50471008 0.49757105 0.49060026 0.48379523\n",
      " 0.47715327 0.47067145 0.46434626 0.4581742 ]\n",
      "24 day output [[0.45215097]]\n",
      "25 day input [0.8620306  0.82410756 0.78034307 0.79777469 0.78507186 0.79267501\n",
      " 0.7323134  0.73463143 0.72934631 0.76022253 0.76736208 0.7692165\n",
      " 0.74529439 0.77236903 0.7948076  0.79490032 0.79582754 0.79749652\n",
      " 0.78646268 0.79063514 0.79119147 0.75085767 0.70792768 0.72007418\n",
      " 0.751414   0.75484469 0.74603616 0.75261938 0.76940195 0.76161335\n",
      " 0.75122856 0.77348169 0.80166898 0.78683357 0.78711173 0.78544274\n",
      " 0.78868799 0.81298099 0.80853037 0.81956421 0.82828002 0.82447844\n",
      " 0.8524803  0.82614743 0.84478442 0.83523412 0.8095503  0.7661567\n",
      " 0.78859527 0.79573482 0.80111266 0.8390357  0.81409365 0.81798795\n",
      " 0.81446453 0.80723227 0.7961057  0.79267501 0.80843764 0.8199351\n",
      " 0.80398702 0.75317571 0.81353732 0.80324525 0.80602689 0.79341678\n",
      " 0.79582754 0.76578581 0.76346778 0.67250811 0.73147891 0.72090867\n",
      " 0.70894761 0.68947612 0.65266574 0.65334874 0.63600498 0.62402505\n",
      " 0.61394542 0.60449868 0.59527171 0.58616489 0.57718414 0.56836188\n",
      " 0.55972475 0.55128658 0.54305083 0.5350129  0.52716631 0.51950377\n",
      " 0.51201981 0.50471008 0.49757105 0.49060026 0.48379523 0.47715327\n",
      " 0.47067145 0.46434626 0.4581742  0.45215097]\n",
      "25 day output [[0.44627294]]\n",
      "26 day input [0.82410756 0.78034307 0.79777469 0.78507186 0.79267501 0.7323134\n",
      " 0.73463143 0.72934631 0.76022253 0.76736208 0.7692165  0.74529439\n",
      " 0.77236903 0.7948076  0.79490032 0.79582754 0.79749652 0.78646268\n",
      " 0.79063514 0.79119147 0.75085767 0.70792768 0.72007418 0.751414\n",
      " 0.75484469 0.74603616 0.75261938 0.76940195 0.76161335 0.75122856\n",
      " 0.77348169 0.80166898 0.78683357 0.78711173 0.78544274 0.78868799\n",
      " 0.81298099 0.80853037 0.81956421 0.82828002 0.82447844 0.8524803\n",
      " 0.82614743 0.84478442 0.83523412 0.8095503  0.7661567  0.78859527\n",
      " 0.79573482 0.80111266 0.8390357  0.81409365 0.81798795 0.81446453\n",
      " 0.80723227 0.7961057  0.79267501 0.80843764 0.8199351  0.80398702\n",
      " 0.75317571 0.81353732 0.80324525 0.80602689 0.79341678 0.79582754\n",
      " 0.76578581 0.76346778 0.67250811 0.73147891 0.72090867 0.70894761\n",
      " 0.68947612 0.65266574 0.65334874 0.63600498 0.62402505 0.61394542\n",
      " 0.60449868 0.59527171 0.58616489 0.57718414 0.56836188 0.55972475\n",
      " 0.55128658 0.54305083 0.5350129  0.52716631 0.51950377 0.51201981\n",
      " 0.50471008 0.49757105 0.49060026 0.48379523 0.47715327 0.47067145\n",
      " 0.46434626 0.4581742  0.45215097 0.44627294]\n",
      "26 day output [[0.44053572]]\n",
      "27 day input [0.78034307 0.79777469 0.78507186 0.79267501 0.7323134  0.73463143\n",
      " 0.72934631 0.76022253 0.76736208 0.7692165  0.74529439 0.77236903\n",
      " 0.7948076  0.79490032 0.79582754 0.79749652 0.78646268 0.79063514\n",
      " 0.79119147 0.75085767 0.70792768 0.72007418 0.751414   0.75484469\n",
      " 0.74603616 0.75261938 0.76940195 0.76161335 0.75122856 0.77348169\n",
      " 0.80166898 0.78683357 0.78711173 0.78544274 0.78868799 0.81298099\n",
      " 0.80853037 0.81956421 0.82828002 0.82447844 0.8524803  0.82614743\n",
      " 0.84478442 0.83523412 0.8095503  0.7661567  0.78859527 0.79573482\n",
      " 0.80111266 0.8390357  0.81409365 0.81798795 0.81446453 0.80723227\n",
      " 0.7961057  0.79267501 0.80843764 0.8199351  0.80398702 0.75317571\n",
      " 0.81353732 0.80324525 0.80602689 0.79341678 0.79582754 0.76578581\n",
      " 0.76346778 0.67250811 0.73147891 0.72090867 0.70894761 0.68947612\n",
      " 0.65266574 0.65334874 0.63600498 0.62402505 0.61394542 0.60449868\n",
      " 0.59527171 0.58616489 0.57718414 0.56836188 0.55972475 0.55128658\n",
      " 0.54305083 0.5350129  0.52716631 0.51950377 0.51201981 0.50471008\n",
      " 0.49757105 0.49060026 0.48379523 0.47715327 0.47067145 0.46434626\n",
      " 0.4581742  0.45215097 0.44627294 0.44053572]\n",
      "27 day output [[0.43493527]]\n",
      "28 day input [0.79777469 0.78507186 0.79267501 0.7323134  0.73463143 0.72934631\n",
      " 0.76022253 0.76736208 0.7692165  0.74529439 0.77236903 0.7948076\n",
      " 0.79490032 0.79582754 0.79749652 0.78646268 0.79063514 0.79119147\n",
      " 0.75085767 0.70792768 0.72007418 0.751414   0.75484469 0.74603616\n",
      " 0.75261938 0.76940195 0.76161335 0.75122856 0.77348169 0.80166898\n",
      " 0.78683357 0.78711173 0.78544274 0.78868799 0.81298099 0.80853037\n",
      " 0.81956421 0.82828002 0.82447844 0.8524803  0.82614743 0.84478442\n",
      " 0.83523412 0.8095503  0.7661567  0.78859527 0.79573482 0.80111266\n",
      " 0.8390357  0.81409365 0.81798795 0.81446453 0.80723227 0.7961057\n",
      " 0.79267501 0.80843764 0.8199351  0.80398702 0.75317571 0.81353732\n",
      " 0.80324525 0.80602689 0.79341678 0.79582754 0.76578581 0.76346778\n",
      " 0.67250811 0.73147891 0.72090867 0.70894761 0.68947612 0.65266574\n",
      " 0.65334874 0.63600498 0.62402505 0.61394542 0.60449868 0.59527171\n",
      " 0.58616489 0.57718414 0.56836188 0.55972475 0.55128658 0.54305083\n",
      " 0.5350129  0.52716631 0.51950377 0.51201981 0.50471008 0.49757105\n",
      " 0.49060026 0.48379523 0.47715327 0.47067145 0.46434626 0.4581742\n",
      " 0.45215097 0.44627294 0.44053572 0.43493527]\n"
     ]
    },
    {
     "name": "stdout",
     "output_type": "stream",
     "text": [
      "28 day output [[0.42946774]]\n",
      "29 day input [0.78507186 0.79267501 0.7323134  0.73463143 0.72934631 0.76022253\n",
      " 0.76736208 0.7692165  0.74529439 0.77236903 0.7948076  0.79490032\n",
      " 0.79582754 0.79749652 0.78646268 0.79063514 0.79119147 0.75085767\n",
      " 0.70792768 0.72007418 0.751414   0.75484469 0.74603616 0.75261938\n",
      " 0.76940195 0.76161335 0.75122856 0.77348169 0.80166898 0.78683357\n",
      " 0.78711173 0.78544274 0.78868799 0.81298099 0.80853037 0.81956421\n",
      " 0.82828002 0.82447844 0.8524803  0.82614743 0.84478442 0.83523412\n",
      " 0.8095503  0.7661567  0.78859527 0.79573482 0.80111266 0.8390357\n",
      " 0.81409365 0.81798795 0.81446453 0.80723227 0.7961057  0.79267501\n",
      " 0.80843764 0.8199351  0.80398702 0.75317571 0.81353732 0.80324525\n",
      " 0.80602689 0.79341678 0.79582754 0.76578581 0.76346778 0.67250811\n",
      " 0.73147891 0.72090867 0.70894761 0.68947612 0.65266574 0.65334874\n",
      " 0.63600498 0.62402505 0.61394542 0.60449868 0.59527171 0.58616489\n",
      " 0.57718414 0.56836188 0.55972475 0.55128658 0.54305083 0.5350129\n",
      " 0.52716631 0.51950377 0.51201981 0.50471008 0.49757105 0.49060026\n",
      " 0.48379523 0.47715327 0.47067145 0.46434626 0.4581742  0.45215097\n",
      " 0.44627294 0.44053572 0.43493527 0.42946774]\n",
      "29 day output [[0.42412943]]\n",
      "[[0.6533487439155579], [0.6533487439155579], [0.6360049843788147], [0.6240250468254089], [0.6139454245567322], [0.6044986844062805], [0.5952717065811157], [0.5861648917198181], [0.5771841406822205], [0.5683618783950806], [0.559724748134613], [0.5512865781784058], [0.5430508255958557], [0.5350129008293152], [0.5271663069725037], [0.5195037722587585], [0.5120198130607605], [0.5047100782394409], [0.49757105112075806], [0.49060025811195374], [0.4837952256202698], [0.4771532714366913], [0.4706714451313019], [0.4643462598323822], [0.4581741988658905], [0.45215097069740295], [0.44627293944358826], [0.4405357241630554], [0.4349352717399597], [0.42946773767471313], [0.4241294264793396]]\n"
     ]
    }
   ],
   "source": [
    "#demonstrate prediction for next 30 days\n",
    "from numpy import array\n",
    "\n",
    "lst_output=[]\n",
    "n_steps=100\n",
    "i=0\n",
    "while(i<30):\n",
    "    \n",
    "    if(len(temp_input)>100):\n",
    "        #print(temp_input)\n",
    "        x_input=np.array(temp_input[1:])\n",
    "        print(\"{} day input {}\".format(i,x_input))\n",
    "        x_input=x_input.reshape(1,-1)\n",
    "        x_input=x_input.reshape((1,n_steps,1))\n",
    "        #print(x_input)\n",
    "        yhat=model.predict(x_input,verbose=0)\n",
    "        print(\"{} day output {}\".format(i,yhat))\n",
    "        temp_input.extend(yhat[0].tolist())\n",
    "        temp_input=temp_input[1:]\n",
    "        #print(temp_input)\n",
    "        lst_output.extend(yhat.tolist())\n",
    "        i=i+1\n",
    "    else:\n",
    "        x_input = x_input.reshape((1, n_steps,1))\n",
    "        yhat = model.predict(x_input, verbose=0)\n",
    "        print(yhat[0])\n",
    "        temp_input.extend(yhat[0].tolist())\n",
    "        print(len(temp_input))\n",
    "        lst_output.extend(yhat.tolist())\n",
    "        print(len(temp_input))\n",
    "        print(len(temp_input))\n",
    "        lst_output.extend(yhat.tolist())\n",
    "        i=i+1\n",
    "        \n",
    "print(lst_output)\n",
    "        "
   ]
  },
  {
   "cell_type": "code",
   "execution_count": 323,
   "id": "68a64e3a",
   "metadata": {},
   "outputs": [],
   "source": [
    "day_new=np.arange(1,101)\n",
    "day_pred=np.arange(101,131)"
   ]
  },
  {
   "cell_type": "code",
   "execution_count": 324,
   "id": "ec2becc2",
   "metadata": {},
   "outputs": [
    {
     "data": {
      "text/plain": [
       "2480"
      ]
     },
     "execution_count": 324,
     "metadata": {},
     "output_type": "execute_result"
    }
   ],
   "source": [
    "len(model2)"
   ]
  },
  {
   "cell_type": "code",
   "execution_count": 325,
   "id": "de328b44",
   "metadata": {},
   "outputs": [],
   "source": [
    "model3=model2.tolist()\n",
    "model3.extend(lst_output)"
   ]
  },
  {
   "cell_type": "code",
   "execution_count": 326,
   "id": "a99f9c35",
   "metadata": {
    "scrolled": true
   },
   "outputs": [
    {
     "ename": "ValueError",
     "evalue": "x and y must have same first dimension, but have shapes (30,) and (31, 1)",
     "output_type": "error",
     "traceback": [
      "\u001b[1;31m---------------------------------------------------------------------------\u001b[0m",
      "\u001b[1;31mValueError\u001b[0m                                Traceback (most recent call last)",
      "\u001b[1;32m<ipython-input-326-3b00a77202cb>\u001b[0m in \u001b[0;36m<module>\u001b[1;34m\u001b[0m\n\u001b[0;32m      1\u001b[0m \u001b[0mplt\u001b[0m\u001b[1;33m.\u001b[0m\u001b[0mplot\u001b[0m\u001b[1;33m(\u001b[0m\u001b[0mday_new\u001b[0m\u001b[1;33m,\u001b[0m\u001b[0mscaler\u001b[0m\u001b[1;33m.\u001b[0m\u001b[0minverse_transform\u001b[0m\u001b[1;33m(\u001b[0m\u001b[0mmodel2\u001b[0m\u001b[1;33m[\u001b[0m\u001b[1;36m2380\u001b[0m\u001b[1;33m:\u001b[0m\u001b[1;33m]\u001b[0m\u001b[1;33m)\u001b[0m\u001b[1;33m)\u001b[0m\u001b[1;33m\u001b[0m\u001b[1;33m\u001b[0m\u001b[0m\n\u001b[1;32m----> 2\u001b[1;33m \u001b[0mplt\u001b[0m\u001b[1;33m.\u001b[0m\u001b[0mplot\u001b[0m\u001b[1;33m(\u001b[0m\u001b[0mday_pred\u001b[0m\u001b[1;33m,\u001b[0m\u001b[0mscaler\u001b[0m\u001b[1;33m.\u001b[0m\u001b[0minverse_transform\u001b[0m\u001b[1;33m(\u001b[0m\u001b[0mlst_output\u001b[0m\u001b[1;33m)\u001b[0m\u001b[1;33m)\u001b[0m\u001b[1;33m\u001b[0m\u001b[1;33m\u001b[0m\u001b[0m\n\u001b[0m",
      "\u001b[1;32m~\\anaconda3\\lib\\site-packages\\matplotlib\\pyplot.py\u001b[0m in \u001b[0;36mplot\u001b[1;34m(scalex, scaley, data, *args, **kwargs)\u001b[0m\n\u001b[0;32m   2838\u001b[0m \u001b[1;33m@\u001b[0m\u001b[0m_copy_docstring_and_deprecators\u001b[0m\u001b[1;33m(\u001b[0m\u001b[0mAxes\u001b[0m\u001b[1;33m.\u001b[0m\u001b[0mplot\u001b[0m\u001b[1;33m)\u001b[0m\u001b[1;33m\u001b[0m\u001b[1;33m\u001b[0m\u001b[0m\n\u001b[0;32m   2839\u001b[0m \u001b[1;32mdef\u001b[0m \u001b[0mplot\u001b[0m\u001b[1;33m(\u001b[0m\u001b[1;33m*\u001b[0m\u001b[0margs\u001b[0m\u001b[1;33m,\u001b[0m \u001b[0mscalex\u001b[0m\u001b[1;33m=\u001b[0m\u001b[1;32mTrue\u001b[0m\u001b[1;33m,\u001b[0m \u001b[0mscaley\u001b[0m\u001b[1;33m=\u001b[0m\u001b[1;32mTrue\u001b[0m\u001b[1;33m,\u001b[0m \u001b[0mdata\u001b[0m\u001b[1;33m=\u001b[0m\u001b[1;32mNone\u001b[0m\u001b[1;33m,\u001b[0m \u001b[1;33m**\u001b[0m\u001b[0mkwargs\u001b[0m\u001b[1;33m)\u001b[0m\u001b[1;33m:\u001b[0m\u001b[1;33m\u001b[0m\u001b[1;33m\u001b[0m\u001b[0m\n\u001b[1;32m-> 2840\u001b[1;33m     return gca().plot(\n\u001b[0m\u001b[0;32m   2841\u001b[0m         \u001b[1;33m*\u001b[0m\u001b[0margs\u001b[0m\u001b[1;33m,\u001b[0m \u001b[0mscalex\u001b[0m\u001b[1;33m=\u001b[0m\u001b[0mscalex\u001b[0m\u001b[1;33m,\u001b[0m \u001b[0mscaley\u001b[0m\u001b[1;33m=\u001b[0m\u001b[0mscaley\u001b[0m\u001b[1;33m,\u001b[0m\u001b[1;33m\u001b[0m\u001b[1;33m\u001b[0m\u001b[0m\n\u001b[0;32m   2842\u001b[0m         **({\"data\": data} if data is not None else {}), **kwargs)\n",
      "\u001b[1;32m~\\anaconda3\\lib\\site-packages\\matplotlib\\axes\\_axes.py\u001b[0m in \u001b[0;36mplot\u001b[1;34m(self, scalex, scaley, data, *args, **kwargs)\u001b[0m\n\u001b[0;32m   1741\u001b[0m         \"\"\"\n\u001b[0;32m   1742\u001b[0m         \u001b[0mkwargs\u001b[0m \u001b[1;33m=\u001b[0m \u001b[0mcbook\u001b[0m\u001b[1;33m.\u001b[0m\u001b[0mnormalize_kwargs\u001b[0m\u001b[1;33m(\u001b[0m\u001b[0mkwargs\u001b[0m\u001b[1;33m,\u001b[0m \u001b[0mmlines\u001b[0m\u001b[1;33m.\u001b[0m\u001b[0mLine2D\u001b[0m\u001b[1;33m)\u001b[0m\u001b[1;33m\u001b[0m\u001b[1;33m\u001b[0m\u001b[0m\n\u001b[1;32m-> 1743\u001b[1;33m         \u001b[0mlines\u001b[0m \u001b[1;33m=\u001b[0m \u001b[1;33m[\u001b[0m\u001b[1;33m*\u001b[0m\u001b[0mself\u001b[0m\u001b[1;33m.\u001b[0m\u001b[0m_get_lines\u001b[0m\u001b[1;33m(\u001b[0m\u001b[1;33m*\u001b[0m\u001b[0margs\u001b[0m\u001b[1;33m,\u001b[0m \u001b[0mdata\u001b[0m\u001b[1;33m=\u001b[0m\u001b[0mdata\u001b[0m\u001b[1;33m,\u001b[0m \u001b[1;33m**\u001b[0m\u001b[0mkwargs\u001b[0m\u001b[1;33m)\u001b[0m\u001b[1;33m]\u001b[0m\u001b[1;33m\u001b[0m\u001b[1;33m\u001b[0m\u001b[0m\n\u001b[0m\u001b[0;32m   1744\u001b[0m         \u001b[1;32mfor\u001b[0m \u001b[0mline\u001b[0m \u001b[1;32min\u001b[0m \u001b[0mlines\u001b[0m\u001b[1;33m:\u001b[0m\u001b[1;33m\u001b[0m\u001b[1;33m\u001b[0m\u001b[0m\n\u001b[0;32m   1745\u001b[0m             \u001b[0mself\u001b[0m\u001b[1;33m.\u001b[0m\u001b[0madd_line\u001b[0m\u001b[1;33m(\u001b[0m\u001b[0mline\u001b[0m\u001b[1;33m)\u001b[0m\u001b[1;33m\u001b[0m\u001b[1;33m\u001b[0m\u001b[0m\n",
      "\u001b[1;32m~\\anaconda3\\lib\\site-packages\\matplotlib\\axes\\_base.py\u001b[0m in \u001b[0;36m__call__\u001b[1;34m(self, data, *args, **kwargs)\u001b[0m\n\u001b[0;32m    271\u001b[0m                 \u001b[0mthis\u001b[0m \u001b[1;33m+=\u001b[0m \u001b[0margs\u001b[0m\u001b[1;33m[\u001b[0m\u001b[1;36m0\u001b[0m\u001b[1;33m]\u001b[0m\u001b[1;33m,\u001b[0m\u001b[1;33m\u001b[0m\u001b[1;33m\u001b[0m\u001b[0m\n\u001b[0;32m    272\u001b[0m                 \u001b[0margs\u001b[0m \u001b[1;33m=\u001b[0m \u001b[0margs\u001b[0m\u001b[1;33m[\u001b[0m\u001b[1;36m1\u001b[0m\u001b[1;33m:\u001b[0m\u001b[1;33m]\u001b[0m\u001b[1;33m\u001b[0m\u001b[1;33m\u001b[0m\u001b[0m\n\u001b[1;32m--> 273\u001b[1;33m             \u001b[1;32myield\u001b[0m \u001b[1;32mfrom\u001b[0m \u001b[0mself\u001b[0m\u001b[1;33m.\u001b[0m\u001b[0m_plot_args\u001b[0m\u001b[1;33m(\u001b[0m\u001b[0mthis\u001b[0m\u001b[1;33m,\u001b[0m \u001b[0mkwargs\u001b[0m\u001b[1;33m)\u001b[0m\u001b[1;33m\u001b[0m\u001b[1;33m\u001b[0m\u001b[0m\n\u001b[0m\u001b[0;32m    274\u001b[0m \u001b[1;33m\u001b[0m\u001b[0m\n\u001b[0;32m    275\u001b[0m     \u001b[1;32mdef\u001b[0m \u001b[0mget_next_color\u001b[0m\u001b[1;33m(\u001b[0m\u001b[0mself\u001b[0m\u001b[1;33m)\u001b[0m\u001b[1;33m:\u001b[0m\u001b[1;33m\u001b[0m\u001b[1;33m\u001b[0m\u001b[0m\n",
      "\u001b[1;32m~\\anaconda3\\lib\\site-packages\\matplotlib\\axes\\_base.py\u001b[0m in \u001b[0;36m_plot_args\u001b[1;34m(self, tup, kwargs)\u001b[0m\n\u001b[0;32m    397\u001b[0m \u001b[1;33m\u001b[0m\u001b[0m\n\u001b[0;32m    398\u001b[0m         \u001b[1;32mif\u001b[0m \u001b[0mx\u001b[0m\u001b[1;33m.\u001b[0m\u001b[0mshape\u001b[0m\u001b[1;33m[\u001b[0m\u001b[1;36m0\u001b[0m\u001b[1;33m]\u001b[0m \u001b[1;33m!=\u001b[0m \u001b[0my\u001b[0m\u001b[1;33m.\u001b[0m\u001b[0mshape\u001b[0m\u001b[1;33m[\u001b[0m\u001b[1;36m0\u001b[0m\u001b[1;33m]\u001b[0m\u001b[1;33m:\u001b[0m\u001b[1;33m\u001b[0m\u001b[1;33m\u001b[0m\u001b[0m\n\u001b[1;32m--> 399\u001b[1;33m             raise ValueError(f\"x and y must have same first dimension, but \"\n\u001b[0m\u001b[0;32m    400\u001b[0m                              f\"have shapes {x.shape} and {y.shape}\")\n\u001b[0;32m    401\u001b[0m         \u001b[1;32mif\u001b[0m \u001b[0mx\u001b[0m\u001b[1;33m.\u001b[0m\u001b[0mndim\u001b[0m \u001b[1;33m>\u001b[0m \u001b[1;36m2\u001b[0m \u001b[1;32mor\u001b[0m \u001b[0my\u001b[0m\u001b[1;33m.\u001b[0m\u001b[0mndim\u001b[0m \u001b[1;33m>\u001b[0m \u001b[1;36m2\u001b[0m\u001b[1;33m:\u001b[0m\u001b[1;33m\u001b[0m\u001b[1;33m\u001b[0m\u001b[0m\n",
      "\u001b[1;31mValueError\u001b[0m: x and y must have same first dimension, but have shapes (30,) and (31, 1)"
     ]
    },
    {
     "data": {
      "image/png": "[encoded data removed]",
      "text/plain": [
       "<Figure size 864x360 with 1 Axes>"
      ]
     },
     "metadata": {
      "needs_background": "light"
     },
     "output_type": "display_data"
    }
   ],
   "source": [
    "plt.plot(day_new,scaler.inverse_transform(model2[2380:]))\n",
    "plt.plot(day_pred,scaler.inverse_transform(lst_output))"
   ]
  },
  {
   "cell_type": "code",
   "execution_count": 327,
   "id": "7d92267b",
   "metadata": {},
   "outputs": [
    {
     "data": {
      "text/plain": [
       "[<matplotlib.lines.Line2D at 0x221f16c3220>]"
      ]
     },
     "execution_count": 327,
     "metadata": {},
     "output_type": "execute_result"
    },
    {
     "data": {
      "image/png": "[encoded data removed]",
      "text/plain": [
       "<Figure size 864x360 with 1 Axes>"
      ]
     },
     "metadata": {
      "needs_background": "light"
     },
     "output_type": "display_data"
    }
   ],
   "source": [
    "model3=model2.tolist()\n",
    "model3.extend(lst_output)\n",
    "plt.plot(model3[2000:])"
   ]
  },
  {
   "cell_type": "code",
   "execution_count": null,
   "id": "35c93cac",
   "metadata": {},
   "outputs": [],
   "source": []
  },
  {
   "cell_type": "code",
   "execution_count": null,
   "id": "7208c47a",
   "metadata": {},
   "outputs": [],
   "source": []
  }
 ],
 "metadata": {
  "kernelspec": {
   "display_name": "Python 3",
   "language": "python",
   "name": "python3"
  },
  "language_info": {
   "codemirror_mode": {
    "name": "ipython",
    "version": 3
   },
   "file_extension": ".py",
   "mimetype": "text/x-python",
   "name": "python",
   "nbconvert_exporter": "python",
   "pygments_lexer": "ipython3",
   "version": "3.8.8"
  }
 },
 "nbformat": 4,
 "nbformat_minor": 5
}
